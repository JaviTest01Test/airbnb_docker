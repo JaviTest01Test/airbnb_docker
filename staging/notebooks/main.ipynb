{
 "cells": [
  {
   "cell_type": "markdown",
   "metadata": {
    "id": "ExGZystyH3gw"
   },
   "source": [
    "# Location"
   ]
  },
  {
   "cell_type": "code",
   "execution_count": 1,
   "metadata": {
    "colab": {
     "base_uri": "https://localhost:8080/"
    },
    "executionInfo": {
     "elapsed": 207,
     "status": "ok",
     "timestamp": 1738058477377,
     "user": {
      "displayName": "Javier Alhambra",
      "userId": "08990227891354213622"
     },
     "user_tz": -60
    },
    "id": "m2-unRUWJ60N",
    "outputId": "e0295655-5ee9-4bfd-bcbe-5fbffeee82c1"
   },
   "outputs": [
    {
     "name": "stdout",
     "output_type": "stream",
     "text": [
      "Current directory: /airbnb_project/notebooks\n"
     ]
    }
   ],
   "source": [
    "import os\n",
    "\n",
    "# In Colab, the notebook is mounted in Google Drive at '/content'\n",
    "\n",
    "# Try to detect the environment dynamically\n",
    "if 'COLAB_GPU' in os.environ:  # Check if running in Colab\n",
    "    # Colab path where the notebook is located\n",
    "    notebook_directory = '/content/drive/MyDrive/airbnb_project/notebooks/'\n",
    "elif os.path.exists('/airbnb_project/notebooks'):  # Check if running in Docker\n",
    "    # Docker path where the notebook is located\n",
    "    notebook_directory = '/airbnb_project/notebooks/'\n",
    "else:\n",
    "    # Default fallback if not in either environment\n",
    "    os.chdir('./airbnb_project/notebooks')\n",
    "    notebook_directory = os.getcwd()\n",
    "\n",
    "# Change the current working directory to the notebook's location\n",
    "os.chdir(notebook_directory)\n",
    "\n",
    "# Verify the current directory\n",
    "print(\"Current directory:\", os.getcwd())\n"
   ]
  },
  {
   "cell_type": "markdown",
   "metadata": {
    "id": "BX4uMNgPLfAG"
   },
   "source": [
    "# Libraries"
   ]
  },
  {
   "cell_type": "code",
   "execution_count": 2,
   "metadata": {
    "executionInfo": {
     "elapsed": 372,
     "status": "ok",
     "timestamp": 1738058480023,
     "user": {
      "displayName": "Javier Alhambra",
      "userId": "08990227891354213622"
     },
     "user_tz": -60
    },
    "id": "UchUkmJNkdNc"
   },
   "outputs": [],
   "source": [
    "import sys\n",
    "sys.path.append('../src')"
   ]
  },
  {
   "cell_type": "code",
   "execution_count": 3,
   "metadata": {
    "colab": {
     "base_uri": "https://localhost:8080/"
    },
    "executionInfo": {
     "elapsed": 10504,
     "status": "ok",
     "timestamp": 1738063530715,
     "user": {
      "displayName": "Javier Alhambra",
      "userId": "08990227891354213622"
     },
     "user_tz": -60
    },
    "id": "i2rLdgBGIP_p",
    "outputId": "2022a873-9bc0-447b-9747-ac34d18963dd"
   },
   "outputs": [
    {
     "name": "stdout",
     "output_type": "stream",
     "text": [
      "\u001b[33mWARNING: The directory '/home/jovyan/.cache/pip' or its parent directory is not owned or is not writable by the current user. The cache has been disabled. Check the permissions and owner of that directory. If executing pip with sudo, you should use sudo's -H flag.\u001b[0m\u001b[33m\n",
      "\u001b[0mRequirement already satisfied: pyspark in /opt/conda/lib/python3.11/site-packages (3.5.4)\n",
      "Requirement already satisfied: py4j==0.10.9.7 in /opt/conda/lib/python3.11/site-packages (from pyspark) (0.10.9.7)\n",
      "\u001b[33mWARNING: Running pip as the 'root' user can result in broken permissions and conflicting behaviour with the system package manager. It is recommended to use a virtual environment instead: https://pip.pypa.io/warnings/venv\u001b[0m\u001b[33m\n",
      "\u001b[0mNote: you may need to restart the kernel to use updated packages.\n",
      "\u001b[33mWARNING: The directory '/home/jovyan/.cache/pip' or its parent directory is not owned or is not writable by the current user. The cache has been disabled. Check the permissions and owner of that directory. If executing pip with sudo, you should use sudo's -H flag.\u001b[0m\u001b[33m\n",
      "\u001b[0mRequirement already satisfied: openpyxl in /opt/conda/lib/python3.11/site-packages (3.1.2)\n",
      "Requirement already satisfied: et-xmlfile in /opt/conda/lib/python3.11/site-packages (from openpyxl) (1.1.0)\n",
      "\u001b[33mWARNING: Running pip as the 'root' user can result in broken permissions and conflicting behaviour with the system package manager. It is recommended to use a virtual environment instead: https://pip.pypa.io/warnings/venv\u001b[0m\u001b[33m\n",
      "\u001b[0mNote: you may need to restart the kernel to use updated packages.\n",
      "\u001b[33mWARNING: The directory '/home/jovyan/.cache/pip' or its parent directory is not owned or is not writable by the current user. The cache has been disabled. Check the permissions and owner of that directory. If executing pip with sudo, you should use sudo's -H flag.\u001b[0m\u001b[33m\n",
      "\u001b[0mRequirement already satisfied: matplotlib in /opt/conda/lib/python3.11/site-packages (3.8.0)\n",
      "Requirement already satisfied: contourpy>=1.0.1 in /opt/conda/lib/python3.11/site-packages (from matplotlib) (1.1.1)\n",
      "Requirement already satisfied: cycler>=0.10 in /opt/conda/lib/python3.11/site-packages (from matplotlib) (0.12.1)\n",
      "Requirement already satisfied: fonttools>=4.22.0 in /opt/conda/lib/python3.11/site-packages (from matplotlib) (4.43.1)\n",
      "Requirement already satisfied: kiwisolver>=1.0.1 in /opt/conda/lib/python3.11/site-packages (from matplotlib) (1.4.5)\n",
      "Requirement already satisfied: numpy<2,>=1.21 in /opt/conda/lib/python3.11/site-packages (from matplotlib) (1.24.4)\n",
      "Requirement already satisfied: packaging>=20.0 in /opt/conda/lib/python3.11/site-packages (from matplotlib) (23.2)\n",
      "Requirement already satisfied: pillow>=6.2.0 in /opt/conda/lib/python3.11/site-packages (from matplotlib) (10.1.0)\n",
      "Requirement already satisfied: pyparsing>=2.3.1 in /opt/conda/lib/python3.11/site-packages (from matplotlib) (3.1.1)\n",
      "Requirement already satisfied: python-dateutil>=2.7 in /opt/conda/lib/python3.11/site-packages (from matplotlib) (2.8.2)\n",
      "Requirement already satisfied: six>=1.5 in /opt/conda/lib/python3.11/site-packages (from python-dateutil>=2.7->matplotlib) (1.16.0)\n",
      "\u001b[33mWARNING: Running pip as the 'root' user can result in broken permissions and conflicting behaviour with the system package manager. It is recommended to use a virtual environment instead: https://pip.pypa.io/warnings/venv\u001b[0m\u001b[33m\n",
      "\u001b[0mNote: you may need to restart the kernel to use updated packages.\n"
     ]
    }
   ],
   "source": [
    "# Install PySpark\n",
    "%pip install pyspark\n",
    "%pip install openpyxl\n",
    "%pip install matplotlib\n",
    "import sys\n",
    "import pandas as pd\n",
    "from pyspark.sql import SparkSession\n",
    "from pyspark.sql.types import StructType, StructField, StringType, DoubleType, DateType, LongType\n",
    "import pyspark.sql.functions as F\n",
    "from pyspark.sql.functions import col, to_date, when, date_format\n",
    "from pyspark.sql.functions import avg, count\n",
    "import matplotlib.pyplot as plt\n",
    "from pyspark.sql.functions import udf\n",
    "from transformations import format_date\n",
    "from etl_pipeline import process_landing_zone"
   ]
  },
  {
   "cell_type": "markdown",
   "metadata": {
    "id": "S4Vu55EFlUKO"
   },
   "source": [
    "# Converting Files"
   ]
  },
  {
   "cell_type": "code",
   "execution_count": 4,
   "metadata": {
    "executionInfo": {
     "elapsed": 15642,
     "status": "ok",
     "timestamp": 1738058505128,
     "user": {
      "displayName": "Javier Alhambra",
      "userId": "08990227891354213622"
     },
     "user_tz": -60
    },
    "id": "Jdqd9a2vH4iN"
   },
   "outputs": [],
   "source": [
    "# Upload XLSX\n",
    "df = pd.read_excel('../datasets/listings_details.xlsx')"
   ]
  },
  {
   "cell_type": "markdown",
   "metadata": {
    "id": "bDJp2yxHp0vE"
   },
   "source": [
    "The files are xlsx but Spark is designed works better with csv. So xlsx will be converted into csv"
   ]
  },
  {
   "cell_type": "code",
   "execution_count": 5,
   "metadata": {
    "executionInfo": {
     "elapsed": 14883,
     "status": "ok",
     "timestamp": 1738058520009,
     "user": {
      "displayName": "Javier Alhambra",
      "userId": "08990227891354213622"
     },
     "user_tz": -60
    },
    "id": "FPqhQ4VrqIUn"
   },
   "outputs": [],
   "source": [
    "# Upload XLSX\n",
    "df = pd.read_excel('../datasets/listings_details.xlsx')\n",
    "\n",
    "# Replace line breaks with spaces\n",
    "df = df.replace({r'[\\n\\r]+': ' '}, regex=True)\n",
    "\n",
    "# Replace \" with '\n",
    "df = df.replace({r'\"': \"'\"}, regex=True)\n",
    "\n",
    "# Save CSV\n",
    "df.to_csv('../datasets/listings_details.csv', index=False, quotechar='\"')"
   ]
  },
  {
   "cell_type": "code",
   "execution_count": 6,
   "metadata": {
    "executionInfo": {
     "elapsed": 1436,
     "status": "ok",
     "timestamp": 1738058544148,
     "user": {
      "displayName": "Javier Alhambra",
      "userId": "08990227891354213622"
     },
     "user_tz": -60
    },
    "id": "YtJwQs9jYaWC"
   },
   "outputs": [],
   "source": [
    "# Upload XLSX\n",
    "df2 = pd.read_excel('../datasets/neighbourhoods.xlsx')\n",
    "\n",
    "# Replace line breaks with spaces\n",
    "df2 = df2.replace({r'[\\n\\r]+': ' '}, regex=True)\n",
    "\n",
    "# Save CSV\n",
    "df2.to_csv('../datasets/neighbourhoods.csv', index=False)"
   ]
  },
  {
   "cell_type": "markdown",
   "metadata": {
    "id": "_4vyJGFoli3M"
   },
   "source": [
    "# PART 1: Landing Zone"
   ]
  },
  {
   "cell_type": "code",
   "execution_count": 7,
   "metadata": {
    "executionInfo": {
     "elapsed": 14524,
     "status": "ok",
     "timestamp": 1738058562146,
     "user": {
      "displayName": "Javier Alhambra",
      "userId": "08990227891354213622"
     },
     "user_tz": -60
    },
    "id": "PG1iXNG4liec"
   },
   "outputs": [],
   "source": [
    "# Create a Spark session\n",
    "spark = SparkSession.builder \\\n",
    "    .appName(\"MedallionArchitecture\") \\\n",
    "    .getOrCreate()"
   ]
  },
  {
   "cell_type": "code",
   "execution_count": 8,
   "metadata": {
    "executionInfo": {
     "elapsed": 15646,
     "status": "ok",
     "timestamp": 1738058579145,
     "user": {
      "displayName": "Javier Alhambra",
      "userId": "08990227891354213622"
     },
     "user_tz": -60
    },
    "id": "f4PsLQGcoUHr"
   },
   "outputs": [],
   "source": [
    "# CSV paths\n",
    "listings_path = \"../datasets/listings_details.csv\"\n",
    "neighbourhoods_path = \"../datasets/neighbourhoods.csv\"\n",
    "\n",
    "listings_details, neighbourhoods = process_landing_zone(spark, listings_path, neighbourhoods_path)"
   ]
  },
  {
   "cell_type": "code",
   "execution_count": 9,
   "metadata": {
    "colab": {
     "base_uri": "https://localhost:8080/"
    },
    "executionInfo": {
     "elapsed": 233,
     "status": "ok",
     "timestamp": 1738058580842,
     "user": {
      "displayName": "Javier Alhambra",
      "userId": "08990227891354213622"
     },
     "user_tz": -60
    },
    "id": "KL6ARxWX7au6",
    "outputId": "6d08a343-b45b-4adc-ac35-322b4dec5cdb"
   },
   "outputs": [
    {
     "name": "stdout",
     "output_type": "stream",
     "text": [
      "root\n",
      " |-- id: long (nullable = true)\n",
      " |-- listing_url: string (nullable = true)\n",
      " |-- host_id: string (nullable = true)\n",
      " |-- neighbourhood: string (nullable = true)\n",
      " |-- neighbourhood_cleansed: string (nullable = true)\n",
      " |-- number_of_reviews: double (nullable = true)\n",
      " |-- review_scores_rating: double (nullable = true)\n",
      " |-- last_review: string (nullable = true)\n",
      "\n"
     ]
    }
   ],
   "source": [
    "# Print the schema of the DataFrame\n",
    "listings_details.printSchema()"
   ]
  },
  {
   "cell_type": "code",
   "execution_count": 10,
   "metadata": {
    "colab": {
     "base_uri": "https://localhost:8080/"
    },
    "executionInfo": {
     "elapsed": 207,
     "status": "ok",
     "timestamp": 1738058582395,
     "user": {
      "displayName": "Javier Alhambra",
      "userId": "08990227891354213622"
     },
     "user_tz": -60
    },
    "id": "jSdHEiZ9FZt7",
    "outputId": "0f248aea-ea23-42b4-e332-495506d0a162"
   },
   "outputs": [
    {
     "name": "stdout",
     "output_type": "stream",
     "text": [
      "root\n",
      " |-- neighbourhood_group: string (nullable = true)\n",
      " |-- neighbourhood: string (nullable = true)\n",
      "\n"
     ]
    }
   ],
   "source": [
    "neighbourhoods.printSchema()"
   ]
  },
  {
   "cell_type": "code",
   "execution_count": 11,
   "metadata": {
    "colab": {
     "base_uri": "https://localhost:8080/"
    },
    "executionInfo": {
     "elapsed": 1291,
     "status": "ok",
     "timestamp": 1738058585102,
     "user": {
      "displayName": "Javier Alhambra",
      "userId": "08990227891354213622"
     },
     "user_tz": -60
    },
    "id": "VMxWMDJOrTps",
    "outputId": "7c87e440-4b30-4134-becc-5deec58142bc"
   },
   "outputs": [
    {
     "name": "stdout",
     "output_type": "stream",
     "text": [
      "+------+--------------------+-------+--------------------+----------------------+-----------------+--------------------+-----------+\n",
      "|    id|         listing_url|host_id|       neighbourhood|neighbourhood_cleansed|number_of_reviews|review_scores_rating|last_review|\n",
      "+------+--------------------+-------+--------------------+----------------------+-----------------+--------------------+-----------+\n",
      "| 73282|https://www.airbn...| 377532|                NULL|              Sihlfeld|             47.0|                4.78| 2019-04-27|\n",
      "|143821|https://www.airbn...| 697307|                NULL|          Alt-Wiedikon|              0.0|                NULL|       NULL|\n",
      "|178448|https://www.airbn...| 854016| Zurich, Switzerland|                  Enge|              9.0|                4.89| 2016-05-10|\n",
      "|204586|https://www.airbn...|1004816|                NULL|                 Höngg|              0.0|                NULL|       NULL|\n",
      "|227039|https://www.airbn...|1184427|Zurich, Canton of...|           Escher Wyss|             31.0|                4.97| 2023-08-22|\n",
      "+------+--------------------+-------+--------------------+----------------------+-----------------+--------------------+-----------+\n",
      "only showing top 5 rows\n",
      "\n"
     ]
    }
   ],
   "source": [
    "# Show the first 5 rows\n",
    "listings_details.show(5)"
   ]
  },
  {
   "cell_type": "code",
   "execution_count": null,
   "metadata": {},
   "outputs": [],
   "source": [
    "# If exists, delete directory structure\n",
    "! rm -rf \"../tables\""
   ]
  },
  {
   "cell_type": "code",
   "execution_count": 13,
   "metadata": {
    "executionInfo": {
     "elapsed": 318,
     "status": "ok",
     "timestamp": 1738058588512,
     "user": {
      "displayName": "Javier Alhambra",
      "userId": "08990227891354213622"
     },
     "user_tz": -60
    },
    "id": "zGitxt0psHxK"
   },
   "outputs": [],
   "source": [
    "# Create directory structure\n",
    "! mkdir \"../tables\"\n",
    "! mkdir \"../tables/bronze\"\n",
    "! mkdir \"../tables/silver\"\n",
    "! mkdir \"../tables/gold\""
   ]
  },
  {
   "cell_type": "markdown",
   "metadata": {
    "id": "rc6yASbfsTh7"
   },
   "source": [
    "# PART 2: Bronze Layer"
   ]
  },
  {
   "cell_type": "code",
   "execution_count": 14,
   "metadata": {
    "executionInfo": {
     "elapsed": 15022,
     "status": "ok",
     "timestamp": 1738058605610,
     "user": {
      "displayName": "Javier Alhambra",
      "userId": "08990227891354213622"
     },
     "user_tz": -60
    },
    "id": "z9Flpd8zsTRx"
   },
   "outputs": [],
   "source": [
    "# Write raw data to Bronze layer in Parquet format\n",
    "\n",
    "# Bronze paths\n",
    "bronze_path = \"../tables\"\n",
    "layer = \"bronze\"\n",
    "listings_filename = \"bronze_listings_details\"\n",
    "neighbourhoods_filename = \"neighbourhoods\"\n",
    "\n",
    "\n",
    "bronze_listing_output_file = \"{path}/{layer}/{filename}\".format(path=bronze_path, layer=layer, filename=listings_filename)\n",
    "listings_details.write.mode( \"overwrite\" ) \\\n",
    ".partitionBy(\"neighbourhood_cleansed\") \\\n",
    ".parquet(bronze_listing_output_file)\n",
    "\n",
    "bronze_neighbourhoods_output_file = \"{path}/{layer}/{filename}\".format(path=bronze_path, layer=layer, filename=neighbourhoods_filename)\n",
    "neighbourhoods.write.mode( \"overwrite\" ) \\\n",
    "  .partitionBy(\"neighbourhood\") \\\n",
    "  .parquet(bronze_neighbourhoods_output_file)"
   ]
  },
  {
   "cell_type": "markdown",
   "metadata": {
    "id": "5jS82gP8w3ML"
   },
   "source": [
    "# PART 3: Silver Layer"
   ]
  },
  {
   "cell_type": "code",
   "execution_count": 15,
   "metadata": {
    "executionInfo": {
     "elapsed": 3359,
     "status": "ok",
     "timestamp": 1738058641556,
     "user": {
      "displayName": "Javier Alhambra",
      "userId": "08990227891354213622"
     },
     "user_tz": -60
    },
    "id": "jODzTALhYIvy"
   },
   "outputs": [],
   "source": [
    "# Silver paths\n",
    "silver_listing_input_file = bronze_listing_output_file\n",
    "silver_neighbourhoods_input_file = bronze_neighbourhoods_output_file\n",
    "\n",
    "# Load Bronze data\n",
    "bronze_listingsDF = spark.read.parquet(silver_listing_input_file)\n",
    "bronze_neighbourhoodsDF = spark.read.parquet(silver_neighbourhoods_input_file)"
   ]
  },
  {
   "cell_type": "code",
   "execution_count": 16,
   "metadata": {
    "executionInfo": {
     "elapsed": 972,
     "status": "ok",
     "timestamp": 1738058643864,
     "user": {
      "displayName": "Javier Alhambra",
      "userId": "08990227891354213622"
     },
     "user_tz": -60
    },
    "id": "2V5MfUUOvGdv"
   },
   "outputs": [],
   "source": [
    "# add Python file to the PySpark context, which makes it available on all worker nodes of the Spark cluster when running distributed operations.\n",
    "spark.sparkContext.addPyFile('../src/transformations.zip')"
   ]
  },
  {
   "cell_type": "code",
   "execution_count": 17,
   "metadata": {
    "executionInfo": {
     "elapsed": 3,
     "status": "ok",
     "timestamp": 1738058645141,
     "user": {
      "displayName": "Javier Alhambra",
      "userId": "08990227891354213622"
     },
     "user_tz": -60
    },
    "id": "wJirr4LCq7-q"
   },
   "outputs": [],
   "source": [
    "# Register the function as a UDF so that it can be executed in each partition of the cluster\n",
    "format_date_udf = udf(format_date, StringType())"
   ]
  },
  {
   "cell_type": "code",
   "execution_count": 18,
   "metadata": {
    "executionInfo": {
     "elapsed": 207,
     "status": "ok",
     "timestamp": 1738058647383,
     "user": {
      "displayName": "Javier Alhambra",
      "userId": "08990227891354213622"
     },
     "user_tz": -60
    },
    "id": "iYvj3DXqw27K"
   },
   "outputs": [],
   "source": [
    "# Join datasets and create new fields\n",
    "join_silver_listingsDF = bronze_listingsDF.join(\n",
    "    bronze_neighbourhoodsDF,\n",
    "    bronze_listingsDF[\"neighbourhood_cleansed\"] == bronze_neighbourhoodsDF[\"neighbourhood\"],\n",
    "    \"left\"\n",
    ").withColumn(\n",
    "    \"neighbourhood_group\", col(\"neighbourhood_group\")\n",
    ").withColumn(\n",
    "    \"last_review_human\", format_date_udf(col(\"last_review\"))\n",
    ").drop(\n",
    "    bronze_neighbourhoodsDF[\"neighbourhood\"]\n",
    ")\n"
   ]
  },
  {
   "cell_type": "code",
   "execution_count": 19,
   "metadata": {
    "colab": {
     "base_uri": "https://localhost:8080/"
    },
    "executionInfo": {
     "elapsed": 4685,
     "status": "ok",
     "timestamp": 1738058654075,
     "user": {
      "displayName": "Javier Alhambra",
      "userId": "08990227891354213622"
     },
     "user_tz": -60
    },
    "id": "8GDbdXs6WNvZ",
    "outputId": "4009e1ec-c5d7-460d-b3ad-5e6635855d58"
   },
   "outputs": [
    {
     "name": "stdout",
     "output_type": "stream",
     "text": [
      "+--------+-------------------------------------+--------+-------------------------------------+-----------------+--------------------+-----------+----------------------+-------------------+--------------------------+\n",
      "|id      |listing_url                          |host_id |neighbourhood                        |number_of_reviews|review_scores_rating|last_review|neighbourhood_cleansed|neighbourhood_group|last_review_human         |\n",
      "+--------+-------------------------------------+--------+-------------------------------------+-----------------+--------------------+-----------+----------------------+-------------------+--------------------------+\n",
      "|73282   |https://www.airbnb.com/rooms/73282   |377532  |NULL                                 |47.0             |4.78                |2019-04-27 |Sihlfeld              |Kreis 3            |Saturday 27 April 2019    |\n",
      "|606954  |https://www.airbnb.com/rooms/606954  |2659673 |Zurich, Switzerland                  |3.0              |5.0                 |2020-03-10 |Sihlfeld              |Kreis 3            |Tuesday 10 March 2020     |\n",
      "|644888  |https://www.airbnb.com/rooms/644888  |3228273 |Zurich, Canton of Zurich, Switzerland|16.0             |4.8                 |2023-08-14 |Sihlfeld              |Kreis 3            |Monday 14 August 2023     |\n",
      "|751660  |https://www.airbnb.com/rooms/751660  |3952536 |NULL                                 |126.0            |4.92                |2023-05-20 |Sihlfeld              |Kreis 3            |Saturday 20 May 2023      |\n",
      "|7746167 |https://www.airbnb.com/rooms/7746167 |9176822 |Zürich, ZH, Switzerland              |43.0             |4.98                |2023-09-16 |Sihlfeld              |Kreis 3            |Saturday 16 September 2023|\n",
      "|8926048 |https://www.airbnb.com/rooms/8926048 |18327045|Zürich, Switzerland                  |110.0            |4.83                |2022-10-01 |Sihlfeld              |Kreis 3            |Saturday 01 October 2022  |\n",
      "|10095770|https://www.airbnb.com/rooms/10095770|18327045|Zürich, Switzerland                  |105.0            |4.82                |2022-09-17 |Sihlfeld              |Kreis 3            |Saturday 17 September 2022|\n",
      "|11397175|https://www.airbnb.com/rooms/11397175|1740821 |Zürich, Switzerland                  |29.0             |4.83                |2024-06-04 |Sihlfeld              |Kreis 3            |Tuesday 04 June 2024      |\n",
      "|12316807|https://www.airbnb.com/rooms/12316807|11090888|Zürich, ZH, Switzerland              |1.0              |4.0                 |2022-10-25 |Sihlfeld              |Kreis 3            |Tuesday 25 October 2022   |\n",
      "|13071400|https://www.airbnb.com/rooms/13071400|72456043|NULL                                 |189.0            |4.94                |2024-06-26 |Sihlfeld              |Kreis 3            |Wednesday 26 June 2024    |\n",
      "+--------+-------------------------------------+--------+-------------------------------------+-----------------+--------------------+-----------+----------------------+-------------------+--------------------------+\n",
      "only showing top 10 rows\n",
      "\n"
     ]
    }
   ],
   "source": [
    "# Display all columns from the DataFrame\n",
    "join_silver_listingsDF.show(10, truncate=False)"
   ]
  },
  {
   "cell_type": "code",
   "execution_count": 20,
   "metadata": {
    "executionInfo": {
     "elapsed": 11310,
     "status": "ok",
     "timestamp": 1738058667279,
     "user": {
      "displayName": "Javier Alhambra",
      "userId": "08990227891354213622"
     },
     "user_tz": -60
    },
    "id": "ujk52mYjV6hA"
   },
   "outputs": [],
   "source": [
    "# Write data to Silver layer\n",
    "silver_listings_path = \"../tables/silver/silver_listings_details\"\n",
    "join_silver_listingsDF.write.mode(\"overwrite\") \\\n",
    "  .partitionBy(\"neighbourhood_group\") \\\n",
    "  .parquet(silver_listings_path)"
   ]
  },
  {
   "cell_type": "markdown",
   "metadata": {
    "id": "afJk3vYE7V3e"
   },
   "source": [
    "# PART 4: Gold Layer"
   ]
  },
  {
   "cell_type": "code",
   "execution_count": 21,
   "metadata": {
    "executionInfo": {
     "elapsed": 8743,
     "status": "ok",
     "timestamp": 1738058736459,
     "user": {
      "displayName": "Javier Alhambra",
      "userId": "08990227891354213622"
     },
     "user_tz": -60
    },
    "id": "rEA61VcQ_PNn"
   },
   "outputs": [],
   "source": [
    "# Load Silver data\n",
    "silver_listings = spark.read.parquet(silver_listings_path)\n",
    "\n",
    "# Calculate metrics\n",
    "id_gold_listings = silver_listings\\\n",
    "  .groupBy(\"id\").agg(\n",
    "    count(\"number_of_reviews\").alias(\"id_rating_count\"),\n",
    "    avg(\"review_scores_rating\").alias(\"id_rating_avg\"))\n",
    "\n",
    "# Join neighbourhood_group to id_gold_listings\n",
    "id_gold_listings = id_gold_listings.join(\n",
    "    silver_listings.select(\"id\", \"neighbourhood_group\"),\n",
    "    on=\"id\",\n",
    "    how=\"left\")\n",
    "\n",
    "# Calculate metrics\n",
    "group_gold_listings = silver_listings\\\n",
    "  .groupBy(\"neighbourhood_group\").agg(\n",
    "    count(\"number_of_reviews\").alias(\"ng_rating_count\"),\n",
    "    avg(\"review_scores_rating\").alias(\"ng_rating_avg\"))\n",
    "\n",
    "# Gold DF\n",
    "gold_listings = id_gold_listings.join(\n",
    "    group_gold_listings.select(\"neighbourhood_group\",\"ng_rating_count\", \"ng_rating_avg\"),\n",
    "    on=\"neighbourhood_group\",\n",
    "    how=\"left\")\n",
    "\n",
    "# Write data to Gold layer\n",
    "gold_listings_path = \"../tables/gold/dasboard_ng_ratings\"\n",
    "gold_listings.write.mode(\"overwrite\") \\\n",
    "  .partitionBy(\"neighbourhood_group\") \\\n",
    "  .parquet(gold_listings_path)"
   ]
  },
  {
   "cell_type": "code",
   "execution_count": null,
   "metadata": {},
   "outputs": [],
   "source": [
    "# Load Gold data\n",
    "gold_listings = spark.read.parquet(gold_listings_path)\n",
    "\n",
    "# Convert Gold data to Pandas for plotting\n",
    "gold_pandas = gold_listings.toPandas()\n",
    "print(\"0\")"
   ]
  },
  {
   "cell_type": "code",
   "execution_count": null,
   "metadata": {},
   "outputs": [],
   "source": [
    "\n",
    "# Define the order of the neighborhood groups\n",
    "order = ['Kreis 1', 'Kreis 2', 'Kreis 3', 'Kreis 4', 'Kreis 5', 'Kreis 6', 'Kreis 7', 'Kreis 8', 'Kreis 9', 'Kreis 10', 'Kreis 11', 'Kreis 12']\n",
    "\n",
    "# Convert the 'neighbourhood_group' column to a categorical type with the specified order\n",
    "gold_pandas['neighbourhood_group'] = pd.Categorical(gold_pandas['neighbourhood_group'], categories=order, ordered=True)\n",
    "\n",
    "print(\"1\")"
   ]
  },
  {
   "cell_type": "code",
   "execution_count": null,
   "metadata": {},
   "outputs": [],
   "source": [
    "# Sort the data by neighbourhood_group\n",
    "gold_pandas = gold_pandas.sort_values(\"neighbourhood_group\")\n",
    "\n",
    "gold_pandas\n"
   ]
  },
  {
   "cell_type": "code",
   "execution_count": null,
   "metadata": {},
   "outputs": [],
   "source": [
    "print(\"2\")"
   ]
  },
  {
   "cell_type": "code",
   "execution_count": null,
   "metadata": {},
   "outputs": [],
   "source": [
    "gold_pandas[\"neighbourhood_group\"] \n"
   ]
  },
  {
   "cell_type": "code",
   "execution_count": null,
   "metadata": {},
   "outputs": [],
   "source": [
    "# Export Gold data to CSV for visualization\n",
    "gold_csv_path = \"../datasets/dashboard_ng_ratings.csv\"\n",
    "gold_pandas.to_csv(gold_csv_path, index=False)\n"
   ]
  },
  {
   "cell_type": "code",
   "execution_count": null,
   "metadata": {},
   "outputs": [],
   "source": [
    "print(\"hola\")"
   ]
  },
  {
   "cell_type": "markdown",
   "metadata": {
    "id": "LeQMzXb1G9pB"
   },
   "source": [
    "# PART 5: Presentation"
   ]
  },
  {
   "cell_type": "code",
   "execution_count": 22,
   "metadata": {
    "colab": {
     "base_uri": "https://localhost:8080/",
     "height": 607
    },
    "executionInfo": {
     "elapsed": 7855,
     "status": "ok",
     "timestamp": 1738058755228,
     "user": {
      "displayName": "Javier Alhambra",
      "userId": "08990227891354213622"
     },
     "user_tz": -60
    },
    "id": "Fkcqa5sOG-IE",
    "outputId": "d2deeb10-f651-4afb-cad8-354d9aa6a86f"
   },
   "outputs": [
    {
     "data": {
      "image/png": "[encoded data removed]",
      "text/plain": [
       "<Figure size 1000x600 with 1 Axes>"
      ]
     },
     "metadata": {},
     "output_type": "display_data"
    }
   ],
   "source": [
    "\n",
    "\n",
    "# Plot neighborhood group ratings\n",
    "plt.figure(figsize=(10, 6))\n",
    "plt.bar(gold_pandas[\"neighbourhood_group\"], gold_pandas[\"ng_rating_avg\"], color='skyblue')\n",
    "plt.title(\"Average Ratings by Neighbourhood Group\", fontsize=16)\n",
    "plt.xlabel(\"Neighbourhood Group\", fontsize=12)\n",
    "plt.ylabel(\"Average Rating\", fontsize=12)\n",
    "plt.xticks(rotation=45)\n",
    "plt.tight_layout()\n",
    "plt.show()"
   ]
  },
  {
   "cell_type": "code",
   "execution_count": 23,
   "metadata": {
    "executionInfo": {
     "elapsed": 746,
     "status": "ok",
     "timestamp": 1738058758973,
     "user": {
      "displayName": "Javier Alhambra",
      "userId": "08990227891354213622"
     },
     "user_tz": -60
    },
    "id": "y7REwrd-ktLE"
   },
   "outputs": [],
   "source": [
    "# Close the Spark session when done\n",
    "spark.stop()"
   ]
  }
 ],
 "metadata": {
  "colab": {
   "authorship_tag": "ABX9TyN1EN8dnSqTTdVAXW39wxP4",
   "mount_file_id": "1lnQuIobpSLT_sI6soZy_dxlKVVpJXlAT",
   "provenance": []
  },
  "kernelspec": {
   "display_name": "Python 3 (ipykernel)",
   "language": "python",
   "name": "python3"
  },
  "language_info": {
   "codemirror_mode": {
    "name": "ipython",
    "version": 3
   },
   "file_extension": ".py",
   "mimetype": "text/x-python",
   "name": "python",
   "nbconvert_exporter": "python",
   "pygments_lexer": "ipython3",
   "version": "3.11.6"
  }
 },
 "nbformat": 4,
 "nbformat_minor": 4
}
