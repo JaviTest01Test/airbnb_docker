{
 "cells": [
  {
   "cell_type": "markdown",
   "id": "4b735ac9",
   "metadata": {
    "id": "ExGZystyH3gw",
    "papermill": {
     "duration": 0.017374,
     "end_time": "2025-01-28T20:29:39.052111",
     "exception": false,
     "start_time": "2025-01-28T20:29:39.034737",
     "status": "completed"
    },
    "tags": []
   },
   "source": [
    "# Location"
   ]
  },
  {
   "cell_type": "code",
   "execution_count": 1,
   "id": "2303ff24",
   "metadata": {
    "colab": {
     "base_uri": "https://localhost:8080/"
    },
    "execution": {
     "iopub.execute_input": "2025-01-28T20:29:39.102859Z",
     "iopub.status.busy": "2025-01-28T20:29:39.102507Z",
     "iopub.status.idle": "2025-01-28T20:29:39.119109Z",
     "shell.execute_reply": "2025-01-28T20:29:39.117342Z"
    },
    "executionInfo": {
     "elapsed": 215,
     "status": "ok",
     "timestamp": 1738095230185,
     "user": {
      "displayName": "Javier Alhambra",
      "userId": "08990227891354213622"
     },
     "user_tz": -60
    },
    "id": "m2-unRUWJ60N",
    "jupyter": {
     "source_hidden": true
    },
    "outputId": "40d94c75-5313-4d63-cefe-7fa59515937f",
    "papermill": {
     "duration": 0.044518,
     "end_time": "2025-01-28T20:29:39.123596",
     "exception": false,
     "start_time": "2025-01-28T20:29:39.079078",
     "status": "completed"
    },
    "tags": []
   },
   "outputs": [
    {
     "name": "stdout",
     "output_type": "stream",
     "text": [
      "Current directory: /opt/airflow/airbnb_project/notebooks\n"
     ]
    }
   ],
   "source": [
    "import os\n",
    "\n",
    "# In Colab, the notebook is mounted in Google Drive at '/content'\n",
    "\n",
    "# Try to detect the environment dynamically\n",
    "if 'COLAB_GPU' in os.environ:  # Check if running in Colab\n",
    "    # Colab path where the notebook is located\n",
    "    notebook_directory = '/content/drive/MyDrive/airbnb_project/notebooks/'\n",
    "elif os.path.exists('/airbnb_project/notebooks'):  # Check if running in Docker\n",
    "    # Docker path where the notebook is located\n",
    "    notebook_directory = '/airbnb_project/notebooks/'\n",
    "else:\n",
    "    # Default fallback if not in either environment\n",
    "    os.chdir('./airbnb_project/notebooks')\n",
    "    notebook_directory = os.getcwd()\n",
    "\n",
    "\n",
    "# Change the current working directory to the notebook's location\n",
    "os.chdir(notebook_directory)\n",
    "\n",
    "# Verify the current directory\n",
    "print(\"Current directory:\", os.getcwd())\n"
   ]
  },
  {
   "cell_type": "markdown",
   "id": "ae99c47d",
   "metadata": {
    "id": "BX4uMNgPLfAG",
    "papermill": {
     "duration": 0.022769,
     "end_time": "2025-01-28T20:29:39.159063",
     "exception": false,
     "start_time": "2025-01-28T20:29:39.136294",
     "status": "completed"
    },
    "tags": []
   },
   "source": [
    "# Libraries"
   ]
  },
  {
   "cell_type": "code",
   "execution_count": 2,
   "id": "4d9405ac",
   "metadata": {
    "execution": {
     "iopub.execute_input": "2025-01-28T20:29:39.199445Z",
     "iopub.status.busy": "2025-01-28T20:29:39.199060Z",
     "iopub.status.idle": "2025-01-28T20:29:39.206173Z",
     "shell.execute_reply": "2025-01-28T20:29:39.204114Z"
    },
    "id": "UchUkmJNkdNc",
    "jupyter": {
     "source_hidden": true
    },
    "papermill": {
     "duration": 0.034801,
     "end_time": "2025-01-28T20:29:39.210004",
     "exception": false,
     "start_time": "2025-01-28T20:29:39.175203",
     "status": "completed"
    },
    "tags": []
   },
   "outputs": [],
   "source": [
    "import sys\n",
    "sys.path.append('../src')"
   ]
  },
  {
   "cell_type": "code",
   "execution_count": 3,
   "id": "7863993a",
   "metadata": {
    "colab": {
     "base_uri": "https://localhost:8080/"
    },
    "execution": {
     "iopub.execute_input": "2025-01-28T20:29:39.249796Z",
     "iopub.status.busy": "2025-01-28T20:29:39.248536Z",
     "iopub.status.idle": "2025-01-28T20:30:18.585087Z",
     "shell.execute_reply": "2025-01-28T20:30:18.584040Z"
    },
    "executionInfo": {
     "elapsed": 19729,
     "status": "ok",
     "timestamp": 1738090967804,
     "user": {
      "displayName": "Javier Alhambra",
      "userId": "08990227891354213622"
     },
     "user_tz": -60
    },
    "id": "i2rLdgBGIP_p",
    "jupyter": {
     "source_hidden": true
    },
    "outputId": "4581cb4e-c2ec-4d29-b965-3a7151723ddf",
    "papermill": {
     "duration": 39.366055,
     "end_time": "2025-01-28T20:30:18.587803",
     "exception": false,
     "start_time": "2025-01-28T20:29:39.221748",
     "status": "completed"
    },
    "tags": []
   },
   "outputs": [
    {
     "name": "stdout",
     "output_type": "stream",
     "text": [
      "Requirement already satisfied: pyspark in /home/airflow/.local/lib/python3.7/site-packages (3.4.4)\r\n",
      "Requirement already satisfied: py4j==0.10.9.7 in /home/airflow/.local/lib/python3.7/site-packages (from pyspark) (0.10.9.7)\r\n"
     ]
    },
    {
     "name": "stdout",
     "output_type": "stream",
     "text": [
      "\r\n",
      "\u001b[1m[\u001b[0m\u001b[34;49mnotice\u001b[0m\u001b[1;39;49m]\u001b[0m\u001b[39;49m A new release of pip is available: \u001b[0m\u001b[31;49m23.1.2\u001b[0m\u001b[39;49m -> \u001b[0m\u001b[32;49m24.0\u001b[0m\r\n",
      "\u001b[1m[\u001b[0m\u001b[34;49mnotice\u001b[0m\u001b[1;39;49m]\u001b[0m\u001b[39;49m To update, run: \u001b[0m\u001b[32;49mpython3 -m pip install --upgrade pip\u001b[0m\r\n"
     ]
    },
    {
     "name": "stdout",
     "output_type": "stream",
     "text": [
      "Note: you may need to restart the kernel to use updated packages.\n"
     ]
    },
    {
     "name": "stdout",
     "output_type": "stream",
     "text": [
      "Requirement already satisfied: openpyxl in /home/airflow/.local/lib/python3.7/site-packages (3.1.3)\r\n",
      "Requirement already satisfied: et-xmlfile in /home/airflow/.local/lib/python3.7/site-packages (from openpyxl) (1.1.0)\r\n"
     ]
    },
    {
     "name": "stdout",
     "output_type": "stream",
     "text": [
      "\r\n",
      "\u001b[1m[\u001b[0m\u001b[34;49mnotice\u001b[0m\u001b[1;39;49m]\u001b[0m\u001b[39;49m A new release of pip is available: \u001b[0m\u001b[31;49m23.1.2\u001b[0m\u001b[39;49m -> \u001b[0m\u001b[32;49m24.0\u001b[0m\r\n",
      "\u001b[1m[\u001b[0m\u001b[34;49mnotice\u001b[0m\u001b[1;39;49m]\u001b[0m\u001b[39;49m To update, run: \u001b[0m\u001b[32;49mpython3 -m pip install --upgrade pip\u001b[0m\r\n"
     ]
    },
    {
     "name": "stdout",
     "output_type": "stream",
     "text": [
      "Note: you may need to restart the kernel to use updated packages.\n"
     ]
    },
    {
     "name": "stdout",
     "output_type": "stream",
     "text": [
      "Requirement already satisfied: matplotlib in /home/airflow/.local/lib/python3.7/site-packages (3.5.3)\r\n",
      "Requirement already satisfied: cycler>=0.10 in /home/airflow/.local/lib/python3.7/site-packages (from matplotlib) (0.11.0)\r\n",
      "Requirement already satisfied: fonttools>=4.22.0 in /home/airflow/.local/lib/python3.7/site-packages (from matplotlib) (4.38.0)\r\n",
      "Requirement already satisfied: kiwisolver>=1.0.1 in /home/airflow/.local/lib/python3.7/site-packages (from matplotlib) (1.4.5)\r\n",
      "Requirement already satisfied: numpy>=1.17 in /home/airflow/.local/lib/python3.7/site-packages (from matplotlib) (1.21.6)\r\n",
      "Requirement already satisfied: packaging>=20.0 in /home/airflow/.local/lib/python3.7/site-packages (from matplotlib) (23.2)\r\n",
      "Requirement already satisfied: pillow>=6.2.0 in /home/airflow/.local/lib/python3.7/site-packages (from matplotlib) (9.5.0)\r\n",
      "Requirement already satisfied: pyparsing>=2.2.1 in /home/airflow/.local/lib/python3.7/site-packages (from matplotlib) (3.0.9)\r\n",
      "Requirement already satisfied: python-dateutil>=2.7 in /home/airflow/.local/lib/python3.7/site-packages (from matplotlib) (2.8.2)\r\n"
     ]
    },
    {
     "name": "stdout",
     "output_type": "stream",
     "text": [
      "Requirement already satisfied: typing-extensions in /home/airflow/.local/lib/python3.7/site-packages (from kiwisolver>=1.0.1->matplotlib) (4.5.0)\r\n"
     ]
    },
    {
     "name": "stdout",
     "output_type": "stream",
     "text": [
      "Requirement already satisfied: six>=1.5 in /home/airflow/.local/lib/python3.7/site-packages (from python-dateutil>=2.7->matplotlib) (1.16.0)\r\n"
     ]
    },
    {
     "name": "stdout",
     "output_type": "stream",
     "text": [
      "\r\n",
      "\u001b[1m[\u001b[0m\u001b[34;49mnotice\u001b[0m\u001b[1;39;49m]\u001b[0m\u001b[39;49m A new release of pip is available: \u001b[0m\u001b[31;49m23.1.2\u001b[0m\u001b[39;49m -> \u001b[0m\u001b[32;49m24.0\u001b[0m\r\n",
      "\u001b[1m[\u001b[0m\u001b[34;49mnotice\u001b[0m\u001b[1;39;49m]\u001b[0m\u001b[39;49m To update, run: \u001b[0m\u001b[32;49mpython3 -m pip install --upgrade pip\u001b[0m\r\n"
     ]
    },
    {
     "name": "stdout",
     "output_type": "stream",
     "text": [
      "Note: you may need to restart the kernel to use updated packages.\n"
     ]
    }
   ],
   "source": [
    "# Install PySpark\n",
    "%pip install pyspark\n",
    "%pip install openpyxl\n",
    "%pip install matplotlib\n",
    "import sys\n",
    "import pandas as pd\n",
    "from pyspark.sql import SparkSession\n",
    "from pyspark.sql.types import StructType, StructField, StringType, DoubleType, DateType, LongType\n",
    "import pyspark.sql.functions as F\n",
    "from pyspark.sql.functions import col, to_date, when, date_format\n",
    "from pyspark.sql.functions import avg, count\n",
    "import matplotlib.pyplot as plt\n",
    "from pyspark.sql.functions import udf\n",
    "from transformations import format_date\n",
    "from etl_pipeline import process_landing_zone"
   ]
  },
  {
   "cell_type": "markdown",
   "id": "e03d89a7",
   "metadata": {
    "id": "S4Vu55EFlUKO",
    "papermill": {
     "duration": 0.025625,
     "end_time": "2025-01-28T20:30:18.625314",
     "exception": false,
     "start_time": "2025-01-28T20:30:18.599689",
     "status": "completed"
    },
    "tags": []
   },
   "source": [
    "# Converting Files"
   ]
  },
  {
   "cell_type": "code",
   "execution_count": 4,
   "id": "eb1db778",
   "metadata": {
    "execution": {
     "iopub.execute_input": "2025-01-28T20:30:18.670247Z",
     "iopub.status.busy": "2025-01-28T20:30:18.669336Z",
     "iopub.status.idle": "2025-01-28T20:30:22.417897Z",
     "shell.execute_reply": "2025-01-28T20:30:22.416639Z"
    },
    "id": "Jdqd9a2vH4iN",
    "jupyter": {
     "source_hidden": true
    },
    "papermill": {
     "duration": 3.774613,
     "end_time": "2025-01-28T20:30:22.420392",
     "exception": false,
     "start_time": "2025-01-28T20:30:18.645779",
     "status": "completed"
    },
    "tags": []
   },
   "outputs": [],
   "source": [
    "# Upload XLSX\n",
    "df = pd.read_excel('../datasets/listings_details.xlsx')"
   ]
  },
  {
   "cell_type": "markdown",
   "id": "9887cbc3",
   "metadata": {
    "id": "bDJp2yxHp0vE",
    "papermill": {
     "duration": 0.024097,
     "end_time": "2025-01-28T20:30:22.455944",
     "exception": false,
     "start_time": "2025-01-28T20:30:22.431847",
     "status": "completed"
    },
    "tags": []
   },
   "source": [
    "The files are xlsx but Spark is designed works better with csv. So xlsx will be converted into csv"
   ]
  },
  {
   "cell_type": "code",
   "execution_count": 5,
   "id": "de58ba03",
   "metadata": {
    "execution": {
     "iopub.execute_input": "2025-01-28T20:30:22.505687Z",
     "iopub.status.busy": "2025-01-28T20:30:22.505257Z",
     "iopub.status.idle": "2025-01-28T20:30:26.579311Z",
     "shell.execute_reply": "2025-01-28T20:30:26.578495Z"
    },
    "id": "FPqhQ4VrqIUn",
    "jupyter": {
     "source_hidden": true
    },
    "papermill": {
     "duration": 4.102569,
     "end_time": "2025-01-28T20:30:26.581696",
     "exception": false,
     "start_time": "2025-01-28T20:30:22.479127",
     "status": "completed"
    },
    "tags": []
   },
   "outputs": [],
   "source": [
    "# Upload XLSX\n",
    "df = pd.read_excel('../datasets/listings_details.xlsx')\n",
    "\n",
    "# Replace line breaks with spaces\n",
    "df = df.replace({r'[\\n\\r]+': ' '}, regex=True)\n",
    "\n",
    "# Replace \" with '\n",
    "df = df.replace({r'\"': \"'\"}, regex=True)\n",
    "\n",
    "# Save CSV\n",
    "df.to_csv('../datasets/listings_details.csv', index=False, quotechar='\"')"
   ]
  },
  {
   "cell_type": "code",
   "execution_count": 6,
   "id": "632d9a23",
   "metadata": {
    "execution": {
     "iopub.execute_input": "2025-01-28T20:30:26.617907Z",
     "iopub.status.busy": "2025-01-28T20:30:26.617538Z",
     "iopub.status.idle": "2025-01-28T20:30:26.654756Z",
     "shell.execute_reply": "2025-01-28T20:30:26.653879Z"
    },
    "id": "YtJwQs9jYaWC",
    "jupyter": {
     "source_hidden": true
    },
    "papermill": {
     "duration": 0.062914,
     "end_time": "2025-01-28T20:30:26.656744",
     "exception": false,
     "start_time": "2025-01-28T20:30:26.593830",
     "status": "completed"
    },
    "tags": []
   },
   "outputs": [],
   "source": [
    "# Upload XLSX\n",
    "df2 = pd.read_excel('../datasets/neighbourhoods.xlsx')\n",
    "\n",
    "# Replace line breaks with spaces\n",
    "df2 = df2.replace({r'[\\n\\r]+': ' '}, regex=True)\n",
    "\n",
    "# Save CSV\n",
    "df2.to_csv('../datasets/neighbourhoods.csv', index=False)"
   ]
  },
  {
   "cell_type": "markdown",
   "id": "6d2f0e0d",
   "metadata": {
    "id": "_4vyJGFoli3M",
    "papermill": {
     "duration": 0.019398,
     "end_time": "2025-01-28T20:30:26.687007",
     "exception": false,
     "start_time": "2025-01-28T20:30:26.667609",
     "status": "completed"
    },
    "tags": []
   },
   "source": [
    "# PART 1: Landing Zone"
   ]
  },
  {
   "cell_type": "code",
   "execution_count": 7,
   "id": "6ada4a4f",
   "metadata": {
    "execution": {
     "iopub.execute_input": "2025-01-28T20:30:26.735717Z",
     "iopub.status.busy": "2025-01-28T20:30:26.735408Z",
     "iopub.status.idle": "2025-01-28T20:30:31.523536Z",
     "shell.execute_reply": "2025-01-28T20:30:31.521903Z"
    },
    "id": "PG1iXNG4liec",
    "jupyter": {
     "source_hidden": true
    },
    "papermill": {
     "duration": 4.816556,
     "end_time": "2025-01-28T20:30:31.525724",
     "exception": false,
     "start_time": "2025-01-28T20:30:26.709168",
     "status": "completed"
    },
    "tags": []
   },
   "outputs": [
    {
     "name": "stderr",
     "output_type": "stream",
     "text": [
      "Setting default log level to \"WARN\".\n",
      "To adjust logging level use sc.setLogLevel(newLevel). For SparkR, use setLogLevel(newLevel).\n"
     ]
    },
    {
     "name": "stderr",
     "output_type": "stream",
     "text": [
      "25/01/28 20:30:29 WARN NativeCodeLoader: Unable to load native-hadoop library for your platform... using builtin-java classes where applicable\n"
     ]
    },
    {
     "name": "stderr",
     "output_type": "stream",
     "text": [
      "/home/airflow/.local/lib/python3.7/site-packages/pyspark/context.py:317: FutureWarning: Python 3.7 support is deprecated in Spark 3.4.\n",
      "  warnings.warn(\"Python 3.7 support is deprecated in Spark 3.4.\", FutureWarning)\n"
     ]
    }
   ],
   "source": [
    "# Create a Spark session\n",
    "spark = SparkSession.builder \\\n",
    "    .appName(\"MedallionArchitecture\") \\\n",
    "    .getOrCreate()"
   ]
  },
  {
   "cell_type": "code",
   "execution_count": 8,
   "id": "2b951513",
   "metadata": {
    "execution": {
     "iopub.execute_input": "2025-01-28T20:30:31.562042Z",
     "iopub.status.busy": "2025-01-28T20:30:31.561707Z",
     "iopub.status.idle": "2025-01-28T20:30:37.960119Z",
     "shell.execute_reply": "2025-01-28T20:30:37.957988Z"
    },
    "id": "f4PsLQGcoUHr",
    "jupyter": {
     "source_hidden": true
    },
    "papermill": {
     "duration": 6.427309,
     "end_time": "2025-01-28T20:30:37.964596",
     "exception": false,
     "start_time": "2025-01-28T20:30:31.537287",
     "status": "completed"
    },
    "tags": []
   },
   "outputs": [],
   "source": [
    "# CSV paths\n",
    "listings_path = \"../datasets/listings_details.csv\"\n",
    "neighbourhoods_path = \"../datasets/neighbourhoods.csv\"\n",
    "\n",
    "listings_details, neighbourhoods = process_landing_zone(spark, listings_path, neighbourhoods_path)"
   ]
  },
  {
   "cell_type": "code",
   "execution_count": 9,
   "id": "def325ce",
   "metadata": {
    "colab": {
     "base_uri": "https://localhost:8080/"
    },
    "execution": {
     "iopub.execute_input": "2025-01-28T20:30:38.009547Z",
     "iopub.status.busy": "2025-01-28T20:30:38.009066Z",
     "iopub.status.idle": "2025-01-28T20:30:38.020140Z",
     "shell.execute_reply": "2025-01-28T20:30:38.018259Z"
    },
    "executionInfo": {
     "elapsed": 10,
     "status": "ok",
     "timestamp": 1738091032603,
     "user": {
      "displayName": "Javier Alhambra",
      "userId": "08990227891354213622"
     },
     "user_tz": -60
    },
    "id": "KL6ARxWX7au6",
    "jupyter": {
     "source_hidden": true
    },
    "outputId": "0db4c984-e884-4056-c1cc-7d60afb8ed5f",
    "papermill": {
     "duration": 0.040348,
     "end_time": "2025-01-28T20:30:38.022597",
     "exception": false,
     "start_time": "2025-01-28T20:30:37.982249",
     "status": "completed"
    },
    "tags": []
   },
   "outputs": [
    {
     "name": "stdout",
     "output_type": "stream",
     "text": [
      "root\n",
      " |-- id: long (nullable = true)\n",
      " |-- listing_url: string (nullable = true)\n",
      " |-- host_id: string (nullable = true)\n",
      " |-- neighbourhood: string (nullable = true)\n",
      " |-- neighbourhood_cleansed: string (nullable = true)\n",
      " |-- number_of_reviews: double (nullable = true)\n",
      " |-- review_scores_rating: double (nullable = true)\n",
      " |-- last_review: string (nullable = true)\n",
      "\n"
     ]
    }
   ],
   "source": [
    "# Print the schema of the DataFrame\n",
    "listings_details.printSchema()"
   ]
  },
  {
   "cell_type": "code",
   "execution_count": 10,
   "id": "bc68da0e",
   "metadata": {
    "colab": {
     "base_uri": "https://localhost:8080/"
    },
    "execution": {
     "iopub.execute_input": "2025-01-28T20:30:38.070224Z",
     "iopub.status.busy": "2025-01-28T20:30:38.068505Z",
     "iopub.status.idle": "2025-01-28T20:30:38.077788Z",
     "shell.execute_reply": "2025-01-28T20:30:38.075918Z"
    },
    "executionInfo": {
     "elapsed": 9,
     "status": "ok",
     "timestamp": 1738091032603,
     "user": {
      "displayName": "Javier Alhambra",
      "userId": "08990227891354213622"
     },
     "user_tz": -60
    },
    "id": "jSdHEiZ9FZt7",
    "jupyter": {
     "source_hidden": true
    },
    "outputId": "78caa602-9258-413c-de79-19f1caa20e12",
    "papermill": {
     "duration": 0.041902,
     "end_time": "2025-01-28T20:30:38.080300",
     "exception": false,
     "start_time": "2025-01-28T20:30:38.038398",
     "status": "completed"
    },
    "tags": []
   },
   "outputs": [
    {
     "name": "stdout",
     "output_type": "stream",
     "text": [
      "root\n",
      " |-- neighbourhood_group: string (nullable = true)\n",
      " |-- neighbourhood: string (nullable = true)\n",
      "\n"
     ]
    }
   ],
   "source": [
    "neighbourhoods.printSchema()"
   ]
  },
  {
   "cell_type": "code",
   "execution_count": 11,
   "id": "c4248adf",
   "metadata": {
    "colab": {
     "base_uri": "https://localhost:8080/"
    },
    "execution": {
     "iopub.execute_input": "2025-01-28T20:30:38.120768Z",
     "iopub.status.busy": "2025-01-28T20:30:38.120040Z",
     "iopub.status.idle": "2025-01-28T20:30:38.561288Z",
     "shell.execute_reply": "2025-01-28T20:30:38.558906Z"
    },
    "executionInfo": {
     "elapsed": 1354,
     "status": "ok",
     "timestamp": 1738091033953,
     "user": {
      "displayName": "Javier Alhambra",
      "userId": "08990227891354213622"
     },
     "user_tz": -60
    },
    "id": "VMxWMDJOrTps",
    "jupyter": {
     "source_hidden": true
    },
    "outputId": "a81dbd9e-eed1-4ef5-a97b-b83728fa0857",
    "papermill": {
     "duration": 0.470133,
     "end_time": "2025-01-28T20:30:38.565017",
     "exception": false,
     "start_time": "2025-01-28T20:30:38.094884",
     "status": "completed"
    },
    "tags": []
   },
   "outputs": [
    {
     "name": "stdout",
     "output_type": "stream",
     "text": [
      "+------+--------------------+---------+--------------------+----------------------+-----------------+--------------------+-----------+\n",
      "|    id|         listing_url|  host_id|       neighbourhood|neighbourhood_cleansed|number_of_reviews|review_scores_rating|last_review|\n",
      "+------+--------------------+---------+--------------------+----------------------+-----------------+--------------------+-----------+\n",
      "| 73282|https://www.airbn...| 377532.0|                null|              Sihlfeld|             47.0|                4.78| 2019-04-27|\n",
      "|143821|https://www.airbn...| 697307.0|                null|          Alt-Wiedikon|              0.0|                null|       null|\n",
      "|178448|https://www.airbn...| 854016.0| Zurich, Switzerland|                  Enge|              9.0|                4.89| 2016-05-10|\n",
      "|204586|https://www.airbn...|1004816.0|                null|                 Höngg|              0.0|                null|       null|\n",
      "|227039|https://www.airbn...|1184427.0|Zurich, Canton of...|           Escher Wyss|             31.0|                4.97| 2023-08-22|\n",
      "+------+--------------------+---------+--------------------+----------------------+-----------------+--------------------+-----------+\n",
      "only showing top 5 rows\n",
      "\n"
     ]
    }
   ],
   "source": [
    "# Show the first 5 rows\n",
    "listings_details.show(5)"
   ]
  },
  {
   "cell_type": "code",
   "execution_count": 12,
   "id": "9fcc3c1c",
   "metadata": {
    "execution": {
     "iopub.execute_input": "2025-01-28T20:30:38.613478Z",
     "iopub.status.busy": "2025-01-28T20:30:38.613092Z",
     "iopub.status.idle": "2025-01-28T20:30:38.880872Z",
     "shell.execute_reply": "2025-01-28T20:30:38.879100Z"
    },
    "id": "sLd8EBuRryq3",
    "jupyter": {
     "source_hidden": true
    },
    "papermill": {
     "duration": 0.295431,
     "end_time": "2025-01-28T20:30:38.883472",
     "exception": false,
     "start_time": "2025-01-28T20:30:38.588041",
     "status": "completed"
    },
    "tags": []
   },
   "outputs": [],
   "source": [
    "# If exists, delete directory structure\n",
    "! rm -rf \"../tables\""
   ]
  },
  {
   "cell_type": "code",
   "execution_count": 13,
   "id": "2e3f3d76",
   "metadata": {
    "execution": {
     "iopub.execute_input": "2025-01-28T20:30:38.921784Z",
     "iopub.status.busy": "2025-01-28T20:30:38.921474Z",
     "iopub.status.idle": "2025-01-28T20:30:39.769247Z",
     "shell.execute_reply": "2025-01-28T20:30:39.767858Z"
    },
    "id": "zGitxt0psHxK",
    "jupyter": {
     "source_hidden": true
    },
    "papermill": {
     "duration": 0.874905,
     "end_time": "2025-01-28T20:30:39.772344",
     "exception": false,
     "start_time": "2025-01-28T20:30:38.897439",
     "status": "completed"
    },
    "tags": []
   },
   "outputs": [],
   "source": [
    "# Create directory structure\n",
    "! mkdir \"../tables\"\n",
    "! mkdir \"../tables/bronze\"\n",
    "! mkdir \"../tables/silver\"\n",
    "! mkdir \"../tables/gold\""
   ]
  },
  {
   "cell_type": "markdown",
   "id": "be29e291",
   "metadata": {
    "id": "rc6yASbfsTh7",
    "papermill": {
     "duration": 0.02546,
     "end_time": "2025-01-28T20:30:39.808820",
     "exception": false,
     "start_time": "2025-01-28T20:30:39.783360",
     "status": "completed"
    },
    "tags": []
   },
   "source": [
    "# PART 2: Bronze Layer"
   ]
  },
  {
   "cell_type": "code",
   "execution_count": 14,
   "id": "81bd07d1",
   "metadata": {
    "execution": {
     "iopub.execute_input": "2025-01-28T20:30:39.844508Z",
     "iopub.status.busy": "2025-01-28T20:30:39.844194Z",
     "iopub.status.idle": "2025-01-28T20:30:44.024128Z",
     "shell.execute_reply": "2025-01-28T20:30:44.021247Z"
    },
    "id": "z9Flpd8zsTRx",
    "jupyter": {
     "source_hidden": true
    },
    "papermill": {
     "duration": 4.200508,
     "end_time": "2025-01-28T20:30:44.027889",
     "exception": false,
     "start_time": "2025-01-28T20:30:39.827381",
     "status": "completed"
    },
    "tags": []
   },
   "outputs": [
    {
     "name": "stderr",
     "output_type": "stream",
     "text": [
      "\r",
      "[Stage 3:>                                                          (0 + 2) / 2]\r"
     ]
    },
    {
     "name": "stderr",
     "output_type": "stream",
     "text": [
      "\r",
      "                                                                                \r"
     ]
    },
    {
     "name": "stderr",
     "output_type": "stream",
     "text": [
      "\r",
      "[Stage 4:>                                                          (0 + 1) / 1]\r"
     ]
    },
    {
     "name": "stderr",
     "output_type": "stream",
     "text": [
      "\r",
      "                                                                                \r"
     ]
    }
   ],
   "source": [
    "# Write raw data to Bronze layer in Parquet format\n",
    "\n",
    "# Bronze paths\n",
    "bronze_path = \"../tables\"\n",
    "layer = \"bronze\"\n",
    "listings_filename = \"bronze_listings_details\"\n",
    "neighbourhoods_filename = \"neighbourhoods\"\n",
    "\n",
    "\n",
    "bronze_listing_output_file = \"{path}/{layer}/{filename}\".format(path=bronze_path, layer=layer, filename=listings_filename)\n",
    "listings_details.write.mode( \"overwrite\" ) \\\n",
    ".partitionBy(\"neighbourhood_cleansed\") \\\n",
    ".parquet(bronze_listing_output_file)\n",
    "\n",
    "bronze_neighbourhoods_output_file = \"{path}/{layer}/{filename}\".format(path=bronze_path, layer=layer, filename=neighbourhoods_filename)\n",
    "neighbourhoods.write.mode( \"overwrite\" ) \\\n",
    "  .partitionBy(\"neighbourhood\") \\\n",
    "  .parquet(bronze_neighbourhoods_output_file)"
   ]
  },
  {
   "cell_type": "markdown",
   "id": "015874cf",
   "metadata": {
    "id": "5jS82gP8w3ML",
    "papermill": {
     "duration": 0.027713,
     "end_time": "2025-01-28T20:30:44.072622",
     "exception": false,
     "start_time": "2025-01-28T20:30:44.044909",
     "status": "completed"
    },
    "tags": []
   },
   "source": [
    "# PART 3: Silver Layer"
   ]
  },
  {
   "cell_type": "code",
   "execution_count": 15,
   "id": "150f18e3",
   "metadata": {
    "execution": {
     "iopub.execute_input": "2025-01-28T20:30:44.132295Z",
     "iopub.status.busy": "2025-01-28T20:30:44.131683Z",
     "iopub.status.idle": "2025-01-28T20:30:45.688061Z",
     "shell.execute_reply": "2025-01-28T20:30:45.685415Z"
    },
    "id": "jODzTALhYIvy",
    "jupyter": {
     "source_hidden": true
    },
    "papermill": {
     "duration": 1.591314,
     "end_time": "2025-01-28T20:30:45.692224",
     "exception": false,
     "start_time": "2025-01-28T20:30:44.100910",
     "status": "completed"
    },
    "tags": []
   },
   "outputs": [],
   "source": [
    "# Silver paths\n",
    "silver_listing_input_file = bronze_listing_output_file\n",
    "silver_neighbourhoods_input_file = bronze_neighbourhoods_output_file\n",
    "\n",
    "# Load Bronze data\n",
    "bronze_listingsDF = spark.read.parquet(silver_listing_input_file)\n",
    "bronze_neighbourhoodsDF = spark.read.parquet(silver_neighbourhoods_input_file)"
   ]
  },
  {
   "cell_type": "code",
   "execution_count": 16,
   "id": "14b86f07",
   "metadata": {
    "execution": {
     "iopub.execute_input": "2025-01-28T20:30:45.743227Z",
     "iopub.status.busy": "2025-01-28T20:30:45.742769Z",
     "iopub.status.idle": "2025-01-28T20:30:45.805386Z",
     "shell.execute_reply": "2025-01-28T20:30:45.802891Z"
    },
    "id": "2V5MfUUOvGdv",
    "jupyter": {
     "source_hidden": true
    },
    "papermill": {
     "duration": 0.096999,
     "end_time": "2025-01-28T20:30:45.809907",
     "exception": false,
     "start_time": "2025-01-28T20:30:45.712908",
     "status": "completed"
    },
    "tags": []
   },
   "outputs": [],
   "source": [
    "# add Python file to the PySpark context, which makes it available on all worker nodes of the Spark cluster when running distributed operations.\n",
    "spark.sparkContext.addPyFile('../src/transformations.zip')"
   ]
  },
  {
   "cell_type": "code",
   "execution_count": 17,
   "id": "b586b4b9",
   "metadata": {
    "execution": {
     "iopub.execute_input": "2025-01-28T20:30:45.865753Z",
     "iopub.status.busy": "2025-01-28T20:30:45.863495Z",
     "iopub.status.idle": "2025-01-28T20:30:45.878722Z",
     "shell.execute_reply": "2025-01-28T20:30:45.876028Z"
    },
    "id": "wJirr4LCq7-q",
    "jupyter": {
     "source_hidden": true
    },
    "papermill": {
     "duration": 0.046796,
     "end_time": "2025-01-28T20:30:45.883218",
     "exception": false,
     "start_time": "2025-01-28T20:30:45.836422",
     "status": "completed"
    },
    "tags": []
   },
   "outputs": [],
   "source": [
    "# Register the function as a UDF so that it can be executed in each partition of the cluster\n",
    "format_date_udf = udf(format_date, StringType())"
   ]
  },
  {
   "cell_type": "code",
   "execution_count": 18,
   "id": "0a9ba3b0",
   "metadata": {
    "execution": {
     "iopub.execute_input": "2025-01-28T20:30:45.938122Z",
     "iopub.status.busy": "2025-01-28T20:30:45.937375Z",
     "iopub.status.idle": "2025-01-28T20:30:46.091323Z",
     "shell.execute_reply": "2025-01-28T20:30:46.088444Z"
    },
    "id": "iYvj3DXqw27K",
    "jupyter": {
     "source_hidden": true
    },
    "papermill": {
     "duration": 0.18584,
     "end_time": "2025-01-28T20:30:46.096014",
     "exception": false,
     "start_time": "2025-01-28T20:30:45.910174",
     "status": "completed"
    },
    "tags": []
   },
   "outputs": [],
   "source": [
    "# Join datasets and create new fields\n",
    "join_silver_listingsDF = bronze_listingsDF.join(\n",
    "    bronze_neighbourhoodsDF,\n",
    "    bronze_listingsDF[\"neighbourhood_cleansed\"] == bronze_neighbourhoodsDF[\"neighbourhood\"],\n",
    "    \"left\"\n",
    ").withColumn(\n",
    "    \"neighbourhood_group\", col(\"neighbourhood_group\")\n",
    ").withColumn(\n",
    "    \"last_review_human\", format_date_udf(col(\"last_review\"))\n",
    ").drop(\n",
    "    bronze_neighbourhoodsDF[\"neighbourhood\"]\n",
    ")\n"
   ]
  },
  {
   "cell_type": "code",
   "execution_count": 19,
   "id": "fe43afd1",
   "metadata": {
    "colab": {
     "base_uri": "https://localhost:8080/"
    },
    "execution": {
     "iopub.execute_input": "2025-01-28T20:30:46.148865Z",
     "iopub.status.busy": "2025-01-28T20:30:46.148180Z",
     "iopub.status.idle": "2025-01-28T20:30:48.329618Z",
     "shell.execute_reply": "2025-01-28T20:30:48.327731Z"
    },
    "executionInfo": {
     "elapsed": 5353,
     "status": "ok",
     "timestamp": 1738091068027,
     "user": {
      "displayName": "Javier Alhambra",
      "userId": "08990227891354213622"
     },
     "user_tz": -60
    },
    "id": "8GDbdXs6WNvZ",
    "jupyter": {
     "source_hidden": true
    },
    "outputId": "aca35e6a-a61d-423e-9994-0752de2907aa",
    "papermill": {
     "duration": 2.217543,
     "end_time": "2025-01-28T20:30:48.333261",
     "exception": false,
     "start_time": "2025-01-28T20:30:46.115718",
     "status": "completed"
    },
    "tags": []
   },
   "outputs": [
    {
     "name": "stderr",
     "output_type": "stream",
     "text": [
      "\r",
      "[Stage 10:>                                                         (0 + 1) / 1]\r"
     ]
    },
    {
     "name": "stdout",
     "output_type": "stream",
     "text": [
      "+-------+------------------------------------+----------+-----------------------+-----------------+--------------------+-----------+----------------------+-------------------+------------------------+\n",
      "|id     |listing_url                         |host_id   |neighbourhood          |number_of_reviews|review_scores_rating|last_review|neighbourhood_cleansed|neighbourhood_group|last_review_human       |\n",
      "+-------+------------------------------------+----------+-----------------------+-----------------+--------------------+-----------+----------------------+-------------------+------------------------+\n",
      "|1179802|https://www.airbnb.com/rooms/1179802|3072454.0 |Zürich, Switzerland    |212.0            |4.9                 |2022-07-29 |Langstrasse           |Kreis 4            |Friday 29 July 2022     |\n",
      "|3673115|https://www.airbnb.com/rooms/3673115|6225442.0 |Zurich, Switzerland    |7.0              |4.71                |2019-11-10 |Langstrasse           |Kreis 4            |Sunday 10 November 2019 |\n",
      "|4381761|https://www.airbnb.com/rooms/4381761|1926619.0 |Zürich, ZH, Switzerland|65.0             |4.82                |2023-06-18 |Langstrasse           |Kreis 4            |Sunday 18 June 2023     |\n",
      "|5081849|https://www.airbnb.com/rooms/5081849|3595908.0 |Zürich, Switzerland    |31.0             |4.87                |2024-06-23 |Langstrasse           |Kreis 4            |Sunday 23 June 2024     |\n",
      "|6930672|https://www.airbnb.com/rooms/6930672|20803042.0|Zürich, Switzerland    |7.0              |5.0                 |2022-12-13 |Langstrasse           |Kreis 4            |Tuesday 13 December 2022|\n",
      "|9244524|https://www.airbnb.com/rooms/9244524|12886487.0|Zürich, Switzerland    |9.0              |4.56                |2023-11-17 |Langstrasse           |Kreis 4            |Friday 17 November 2023 |\n",
      "|9245092|https://www.airbnb.com/rooms/9245092|12886487.0|Zürich, Switzerland    |8.0              |4.63                |2024-03-21 |Langstrasse           |Kreis 4            |Thursday 21 March 2024  |\n",
      "|9245379|https://www.airbnb.com/rooms/9245379|12886487.0|Zürich, Switzerland    |28.0             |4.46                |2024-01-14 |Langstrasse           |Kreis 4            |Sunday 14 January 2024  |\n",
      "|9248507|https://www.airbnb.com/rooms/9248507|12886487.0|Zürich, Switzerland    |89.0             |4.67                |2024-06-23 |Langstrasse           |Kreis 4            |Sunday 23 June 2024     |\n",
      "|9248717|https://www.airbnb.com/rooms/9248717|12886487.0|Zürich, Switzerland    |35.0             |4.71                |2024-06-10 |Langstrasse           |Kreis 4            |Monday 10 June 2024     |\n",
      "+-------+------------------------------------+----------+-----------------------+-----------------+--------------------+-----------+----------------------+-------------------+------------------------+\n",
      "only showing top 10 rows\n",
      "\n"
     ]
    },
    {
     "name": "stderr",
     "output_type": "stream",
     "text": [
      "\r",
      "                                                                                \r"
     ]
    }
   ],
   "source": [
    "# Display all columns from the DataFrame\n",
    "join_silver_listingsDF.show(10, truncate=False)"
   ]
  },
  {
   "cell_type": "code",
   "execution_count": 20,
   "id": "530875dc",
   "metadata": {
    "execution": {
     "iopub.execute_input": "2025-01-28T20:30:48.378287Z",
     "iopub.status.busy": "2025-01-28T20:30:48.377535Z",
     "iopub.status.idle": "2025-01-28T20:30:49.990153Z",
     "shell.execute_reply": "2025-01-28T20:30:49.987002Z"
    },
    "id": "ujk52mYjV6hA",
    "jupyter": {
     "source_hidden": true
    },
    "papermill": {
     "duration": 1.641249,
     "end_time": "2025-01-28T20:30:49.994553",
     "exception": false,
     "start_time": "2025-01-28T20:30:48.353304",
     "status": "completed"
    },
    "tags": []
   },
   "outputs": [
    {
     "name": "stderr",
     "output_type": "stream",
     "text": [
      "\r",
      "[Stage 12:>                                                       (0 + 12) / 12]\r",
      "\r",
      "[Stage 12:====>                                                   (1 + 11) / 12]\r"
     ]
    },
    {
     "name": "stderr",
     "output_type": "stream",
     "text": [
      "\r",
      "[Stage 12:===================>                                     (4 + 8) / 12]\r",
      "\r",
      "                                                                                \r"
     ]
    }
   ],
   "source": [
    "# Write data to Silver layer\n",
    "silver_listings_path = \"../tables/silver/silver_listings_details\"\n",
    "join_silver_listingsDF.write.mode(\"overwrite\") \\\n",
    "  .partitionBy(\"neighbourhood_group\") \\\n",
    "  .parquet(silver_listings_path)"
   ]
  },
  {
   "cell_type": "markdown",
   "id": "25f8942c",
   "metadata": {
    "id": "afJk3vYE7V3e",
    "papermill": {
     "duration": 0.028472,
     "end_time": "2025-01-28T20:30:50.045576",
     "exception": false,
     "start_time": "2025-01-28T20:30:50.017104",
     "status": "completed"
    },
    "tags": []
   },
   "source": [
    "# PART 4: Gold Layer"
   ]
  },
  {
   "cell_type": "code",
   "execution_count": 21,
   "id": "cb2cfdd0",
   "metadata": {
    "execution": {
     "iopub.execute_input": "2025-01-28T20:30:50.098406Z",
     "iopub.status.busy": "2025-01-28T20:30:50.097964Z",
     "iopub.status.idle": "2025-01-28T20:30:52.935767Z",
     "shell.execute_reply": "2025-01-28T20:30:52.933927Z"
    },
    "id": "rEA61VcQ_PNn",
    "jupyter": {
     "source_hidden": true
    },
    "papermill": {
     "duration": 2.867265,
     "end_time": "2025-01-28T20:30:52.939639",
     "exception": false,
     "start_time": "2025-01-28T20:30:50.072374",
     "status": "completed"
    },
    "tags": []
   },
   "outputs": [
    {
     "name": "stderr",
     "output_type": "stream",
     "text": [
      "\r",
      "[Stage 15:======================================>                  (8 + 4) / 12]\r"
     ]
    },
    {
     "name": "stderr",
     "output_type": "stream",
     "text": [
      "\r",
      "[Stage 16:==========================================>              (9 + 3) / 12]\r"
     ]
    },
    {
     "name": "stderr",
     "output_type": "stream",
     "text": [
      "\r",
      "                                                                                \r"
     ]
    }
   ],
   "source": [
    "# Load Silver data\n",
    "silver_listings = spark.read.parquet(silver_listings_path)\n",
    "\n",
    "# Calculate metrics\n",
    "id_gold_listings = silver_listings\\\n",
    "  .groupBy(\"id\").agg(\n",
    "    count(\"number_of_reviews\").alias(\"id_rating_count\"),\n",
    "    avg(\"review_scores_rating\").alias(\"id_rating_avg\"))\n",
    "\n",
    "# Join neighbourhood_group to id_gold_listings\n",
    "id_gold_listings = id_gold_listings.join(\n",
    "    silver_listings.select(\"id\", \"neighbourhood_group\"),\n",
    "    on=\"id\",\n",
    "    how=\"left\")\n",
    "\n",
    "# Calculate metrics\n",
    "group_gold_listings = silver_listings\\\n",
    "  .groupBy(\"neighbourhood_group\").agg(\n",
    "    count(\"number_of_reviews\").alias(\"ng_rating_count\"),\n",
    "    avg(\"review_scores_rating\").alias(\"ng_rating_avg\"))\n",
    "\n",
    "# Gold DF\n",
    "gold_listings = id_gold_listings.join(\n",
    "    group_gold_listings.select(\"neighbourhood_group\",\"ng_rating_count\", \"ng_rating_avg\"),\n",
    "    on=\"neighbourhood_group\",\n",
    "    how=\"left\")\n",
    "\n",
    "# Write data to Gold layer\n",
    "gold_listings_path = \"../tables/gold/dasboard_ng_ratings\"\n",
    "gold_listings.write.mode(\"overwrite\") \\\n",
    "  .partitionBy(\"neighbourhood_group\") \\\n",
    "  .parquet(gold_listings_path)"
   ]
  },
  {
   "cell_type": "markdown",
   "id": "af6a03eb",
   "metadata": {
    "id": "LeQMzXb1G9pB",
    "papermill": {
     "duration": 0.0236,
     "end_time": "2025-01-28T20:30:52.980713",
     "exception": false,
     "start_time": "2025-01-28T20:30:52.957113",
     "status": "completed"
    },
    "tags": []
   },
   "source": [
    "# PART 5: Presentation"
   ]
  },
  {
   "cell_type": "code",
   "execution_count": 22,
   "id": "c4fd440c",
   "metadata": {
    "colab": {
     "base_uri": "https://localhost:8080/",
     "height": 607
    },
    "execution": {
     "iopub.execute_input": "2025-01-28T20:30:53.040157Z",
     "iopub.status.busy": "2025-01-28T20:30:53.039738Z",
     "iopub.status.idle": "2025-01-28T20:30:55.843698Z",
     "shell.execute_reply": "2025-01-28T20:30:55.842793Z"
    },
    "executionInfo": {
     "elapsed": 7159,
     "status": "ok",
     "timestamp": 1738091105353,
     "user": {
      "displayName": "Javier Alhambra",
      "userId": "08990227891354213622"
     },
     "user_tz": -60
    },
    "id": "Fkcqa5sOG-IE",
    "jupyter": {
     "source_hidden": true
    },
    "outputId": "0bec566c-5261-41c5-cde4-1e8838039288",
    "papermill": {
     "duration": 2.835424,
     "end_time": "2025-01-28T20:30:55.845707",
     "exception": false,
     "start_time": "2025-01-28T20:30:53.010283",
     "status": "completed"
    },
    "tags": []
   },
   "outputs": [
    {
     "data": {
      "image/png": "[encoded data removed]",
      "text/plain": [
       "<Figure size 1000x600 with 1 Axes>"
      ]
     },
     "metadata": {},
     "output_type": "display_data"
    }
   ],
   "source": [
    "# Load Gold data\n",
    "gold_listings = spark.read.parquet(gold_listings_path)\n",
    "\n",
    "# Convert Gold data to Pandas for plotting\n",
    "gold_pandas = gold_listings.toPandas()\n",
    "\n",
    "# Define the order of the neighborhood groups\n",
    "order = ['Kreis 1', 'Kreis 2', 'Kreis 3', 'Kreis 4', 'Kreis 5', 'Kreis 6', 'Kreis 7', 'Kreis 8', 'Kreis 9', 'Kreis 10', 'Kreis 11', 'Kreis 12']\n",
    "\n",
    "# Convert the 'neighbourhood_group' column to a categorical type with the specified order\n",
    "gold_pandas['neighbourhood_group'] = pd.Categorical(gold_pandas['neighbourhood_group'], categories=order, ordered=True)\n",
    "\n",
    "# Sort the data by neighbourhood_group\n",
    "gold_pandas = gold_pandas.sort_values(\"neighbourhood_group\")\n",
    "\n",
    "# Export Gold data to CSV for visualization\n",
    "gold_csv_path = \"../datasets/dashboard_ng_ratings.csv\"\n",
    "gold_pandas.to_csv(gold_csv_path, index=False)\n",
    "\n",
    "# Convert to str and remove any NaN value\n",
    "gold_pandas[\"neighbourhood_group\"] = gold_pandas[\"neighbourhood_group\"].astype(str).fillna(\"Unknown\")\n",
    "\n",
    "# Plot neighborhood group ratings\n",
    "plt.figure(figsize=(10, 6))\n",
    "plt.bar(gold_pandas[\"neighbourhood_group\"], gold_pandas[\"ng_rating_avg\"], color='skyblue')\n",
    "plt.title(\"Average Ratings by Neighbourhood Group\", fontsize=16)\n",
    "plt.xlabel(\"Neighbourhood Group\", fontsize=12)\n",
    "plt.ylabel(\"Average Rating\", fontsize=12)\n",
    "plt.xticks(rotation=45)\n",
    "plt.tight_layout()\n",
    "plt.show()"
   ]
  },
  {
   "cell_type": "code",
   "execution_count": 23,
   "id": "a7104304",
   "metadata": {
    "execution": {
     "iopub.execute_input": "2025-01-28T20:30:55.889174Z",
     "iopub.status.busy": "2025-01-28T20:30:55.888498Z",
     "iopub.status.idle": "2025-01-28T20:30:56.923609Z",
     "shell.execute_reply": "2025-01-28T20:30:56.922054Z"
    },
    "id": "y7REwrd-ktLE",
    "jupyter": {
     "source_hidden": true
    },
    "papermill": {
     "duration": 1.063098,
     "end_time": "2025-01-28T20:30:56.926202",
     "exception": false,
     "start_time": "2025-01-28T20:30:55.863104",
     "status": "completed"
    },
    "tags": []
   },
   "outputs": [],
   "source": [
    "# Close the Spark session when done\n",
    "spark.stop()"
   ]
  }
 ],
 "metadata": {
  "colab": {
   "authorship_tag": "ABX9TyP40Jj1xYPaGZpvCAmWwFks",
   "mount_file_id": "1lnQuIobpSLT_sI6soZy_dxlKVVpJXlAT",
   "provenance": []
  },
  "kernelspec": {
   "display_name": "Python 3",
   "name": "python3"
  },
  "language_info": {
   "codemirror_mode": {
    "name": "ipython",
    "version": 3
   },
   "file_extension": ".py",
   "mimetype": "text/x-python",
   "name": "python",
   "nbconvert_exporter": "python",
   "pygments_lexer": "ipython3",
   "version": "3.7.16"
  },
  "papermill": {
   "default_parameters": {},
   "duration": 82.659504,
   "end_time": "2025-01-28T20:30:59.565080",
   "environment_variables": {},
   "exception": null,
   "input_path": "/opt/airflow/airbnb_project/notebooks/main.ipynb",
   "output_path": "/opt/airflow/airbnb_project/notebooks/main_output.ipynb",
   "parameters": {},
   "start_time": "2025-01-28T20:29:36.905576",
   "version": "2.4.0"
  }
 },
 "nbformat": 4,
 "nbformat_minor": 5
}