{
 "cells": [
  {
   "cell_type": "markdown",
   "id": "114ac666",
   "metadata": {
    "tags": [
     "papermill-error-cell-tag"
    ]
   },
   "source": [
    "<span style=\"color:red; font-family:Helvetica Neue, Helvetica, Arial, sans-serif; font-size:2em;\">An Exception was encountered at '<a href=\"#papermill-error-cell\">In [3]</a>'.</span>"
   ]
  },
  {
   "cell_type": "markdown",
   "id": "887e9526",
   "metadata": {
    "id": "ExGZystyH3gw",
    "papermill": {
     "duration": 0.017403,
     "end_time": "2025-01-28T12:03:40.427866",
     "exception": false,
     "start_time": "2025-01-28T12:03:40.410463",
     "status": "completed"
    },
    "tags": []
   },
   "source": [
    "# Location"
   ]
  },
  {
   "cell_type": "code",
   "execution_count": 1,
   "id": "07a5c9ca",
   "metadata": {
    "colab": {
     "base_uri": "https://localhost:8080/"
    },
    "execution": {
     "iopub.execute_input": "2025-01-28T12:03:40.481365Z",
     "iopub.status.busy": "2025-01-28T12:03:40.481017Z",
     "iopub.status.idle": "2025-01-28T12:03:40.495811Z",
     "shell.execute_reply": "2025-01-28T12:03:40.493774Z"
    },
    "executionInfo": {
     "elapsed": 207,
     "status": "ok",
     "timestamp": 1738058477377,
     "user": {
      "displayName": "Javier Alhambra",
      "userId": "08990227891354213622"
     },
     "user_tz": -60
    },
    "id": "m2-unRUWJ60N",
    "jupyter": {
     "source_hidden": true
    },
    "outputId": "e0295655-5ee9-4bfd-bcbe-5fbffeee82c1",
    "papermill": {
     "duration": 0.041436,
     "end_time": "2025-01-28T12:03:40.501503",
     "exception": false,
     "start_time": "2025-01-28T12:03:40.460067",
     "status": "completed"
    },
    "tags": []
   },
   "outputs": [
    {
     "name": "stdout",
     "output_type": "stream",
     "text": [
      "Current directory: /opt/airflow\n"
     ]
    }
   ],
   "source": [
    "import os\n",
    "\n",
    "# In Colab, the notebook is mounted in Google Drive at '/content'\n",
    "\n",
    "# Try to detect the environment dynamically\n",
    "if 'COLAB_GPU' in os.environ:  # Check if running in Colab\n",
    "    # Colab path where the notebook is located\n",
    "    notebook_directory = '/content/drive/MyDrive/airbnb_project/notebooks/'\n",
    "elif os.path.exists('/airbnb_project/notebooks'):  # Check if running in Docker\n",
    "    # Docker path where the notebook is located\n",
    "    notebook_directory = '/airbnb_project/notebooks/'\n",
    "else:\n",
    "    # Default fallback if not in either environment\n",
    "    notebook_directory = os.getcwd()\n",
    "\n",
    "# Change the current working directory to the notebook's location\n",
    "os.chdir(notebook_directory)\n",
    "\n",
    "# Verify the current directory\n",
    "print(\"Current directory:\", os.getcwd())\n"
   ]
  },
  {
   "cell_type": "markdown",
   "id": "228d8518",
   "metadata": {
    "id": "BX4uMNgPLfAG",
    "papermill": {
     "duration": 0.02235,
     "end_time": "2025-01-28T12:03:40.537108",
     "exception": false,
     "start_time": "2025-01-28T12:03:40.514758",
     "status": "completed"
    },
    "tags": []
   },
   "source": [
    "# Libraries"
   ]
  },
  {
   "cell_type": "code",
   "execution_count": 2,
   "id": "d9ce6e22",
   "metadata": {
    "execution": {
     "iopub.execute_input": "2025-01-28T12:03:40.588280Z",
     "iopub.status.busy": "2025-01-28T12:03:40.587967Z",
     "iopub.status.idle": "2025-01-28T12:03:40.594202Z",
     "shell.execute_reply": "2025-01-28T12:03:40.592716Z"
    },
    "executionInfo": {
     "elapsed": 372,
     "status": "ok",
     "timestamp": 1738058480023,
     "user": {
      "displayName": "Javier Alhambra",
      "userId": "08990227891354213622"
     },
     "user_tz": -60
    },
    "id": "UchUkmJNkdNc",
    "jupyter": {
     "source_hidden": true
    },
    "papermill": {
     "duration": 0.032699,
     "end_time": "2025-01-28T12:03:40.596655",
     "exception": false,
     "start_time": "2025-01-28T12:03:40.563956",
     "status": "completed"
    },
    "tags": []
   },
   "outputs": [],
   "source": [
    "import sys\n",
    "sys.path.append('../src')"
   ]
  },
  {
   "cell_type": "markdown",
   "id": "39ff834f",
   "metadata": {
    "tags": [
     "papermill-error-cell-tag"
    ]
   },
   "source": [
    "<span id=\"papermill-error-cell\" style=\"color:red; font-family:Helvetica Neue, Helvetica, Arial, sans-serif; font-size:2em;\">Execution using papermill encountered an exception here and stopped:</span>"
   ]
  },
  {
   "cell_type": "code",
   "execution_count": 3,
   "id": "f70b7200",
   "metadata": {
    "colab": {
     "base_uri": "https://localhost:8080/"
    },
    "execution": {
     "iopub.execute_input": "2025-01-28T12:03:40.633482Z",
     "iopub.status.busy": "2025-01-28T12:03:40.633147Z",
     "iopub.status.idle": "2025-01-28T12:04:15.238842Z",
     "shell.execute_reply": "2025-01-28T12:04:15.237585Z"
    },
    "executionInfo": {
     "elapsed": 10504,
     "status": "ok",
     "timestamp": 1738063530715,
     "user": {
      "displayName": "Javier Alhambra",
      "userId": "08990227891354213622"
     },
     "user_tz": -60
    },
    "id": "i2rLdgBGIP_p",
    "jupyter": {
     "source_hidden": true
    },
    "outputId": "2022a873-9bc0-447b-9747-ac34d18963dd",
    "papermill": {
     "duration": 34.630072,
     "end_time": "2025-01-28T12:04:15.240647",
     "exception": true,
     "start_time": "2025-01-28T12:03:40.610575",
     "status": "failed"
    },
    "tags": []
   },
   "outputs": [
    {
     "name": "stdout",
     "output_type": "stream",
     "text": [
      "Collecting pyspark\r\n",
      "  Using cached pyspark-3.4.4-py2.py3-none-any.whl\r\n"
     ]
    },
    {
     "name": "stdout",
     "output_type": "stream",
     "text": [
      "Collecting py4j==0.10.9.7 (from pyspark)\r\n",
      "  Using cached py4j-0.10.9.7-py2.py3-none-any.whl (200 kB)\r\n"
     ]
    },
    {
     "name": "stdout",
     "output_type": "stream",
     "text": [
      "Installing collected packages: py4j, pyspark\r\n"
     ]
    },
    {
     "name": "stdout",
     "output_type": "stream",
     "text": [
      "Successfully installed py4j-0.10.9.7 pyspark-3.4.4\r\n"
     ]
    },
    {
     "name": "stdout",
     "output_type": "stream",
     "text": [
      "\r\n",
      "\u001b[1m[\u001b[0m\u001b[34;49mnotice\u001b[0m\u001b[1;39;49m]\u001b[0m\u001b[39;49m A new release of pip is available: \u001b[0m\u001b[31;49m23.1.2\u001b[0m\u001b[39;49m -> \u001b[0m\u001b[32;49m24.0\u001b[0m\r\n",
      "\u001b[1m[\u001b[0m\u001b[34;49mnotice\u001b[0m\u001b[1;39;49m]\u001b[0m\u001b[39;49m To update, run: \u001b[0m\u001b[32;49mpython3 -m pip install --upgrade pip\u001b[0m\r\n"
     ]
    },
    {
     "name": "stdout",
     "output_type": "stream",
     "text": [
      "Note: you may need to restart the kernel to use updated packages.\n"
     ]
    },
    {
     "name": "stdout",
     "output_type": "stream",
     "text": [
      "Collecting openpyxl\r\n"
     ]
    },
    {
     "name": "stdout",
     "output_type": "stream",
     "text": [
      "  Using cached openpyxl-3.1.3-py2.py3-none-any.whl (251 kB)\r\n",
      "Collecting et-xmlfile (from openpyxl)\r\n",
      "  Using cached et_xmlfile-1.1.0-py3-none-any.whl (4.7 kB)\r\n"
     ]
    },
    {
     "name": "stdout",
     "output_type": "stream",
     "text": [
      "Installing collected packages: et-xmlfile, openpyxl\r\n"
     ]
    },
    {
     "name": "stdout",
     "output_type": "stream",
     "text": [
      "Successfully installed et-xmlfile-1.1.0 openpyxl-3.1.3\r\n",
      "\r\n",
      "\u001b[1m[\u001b[0m\u001b[34;49mnotice\u001b[0m\u001b[1;39;49m]\u001b[0m\u001b[39;49m A new release of pip is available: \u001b[0m\u001b[31;49m23.1.2\u001b[0m\u001b[39;49m -> \u001b[0m\u001b[32;49m24.0\u001b[0m\r\n",
      "\u001b[1m[\u001b[0m\u001b[34;49mnotice\u001b[0m\u001b[1;39;49m]\u001b[0m\u001b[39;49m To update, run: \u001b[0m\u001b[32;49mpython3 -m pip install --upgrade pip\u001b[0m\r\n"
     ]
    },
    {
     "name": "stdout",
     "output_type": "stream",
     "text": [
      "Note: you may need to restart the kernel to use updated packages.\n"
     ]
    },
    {
     "name": "stdout",
     "output_type": "stream",
     "text": [
      "Collecting matplotlib\r\n",
      "  Using cached matplotlib-3.5.3-cp37-cp37m-manylinux_2_5_x86_64.manylinux1_x86_64.whl (11.2 MB)\r\n"
     ]
    },
    {
     "name": "stdout",
     "output_type": "stream",
     "text": [
      "Collecting cycler>=0.10 (from matplotlib)\r\n",
      "  Using cached cycler-0.11.0-py3-none-any.whl (6.4 kB)\r\n"
     ]
    },
    {
     "name": "stdout",
     "output_type": "stream",
     "text": [
      "Collecting fonttools>=4.22.0 (from matplotlib)\r\n",
      "  Using cached fonttools-4.38.0-py3-none-any.whl (965 kB)\r\n"
     ]
    },
    {
     "name": "stdout",
     "output_type": "stream",
     "text": [
      "Collecting kiwisolver>=1.0.1 (from matplotlib)\r\n"
     ]
    },
    {
     "name": "stdout",
     "output_type": "stream",
     "text": [
      "  Using cached kiwisolver-1.4.5-cp37-cp37m-manylinux_2_5_x86_64.manylinux1_x86_64.whl (1.1 MB)\r\n",
      "Requirement already satisfied: numpy>=1.17 in /home/airflow/.local/lib/python3.7/site-packages (from matplotlib) (1.21.6)\r\n",
      "Requirement already satisfied: packaging>=20.0 in /home/airflow/.local/lib/python3.7/site-packages (from matplotlib) (23.2)\r\n"
     ]
    },
    {
     "name": "stdout",
     "output_type": "stream",
     "text": [
      "Collecting pillow>=6.2.0 (from matplotlib)\r\n",
      "  Using cached Pillow-9.5.0-cp37-cp37m-manylinux_2_28_x86_64.whl (3.4 MB)\r\n",
      "Requirement already satisfied: pyparsing>=2.2.1 in /home/airflow/.local/lib/python3.7/site-packages (from matplotlib) (3.0.9)\r\n",
      "Requirement already satisfied: python-dateutil>=2.7 in /home/airflow/.local/lib/python3.7/site-packages (from matplotlib) (2.8.2)\r\n"
     ]
    },
    {
     "name": "stdout",
     "output_type": "stream",
     "text": [
      "Requirement already satisfied: typing-extensions in /home/airflow/.local/lib/python3.7/site-packages (from kiwisolver>=1.0.1->matplotlib) (4.5.0)\r\n",
      "Requirement already satisfied: six>=1.5 in /home/airflow/.local/lib/python3.7/site-packages (from python-dateutil>=2.7->matplotlib) (1.16.0)\r\n"
     ]
    },
    {
     "name": "stdout",
     "output_type": "stream",
     "text": [
      "Installing collected packages: pillow, kiwisolver, fonttools, cycler, matplotlib\r\n"
     ]
    },
    {
     "name": "stdout",
     "output_type": "stream",
     "text": [
      "Successfully installed cycler-0.11.0 fonttools-4.38.0 kiwisolver-1.4.5 matplotlib-3.5.3 pillow-9.5.0\r\n"
     ]
    },
    {
     "name": "stdout",
     "output_type": "stream",
     "text": [
      "\r\n",
      "\u001b[1m[\u001b[0m\u001b[34;49mnotice\u001b[0m\u001b[1;39;49m]\u001b[0m\u001b[39;49m A new release of pip is available: \u001b[0m\u001b[31;49m23.1.2\u001b[0m\u001b[39;49m -> \u001b[0m\u001b[32;49m24.0\u001b[0m\r\n",
      "\u001b[1m[\u001b[0m\u001b[34;49mnotice\u001b[0m\u001b[1;39;49m]\u001b[0m\u001b[39;49m To update, run: \u001b[0m\u001b[32;49mpython3 -m pip install --upgrade pip\u001b[0m\r\n"
     ]
    },
    {
     "name": "stdout",
     "output_type": "stream",
     "text": [
      "Note: you may need to restart the kernel to use updated packages.\n"
     ]
    },
    {
     "ename": "ModuleNotFoundError",
     "evalue": "No module named 'transformations'",
     "output_type": "error",
     "traceback": [
      "\u001b[0;31m---------------------------------------------------------------------------\u001b[0m",
      "\u001b[0;31mModuleNotFoundError\u001b[0m                       Traceback (most recent call last)",
      "\u001b[0;32m/tmp/ipykernel_303/3792147577.py\u001b[0m in \u001b[0;36m<module>\u001b[0;34m\u001b[0m\n\u001b[1;32m     12\u001b[0m \u001b[0;32mimport\u001b[0m \u001b[0mmatplotlib\u001b[0m\u001b[0;34m.\u001b[0m\u001b[0mpyplot\u001b[0m \u001b[0;32mas\u001b[0m \u001b[0mplt\u001b[0m\u001b[0;34m\u001b[0m\u001b[0;34m\u001b[0m\u001b[0m\n\u001b[1;32m     13\u001b[0m \u001b[0;32mfrom\u001b[0m \u001b[0mpyspark\u001b[0m\u001b[0;34m.\u001b[0m\u001b[0msql\u001b[0m\u001b[0;34m.\u001b[0m\u001b[0mfunctions\u001b[0m \u001b[0;32mimport\u001b[0m \u001b[0mudf\u001b[0m\u001b[0;34m\u001b[0m\u001b[0;34m\u001b[0m\u001b[0m\n\u001b[0;32m---> 14\u001b[0;31m \u001b[0;32mfrom\u001b[0m \u001b[0mtransformations\u001b[0m \u001b[0;32mimport\u001b[0m \u001b[0mformat_date\u001b[0m\u001b[0;34m\u001b[0m\u001b[0;34m\u001b[0m\u001b[0m\n\u001b[0m\u001b[1;32m     15\u001b[0m \u001b[0;32mfrom\u001b[0m \u001b[0metl_pipeline\u001b[0m \u001b[0;32mimport\u001b[0m \u001b[0mprocess_landing_zone\u001b[0m\u001b[0;34m\u001b[0m\u001b[0;34m\u001b[0m\u001b[0m\n",
      "\u001b[0;31mModuleNotFoundError\u001b[0m: No module named 'transformations'"
     ]
    }
   ],
   "source": [
    "# Install PySpark\n",
    "%pip install pyspark\n",
    "%pip install openpyxl\n",
    "%pip install matplotlib\n",
    "import sys\n",
    "import pandas as pd\n",
    "from pyspark.sql import SparkSession\n",
    "from pyspark.sql.types import StructType, StructField, StringType, DoubleType, DateType, LongType\n",
    "import pyspark.sql.functions as F\n",
    "from pyspark.sql.functions import col, to_date, when, date_format\n",
    "from pyspark.sql.functions import avg, count\n",
    "import matplotlib.pyplot as plt\n",
    "from pyspark.sql.functions import udf\n",
    "from transformations import format_date\n",
    "from etl_pipeline import process_landing_zone"
   ]
  },
  {
   "cell_type": "markdown",
   "id": "849212c1",
   "metadata": {
    "id": "S4Vu55EFlUKO",
    "papermill": {
     "duration": null,
     "end_time": null,
     "exception": null,
     "start_time": null,
     "status": "pending"
    },
    "tags": []
   },
   "source": [
    "# Converting Files"
   ]
  },
  {
   "cell_type": "code",
   "execution_count": null,
   "id": "e9ef3d19",
   "metadata": {
    "executionInfo": {
     "elapsed": 15642,
     "status": "ok",
     "timestamp": 1738058505128,
     "user": {
      "displayName": "Javier Alhambra",
      "userId": "08990227891354213622"
     },
     "user_tz": -60
    },
    "id": "Jdqd9a2vH4iN",
    "jupyter": {
     "source_hidden": true
    },
    "papermill": {
     "duration": null,
     "end_time": null,
     "exception": null,
     "start_time": null,
     "status": "pending"
    },
    "tags": []
   },
   "outputs": [],
   "source": [
    "# Upload XLSX\n",
    "df = pd.read_excel('../datasets/listings_details.xlsx')"
   ]
  },
  {
   "cell_type": "markdown",
   "id": "2af147e9",
   "metadata": {
    "id": "bDJp2yxHp0vE",
    "papermill": {
     "duration": null,
     "end_time": null,
     "exception": null,
     "start_time": null,
     "status": "pending"
    },
    "tags": []
   },
   "source": [
    "The files are xlsx but Spark is designed works better with csv. So xlsx will be converted into csv"
   ]
  },
  {
   "cell_type": "code",
   "execution_count": null,
   "id": "6fa34ad1",
   "metadata": {
    "executionInfo": {
     "elapsed": 14883,
     "status": "ok",
     "timestamp": 1738058520009,
     "user": {
      "displayName": "Javier Alhambra",
      "userId": "08990227891354213622"
     },
     "user_tz": -60
    },
    "id": "FPqhQ4VrqIUn",
    "jupyter": {
     "source_hidden": true
    },
    "papermill": {
     "duration": null,
     "end_time": null,
     "exception": null,
     "start_time": null,
     "status": "pending"
    },
    "tags": []
   },
   "outputs": [],
   "source": [
    "# Upload XLSX\n",
    "df = pd.read_excel('../datasets/listings_details.xlsx')\n",
    "\n",
    "# Replace line breaks with spaces\n",
    "df = df.replace({r'[\\n\\r]+': ' '}, regex=True)\n",
    "\n",
    "# Replace \" with '\n",
    "df = df.replace({r'\"': \"'\"}, regex=True)\n",
    "\n",
    "# Save CSV\n",
    "df.to_csv('../datasets/listings_details.csv', index=False, quotechar='\"')"
   ]
  },
  {
   "cell_type": "code",
   "execution_count": null,
   "id": "9b4ba2db",
   "metadata": {
    "executionInfo": {
     "elapsed": 1436,
     "status": "ok",
     "timestamp": 1738058544148,
     "user": {
      "displayName": "Javier Alhambra",
      "userId": "08990227891354213622"
     },
     "user_tz": -60
    },
    "id": "YtJwQs9jYaWC",
    "jupyter": {
     "source_hidden": true
    },
    "papermill": {
     "duration": null,
     "end_time": null,
     "exception": null,
     "start_time": null,
     "status": "pending"
    },
    "tags": []
   },
   "outputs": [],
   "source": [
    "# Upload XLSX\n",
    "df2 = pd.read_excel('../datasets/neighbourhoods.xlsx')\n",
    "\n",
    "# Replace line breaks with spaces\n",
    "df2 = df2.replace({r'[\\n\\r]+': ' '}, regex=True)\n",
    "\n",
    "# Save CSV\n",
    "df2.to_csv('../datasets/neighbourhoods.csv', index=False)"
   ]
  },
  {
   "cell_type": "markdown",
   "id": "ffca7f12",
   "metadata": {
    "id": "_4vyJGFoli3M",
    "papermill": {
     "duration": null,
     "end_time": null,
     "exception": null,
     "start_time": null,
     "status": "pending"
    },
    "tags": []
   },
   "source": [
    "# PART 1: Landing Zone"
   ]
  },
  {
   "cell_type": "code",
   "execution_count": null,
   "id": "3b0d443d",
   "metadata": {
    "executionInfo": {
     "elapsed": 14524,
     "status": "ok",
     "timestamp": 1738058562146,
     "user": {
      "displayName": "Javier Alhambra",
      "userId": "08990227891354213622"
     },
     "user_tz": -60
    },
    "id": "PG1iXNG4liec",
    "jupyter": {
     "source_hidden": true
    },
    "papermill": {
     "duration": null,
     "end_time": null,
     "exception": null,
     "start_time": null,
     "status": "pending"
    },
    "tags": []
   },
   "outputs": [],
   "source": [
    "# Create a Spark session\n",
    "spark = SparkSession.builder \\\n",
    "    .appName(\"MedallionArchitecture\") \\\n",
    "    .getOrCreate()"
   ]
  },
  {
   "cell_type": "code",
   "execution_count": null,
   "id": "51e43674",
   "metadata": {
    "executionInfo": {
     "elapsed": 15646,
     "status": "ok",
     "timestamp": 1738058579145,
     "user": {
      "displayName": "Javier Alhambra",
      "userId": "08990227891354213622"
     },
     "user_tz": -60
    },
    "id": "f4PsLQGcoUHr",
    "jupyter": {
     "source_hidden": true
    },
    "papermill": {
     "duration": null,
     "end_time": null,
     "exception": null,
     "start_time": null,
     "status": "pending"
    },
    "tags": []
   },
   "outputs": [],
   "source": [
    "# CSV paths\n",
    "listings_path = \"../datasets/listings_details.csv\"\n",
    "neighbourhoods_path = \"../datasets/neighbourhoods.csv\"\n",
    "\n",
    "listings_details, neighbourhoods = process_landing_zone(spark, listings_path, neighbourhoods_path)"
   ]
  },
  {
   "cell_type": "code",
   "execution_count": null,
   "id": "53a9ce33",
   "metadata": {
    "colab": {
     "base_uri": "https://localhost:8080/"
    },
    "executionInfo": {
     "elapsed": 233,
     "status": "ok",
     "timestamp": 1738058580842,
     "user": {
      "displayName": "Javier Alhambra",
      "userId": "08990227891354213622"
     },
     "user_tz": -60
    },
    "id": "KL6ARxWX7au6",
    "jupyter": {
     "source_hidden": true
    },
    "outputId": "6d08a343-b45b-4adc-ac35-322b4dec5cdb",
    "papermill": {
     "duration": null,
     "end_time": null,
     "exception": null,
     "start_time": null,
     "status": "pending"
    },
    "tags": []
   },
   "outputs": [],
   "source": [
    "# Print the schema of the DataFrame\n",
    "listings_details.printSchema()"
   ]
  },
  {
   "cell_type": "code",
   "execution_count": null,
   "id": "ec160df4",
   "metadata": {
    "colab": {
     "base_uri": "https://localhost:8080/"
    },
    "executionInfo": {
     "elapsed": 207,
     "status": "ok",
     "timestamp": 1738058582395,
     "user": {
      "displayName": "Javier Alhambra",
      "userId": "08990227891354213622"
     },
     "user_tz": -60
    },
    "id": "jSdHEiZ9FZt7",
    "jupyter": {
     "source_hidden": true
    },
    "outputId": "0f248aea-ea23-42b4-e332-495506d0a162",
    "papermill": {
     "duration": null,
     "end_time": null,
     "exception": null,
     "start_time": null,
     "status": "pending"
    },
    "tags": []
   },
   "outputs": [],
   "source": [
    "neighbourhoods.printSchema()"
   ]
  },
  {
   "cell_type": "code",
   "execution_count": null,
   "id": "3f3b67e1",
   "metadata": {
    "colab": {
     "base_uri": "https://localhost:8080/"
    },
    "executionInfo": {
     "elapsed": 1291,
     "status": "ok",
     "timestamp": 1738058585102,
     "user": {
      "displayName": "Javier Alhambra",
      "userId": "08990227891354213622"
     },
     "user_tz": -60
    },
    "id": "VMxWMDJOrTps",
    "jupyter": {
     "source_hidden": true
    },
    "outputId": "7c87e440-4b30-4134-becc-5deec58142bc",
    "papermill": {
     "duration": null,
     "end_time": null,
     "exception": null,
     "start_time": null,
     "status": "pending"
    },
    "tags": []
   },
   "outputs": [],
   "source": [
    "# Show the first 5 rows\n",
    "listings_details.show(5)"
   ]
  },
  {
   "cell_type": "code",
   "execution_count": null,
   "id": "0c630848",
   "metadata": {
    "executionInfo": {
     "elapsed": 3096,
     "status": "ok",
     "timestamp": 1738058588197,
     "user": {
      "displayName": "Javier Alhambra",
      "userId": "08990227891354213622"
     },
     "user_tz": -60
    },
    "id": "sLd8EBuRryq3",
    "jupyter": {
     "source_hidden": true
    },
    "papermill": {
     "duration": null,
     "end_time": null,
     "exception": null,
     "start_time": null,
     "status": "pending"
    },
    "tags": []
   },
   "outputs": [],
   "source": [
    "# If exists, delete directory structure\n",
    "! rm -rf \"../tables\""
   ]
  },
  {
   "cell_type": "code",
   "execution_count": null,
   "id": "d924f382",
   "metadata": {
    "executionInfo": {
     "elapsed": 318,
     "status": "ok",
     "timestamp": 1738058588512,
     "user": {
      "displayName": "Javier Alhambra",
      "userId": "08990227891354213622"
     },
     "user_tz": -60
    },
    "id": "zGitxt0psHxK",
    "jupyter": {
     "source_hidden": true
    },
    "papermill": {
     "duration": null,
     "end_time": null,
     "exception": null,
     "start_time": null,
     "status": "pending"
    },
    "tags": []
   },
   "outputs": [],
   "source": [
    "# Create directory structure\n",
    "! mkdir \"../tables\"\n",
    "! mkdir \"../tables/bronze\"\n",
    "! mkdir \"../tables/silver\"\n",
    "! mkdir \"../tables/gold\""
   ]
  },
  {
   "cell_type": "markdown",
   "id": "46a94419",
   "metadata": {
    "id": "rc6yASbfsTh7",
    "papermill": {
     "duration": null,
     "end_time": null,
     "exception": null,
     "start_time": null,
     "status": "pending"
    },
    "tags": []
   },
   "source": [
    "# PART 2: Bronze Layer"
   ]
  },
  {
   "cell_type": "code",
   "execution_count": null,
   "id": "7f9a8fc6",
   "metadata": {
    "executionInfo": {
     "elapsed": 15022,
     "status": "ok",
     "timestamp": 1738058605610,
     "user": {
      "displayName": "Javier Alhambra",
      "userId": "08990227891354213622"
     },
     "user_tz": -60
    },
    "id": "z9Flpd8zsTRx",
    "jupyter": {
     "source_hidden": true
    },
    "papermill": {
     "duration": null,
     "end_time": null,
     "exception": null,
     "start_time": null,
     "status": "pending"
    },
    "tags": []
   },
   "outputs": [],
   "source": [
    "# Write raw data to Bronze layer in Parquet format\n",
    "\n",
    "# Bronze paths\n",
    "bronze_path = \"../tables\"\n",
    "layer = \"bronze\"\n",
    "listings_filename = \"bronze_listings_details\"\n",
    "neighbourhoods_filename = \"neighbourhoods\"\n",
    "\n",
    "\n",
    "bronze_listing_output_file = \"{path}/{layer}/{filename}\".format(path=bronze_path, layer=layer, filename=listings_filename)\n",
    "listings_details.write.mode( \"overwrite\" ) \\\n",
    ".partitionBy(\"neighbourhood_cleansed\") \\\n",
    ".parquet(bronze_listing_output_file)\n",
    "\n",
    "bronze_neighbourhoods_output_file = \"{path}/{layer}/{filename}\".format(path=bronze_path, layer=layer, filename=neighbourhoods_filename)\n",
    "neighbourhoods.write.mode( \"overwrite\" ) \\\n",
    "  .partitionBy(\"neighbourhood\") \\\n",
    "  .parquet(bronze_neighbourhoods_output_file)"
   ]
  },
  {
   "cell_type": "markdown",
   "id": "6d4f2086",
   "metadata": {
    "id": "5jS82gP8w3ML",
    "papermill": {
     "duration": null,
     "end_time": null,
     "exception": null,
     "start_time": null,
     "status": "pending"
    },
    "tags": []
   },
   "source": [
    "# PART 3: Silver Layer"
   ]
  },
  {
   "cell_type": "code",
   "execution_count": null,
   "id": "d2b22d86",
   "metadata": {
    "executionInfo": {
     "elapsed": 3359,
     "status": "ok",
     "timestamp": 1738058641556,
     "user": {
      "displayName": "Javier Alhambra",
      "userId": "08990227891354213622"
     },
     "user_tz": -60
    },
    "id": "jODzTALhYIvy",
    "jupyter": {
     "source_hidden": true
    },
    "papermill": {
     "duration": null,
     "end_time": null,
     "exception": null,
     "start_time": null,
     "status": "pending"
    },
    "tags": []
   },
   "outputs": [],
   "source": [
    "# Silver paths\n",
    "silver_listing_input_file = bronze_listing_output_file\n",
    "silver_neighbourhoods_input_file = bronze_neighbourhoods_output_file\n",
    "\n",
    "# Load Bronze data\n",
    "bronze_listingsDF = spark.read.parquet(silver_listing_input_file)\n",
    "bronze_neighbourhoodsDF = spark.read.parquet(silver_neighbourhoods_input_file)"
   ]
  },
  {
   "cell_type": "code",
   "execution_count": null,
   "id": "b68bf45f",
   "metadata": {
    "executionInfo": {
     "elapsed": 972,
     "status": "ok",
     "timestamp": 1738058643864,
     "user": {
      "displayName": "Javier Alhambra",
      "userId": "08990227891354213622"
     },
     "user_tz": -60
    },
    "id": "2V5MfUUOvGdv",
    "jupyter": {
     "source_hidden": true
    },
    "papermill": {
     "duration": null,
     "end_time": null,
     "exception": null,
     "start_time": null,
     "status": "pending"
    },
    "tags": []
   },
   "outputs": [],
   "source": [
    "# add Python file to the PySpark context, which makes it available on all worker nodes of the Spark cluster when running distributed operations.\n",
    "spark.sparkContext.addPyFile('../src/transformations.zip')"
   ]
  },
  {
   "cell_type": "code",
   "execution_count": null,
   "id": "b348c5c7",
   "metadata": {
    "executionInfo": {
     "elapsed": 3,
     "status": "ok",
     "timestamp": 1738058645141,
     "user": {
      "displayName": "Javier Alhambra",
      "userId": "08990227891354213622"
     },
     "user_tz": -60
    },
    "id": "wJirr4LCq7-q",
    "jupyter": {
     "source_hidden": true
    },
    "papermill": {
     "duration": null,
     "end_time": null,
     "exception": null,
     "start_time": null,
     "status": "pending"
    },
    "tags": []
   },
   "outputs": [],
   "source": [
    "# Register the function as a UDF so that it can be executed in each partition of the cluster\n",
    "format_date_udf = udf(format_date, StringType())"
   ]
  },
  {
   "cell_type": "code",
   "execution_count": null,
   "id": "5a451e8b",
   "metadata": {
    "executionInfo": {
     "elapsed": 207,
     "status": "ok",
     "timestamp": 1738058647383,
     "user": {
      "displayName": "Javier Alhambra",
      "userId": "08990227891354213622"
     },
     "user_tz": -60
    },
    "id": "iYvj3DXqw27K",
    "jupyter": {
     "source_hidden": true
    },
    "papermill": {
     "duration": null,
     "end_time": null,
     "exception": null,
     "start_time": null,
     "status": "pending"
    },
    "tags": []
   },
   "outputs": [],
   "source": [
    "# Join datasets and create new fields\n",
    "join_silver_listingsDF = bronze_listingsDF.join(\n",
    "    bronze_neighbourhoodsDF,\n",
    "    bronze_listingsDF[\"neighbourhood_cleansed\"] == bronze_neighbourhoodsDF[\"neighbourhood\"],\n",
    "    \"left\"\n",
    ").withColumn(\n",
    "    \"neighbourhood_group\", col(\"neighbourhood_group\")\n",
    ").withColumn(\n",
    "    \"last_review_human\", format_date_udf(col(\"last_review\"))\n",
    ").drop(\n",
    "    bronze_neighbourhoodsDF[\"neighbourhood\"]\n",
    ")\n"
   ]
  },
  {
   "cell_type": "code",
   "execution_count": null,
   "id": "8578bc7b",
   "metadata": {
    "colab": {
     "base_uri": "https://localhost:8080/"
    },
    "executionInfo": {
     "elapsed": 4685,
     "status": "ok",
     "timestamp": 1738058654075,
     "user": {
      "displayName": "Javier Alhambra",
      "userId": "08990227891354213622"
     },
     "user_tz": -60
    },
    "id": "8GDbdXs6WNvZ",
    "jupyter": {
     "source_hidden": true
    },
    "outputId": "4009e1ec-c5d7-460d-b3ad-5e6635855d58",
    "papermill": {
     "duration": null,
     "end_time": null,
     "exception": null,
     "start_time": null,
     "status": "pending"
    },
    "tags": []
   },
   "outputs": [],
   "source": [
    "# Display all columns from the DataFrame\n",
    "join_silver_listingsDF.show(10, truncate=False)"
   ]
  },
  {
   "cell_type": "code",
   "execution_count": null,
   "id": "e6fcc20d",
   "metadata": {
    "executionInfo": {
     "elapsed": 11310,
     "status": "ok",
     "timestamp": 1738058667279,
     "user": {
      "displayName": "Javier Alhambra",
      "userId": "08990227891354213622"
     },
     "user_tz": -60
    },
    "id": "ujk52mYjV6hA",
    "jupyter": {
     "source_hidden": true
    },
    "papermill": {
     "duration": null,
     "end_time": null,
     "exception": null,
     "start_time": null,
     "status": "pending"
    },
    "tags": []
   },
   "outputs": [],
   "source": [
    "# Write data to Silver layer\n",
    "silver_listings_path = \"../tables/silver/silver_listings_details\"\n",
    "join_silver_listingsDF.write.mode(\"overwrite\") \\\n",
    "  .partitionBy(\"neighbourhood_group\") \\\n",
    "  .parquet(silver_listings_path)"
   ]
  },
  {
   "cell_type": "markdown",
   "id": "eea79723",
   "metadata": {
    "id": "afJk3vYE7V3e",
    "papermill": {
     "duration": null,
     "end_time": null,
     "exception": null,
     "start_time": null,
     "status": "pending"
    },
    "tags": []
   },
   "source": [
    "# PART 4: Gold Layer"
   ]
  },
  {
   "cell_type": "code",
   "execution_count": null,
   "id": "6f985728",
   "metadata": {
    "executionInfo": {
     "elapsed": 8743,
     "status": "ok",
     "timestamp": 1738058736459,
     "user": {
      "displayName": "Javier Alhambra",
      "userId": "08990227891354213622"
     },
     "user_tz": -60
    },
    "id": "rEA61VcQ_PNn",
    "jupyter": {
     "source_hidden": true
    },
    "papermill": {
     "duration": null,
     "end_time": null,
     "exception": null,
     "start_time": null,
     "status": "pending"
    },
    "tags": []
   },
   "outputs": [],
   "source": [
    "# Load Silver data\n",
    "silver_listings = spark.read.parquet(silver_listings_path)\n",
    "\n",
    "# Calculate metrics\n",
    "id_gold_listings = silver_listings\\\n",
    "  .groupBy(\"id\").agg(\n",
    "    count(\"number_of_reviews\").alias(\"id_rating_count\"),\n",
    "    avg(\"review_scores_rating\").alias(\"id_rating_avg\"))\n",
    "\n",
    "# Join neighbourhood_group to id_gold_listings\n",
    "id_gold_listings = id_gold_listings.join(\n",
    "    silver_listings.select(\"id\", \"neighbourhood_group\"),\n",
    "    on=\"id\",\n",
    "    how=\"left\")\n",
    "\n",
    "# Calculate metrics\n",
    "group_gold_listings = silver_listings\\\n",
    "  .groupBy(\"neighbourhood_group\").agg(\n",
    "    count(\"number_of_reviews\").alias(\"ng_rating_count\"),\n",
    "    avg(\"review_scores_rating\").alias(\"ng_rating_avg\"))\n",
    "\n",
    "# Gold DF\n",
    "gold_listings = id_gold_listings.join(\n",
    "    group_gold_listings.select(\"neighbourhood_group\",\"ng_rating_count\", \"ng_rating_avg\"),\n",
    "    on=\"neighbourhood_group\",\n",
    "    how=\"left\")\n",
    "\n",
    "# Write data to Gold layer\n",
    "gold_listings_path = \"../tables/gold/dasboard_ng_ratings\"\n",
    "gold_listings.write.mode(\"overwrite\") \\\n",
    "  .partitionBy(\"neighbourhood_group\") \\\n",
    "  .parquet(gold_listings_path)"
   ]
  },
  {
   "cell_type": "markdown",
   "id": "60389047",
   "metadata": {
    "id": "LeQMzXb1G9pB",
    "papermill": {
     "duration": null,
     "end_time": null,
     "exception": null,
     "start_time": null,
     "status": "pending"
    },
    "tags": []
   },
   "source": [
    "# PART 5: Presentation"
   ]
  },
  {
   "cell_type": "code",
   "execution_count": null,
   "id": "226ae54e",
   "metadata": {
    "colab": {
     "base_uri": "https://localhost:8080/",
     "height": 607
    },
    "executionInfo": {
     "elapsed": 7855,
     "status": "ok",
     "timestamp": 1738058755228,
     "user": {
      "displayName": "Javier Alhambra",
      "userId": "08990227891354213622"
     },
     "user_tz": -60
    },
    "id": "Fkcqa5sOG-IE",
    "jupyter": {
     "source_hidden": true
    },
    "outputId": "d2deeb10-f651-4afb-cad8-354d9aa6a86f",
    "papermill": {
     "duration": null,
     "end_time": null,
     "exception": null,
     "start_time": null,
     "status": "pending"
    },
    "tags": []
   },
   "outputs": [],
   "source": [
    "# Load Gold data\n",
    "gold_listings = spark.read.parquet(gold_listings_path)\n",
    "\n",
    "# Convert Gold data to Pandas for plotting\n",
    "gold_pandas = gold_listings.toPandas()\n",
    "\n",
    "# Define the order of the neighborhood groups\n",
    "order = ['Kreis 1', 'Kreis 2', 'Kreis 3', 'Kreis 4', 'Kreis 5', 'Kreis 6', 'Kreis 7', 'Kreis 8', 'Kreis 9', 'Kreis 10', 'Kreis 11', 'Kreis 12']\n",
    "\n",
    "# Convert the 'neighbourhood_group' column to a categorical type with the specified order\n",
    "gold_pandas['neighbourhood_group'] = pd.Categorical(gold_pandas['neighbourhood_group'], categories=order, ordered=True)\n",
    "\n",
    "# Sort the data by neighbourhood_group\n",
    "gold_pandas = gold_pandas.sort_values(\"neighbourhood_group\")\n",
    "\n",
    "# Export Gold data to CSV for visualization\n",
    "gold_csv_path = \"../datasets/dashboard_ng_ratings.csv\"\n",
    "gold_pandas.to_csv(gold_csv_path, index=False)\n",
    "\n",
    "# Plot neighborhood group ratings\n",
    "plt.figure(figsize=(10, 6))\n",
    "plt.bar(gold_pandas[\"neighbourhood_group\"], gold_pandas[\"ng_rating_avg\"], color='skyblue')\n",
    "plt.title(\"Average Ratings by Neighbourhood Group\", fontsize=16)\n",
    "plt.xlabel(\"Neighbourhood Group\", fontsize=12)\n",
    "plt.ylabel(\"Average Rating\", fontsize=12)\n",
    "plt.xticks(rotation=45)\n",
    "plt.tight_layout()\n",
    "plt.show()"
   ]
  },
  {
   "cell_type": "code",
   "execution_count": null,
   "id": "81778f86",
   "metadata": {
    "executionInfo": {
     "elapsed": 746,
     "status": "ok",
     "timestamp": 1738058758973,
     "user": {
      "displayName": "Javier Alhambra",
      "userId": "08990227891354213622"
     },
     "user_tz": -60
    },
    "id": "y7REwrd-ktLE",
    "jupyter": {
     "source_hidden": true
    },
    "papermill": {
     "duration": null,
     "end_time": null,
     "exception": null,
     "start_time": null,
     "status": "pending"
    },
    "tags": []
   },
   "outputs": [],
   "source": [
    "# Close the Spark session when done\n",
    "spark.stop()"
   ]
  }
 ],
 "metadata": {
  "colab": {
   "authorship_tag": "ABX9TyN1EN8dnSqTTdVAXW39wxP4",
   "mount_file_id": "1lnQuIobpSLT_sI6soZy_dxlKVVpJXlAT",
   "provenance": []
  },
  "kernelspec": {
   "display_name": "Python 3",
   "name": "python3"
  },
  "language_info": {
   "codemirror_mode": {
    "name": "ipython",
    "version": 3
   },
   "file_extension": ".py",
   "mimetype": "text/x-python",
   "name": "python",
   "nbconvert_exporter": "python",
   "pygments_lexer": "ipython3",
   "version": "3.7.16"
  },
  "papermill": {
   "default_parameters": {},
   "duration": 37.244693,
   "end_time": "2025-01-28T12:04:15.574001",
   "environment_variables": {},
   "exception": true,
   "input_path": "/opt/airflow/airbnb_project/notebooks/main.ipynb",
   "output_path": "/opt/airflow/airbnb_project/notebooks/main_output.ipynb",
   "parameters": {},
   "start_time": "2025-01-28T12:03:38.329308",
   "version": "2.4.0"
  }
 },
 "nbformat": 4,
 "nbformat_minor": 5
}