{
 "cells": [
  {
   "cell_type": "markdown",
   "id": "71d31ace",
   "metadata": {
    "id": "ExGZystyH3gw",
    "papermill": {
     "duration": 0.008705,
     "end_time": "2025-01-28T12:09:18.187720",
     "exception": false,
     "start_time": "2025-01-28T12:09:18.179015",
     "status": "completed"
    },
    "tags": []
   },
   "source": [
    "# Location"
   ]
  },
  {
   "cell_type": "code",
   "execution_count": 1,
   "id": "ade7725e",
   "metadata": {
    "colab": {
     "base_uri": "https://localhost:8080/"
    },
    "execution": {
     "iopub.execute_input": "2025-01-28T12:09:18.230288Z",
     "iopub.status.busy": "2025-01-28T12:09:18.229911Z",
     "iopub.status.idle": "2025-01-28T12:09:18.244188Z",
     "shell.execute_reply": "2025-01-28T12:09:18.242622Z"
    },
    "executionInfo": {
     "elapsed": 207,
     "status": "ok",
     "timestamp": 1738058477377,
     "user": {
      "displayName": "Javier Alhambra",
      "userId": "08990227891354213622"
     },
     "user_tz": -60
    },
    "id": "m2-unRUWJ60N",
    "jupyter": {
     "source_hidden": true
    },
    "outputId": "e0295655-5ee9-4bfd-bcbe-5fbffeee82c1",
    "papermill": {
     "duration": 0.03799,
     "end_time": "2025-01-28T12:09:18.246930",
     "exception": false,
     "start_time": "2025-01-28T12:09:18.208940",
     "status": "completed"
    },
    "tags": []
   },
   "outputs": [
    {
     "name": "stdout",
     "output_type": "stream",
     "text": [
      "Current directory: /opt/airflow\n"
     ]
    }
   ],
   "source": [
    "import os\n",
    "\n",
    "# In Colab, the notebook is mounted in Google Drive at '/content'\n",
    "\n",
    "# Try to detect the environment dynamically\n",
    "if 'COLAB_GPU' in os.environ:  # Check if running in Colab\n",
    "    # Colab path where the notebook is located\n",
    "    notebook_directory = '/content/drive/MyDrive/airbnb_project/notebooks/'\n",
    "elif os.path.exists('/airbnb_project/notebooks'):  # Check if running in Docker\n",
    "    # Docker path where the notebook is located\n",
    "    notebook_directory = '/airbnb_project/notebooks/'\n",
    "else:\n",
    "    # Default fallback if not in either environment\n",
    "    notebook_directory = os.getcwd()\n",
    "\n",
    "# Change the current working directory to the notebook's location\n",
    "os.chdir(notebook_directory)\n",
    "\n",
    "# Verify the current directory\n",
    "print(\"Current directory:\", os.getcwd())\n"
   ]
  },
  {
   "cell_type": "markdown",
   "id": "a19cccaa",
   "metadata": {
    "id": "BX4uMNgPLfAG",
    "papermill": {
     "duration": 0.020386,
     "end_time": "2025-01-28T12:09:18.273691",
     "exception": false,
     "start_time": "2025-01-28T12:09:18.253305",
     "status": "completed"
    },
    "tags": []
   },
   "source": [
    "# Libraries"
   ]
  },
  {
   "cell_type": "code",
   "execution_count": 2,
   "id": "e777486c",
   "metadata": {
    "execution": {
     "iopub.execute_input": "2025-01-28T12:09:18.316853Z",
     "iopub.status.busy": "2025-01-28T12:09:18.316543Z",
     "iopub.status.idle": "2025-01-28T12:09:18.321622Z",
     "shell.execute_reply": "2025-01-28T12:09:18.320373Z"
    },
    "executionInfo": {
     "elapsed": 372,
     "status": "ok",
     "timestamp": 1738058480023,
     "user": {
      "displayName": "Javier Alhambra",
      "userId": "08990227891354213622"
     },
     "user_tz": -60
    },
    "id": "UchUkmJNkdNc",
    "jupyter": {
     "source_hidden": true
    },
    "papermill": {
     "duration": 0.02894,
     "end_time": "2025-01-28T12:09:18.323564",
     "exception": false,
     "start_time": "2025-01-28T12:09:18.294624",
     "status": "completed"
    },
    "tags": []
   },
   "outputs": [],
   "source": [
    "import sys\n",
    "sys.path.append('../src')"
   ]
  },
  {
   "cell_type": "code",
   "execution_count": 3,
   "id": "0bb016ea",
   "metadata": {
    "execution": {
     "iopub.execute_input": "2025-01-28T12:09:18.360639Z",
     "iopub.status.busy": "2025-01-28T12:09:18.360287Z",
     "iopub.status.idle": "2025-01-28T12:09:18.366685Z",
     "shell.execute_reply": "2025-01-28T12:09:18.364949Z"
    },
    "jupyter": {
     "source_hidden": true
    },
    "papermill": {
     "duration": 0.035535,
     "end_time": "2025-01-28T12:09:18.369482",
     "exception": false,
     "start_time": "2025-01-28T12:09:18.333947",
     "status": "completed"
    },
    "tags": []
   },
   "outputs": [
    {
     "name": "stdout",
     "output_type": "stream",
     "text": [
      "['/opt/airflow', '/usr/local/lib/python37.zip', '/usr/local/lib/python3.7', '/usr/local/lib/python3.7/lib-dynload', '', '/home/airflow/.local/lib/python3.7/site-packages', '/usr/local/lib/python3.7/site-packages', '/home/airflow/.local/lib/python3.7/site-packages/IPython/extensions', '/home/airflow/.ipython', '../src']\n"
     ]
    }
   ],
   "source": [
    "print(sys.path)"
   ]
  },
  {
   "cell_type": "code",
   "execution_count": null,
   "id": "d401af44",
   "metadata": {
    "jupyter": {
     "source_hidden": true
    },
    "papermill": {
     "duration": 0.022802,
     "end_time": "2025-01-28T12:09:18.401445",
     "exception": false,
     "start_time": "2025-01-28T12:09:18.378643",
     "status": "completed"
    },
    "tags": []
   },
   "outputs": [],
   "source": []
  }
 ],
 "metadata": {
  "colab": {
   "authorship_tag": "ABX9TyN1EN8dnSqTTdVAXW39wxP4",
   "mount_file_id": "1lnQuIobpSLT_sI6soZy_dxlKVVpJXlAT",
   "provenance": []
  },
  "kernelspec": {
   "display_name": "Python 3",
   "name": "python3"
  },
  "language_info": {
   "codemirror_mode": {
    "name": "ipython",
    "version": 3
   },
   "file_extension": ".py",
   "mimetype": "text/x-python",
   "name": "python",
   "nbconvert_exporter": "python",
   "pygments_lexer": "ipython3",
   "version": "3.7.16"
  },
  "papermill": {
   "default_parameters": {},
   "duration": 1.993455,
   "end_time": "2025-01-28T12:09:18.648151",
   "environment_variables": {},
   "exception": null,
   "input_path": "/opt/airflow/airbnb_project/notebooks/main_2.ipynb",
   "output_path": "/opt/airflow/airbnb_project/notebooks/main_output_2.ipynb",
   "parameters": {},
   "start_time": "2025-01-28T12:09:16.654696",
   "version": "2.4.0"
  }
 },
 "nbformat": 4,
 "nbformat_minor": 5
}