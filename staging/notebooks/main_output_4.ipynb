{
 "cells": [
  {
   "cell_type": "markdown",
   "id": "5fb951f3",
   "metadata": {
    "tags": [
     "papermill-error-cell-tag"
    ]
   },
   "source": [
    "<span style=\"color:red; font-family:Helvetica Neue, Helvetica, Arial, sans-serif; font-size:2em;\">An Exception was encountered at '<a href=\"#papermill-error-cell\">In [29]</a>'.</span>"
   ]
  },
  {
   "cell_type": "markdown",
   "id": "ce18bbd3",
   "metadata": {
    "id": "ExGZystyH3gw",
    "papermill": {
     "duration": 0.013674,
     "end_time": "2025-01-28T18:24:38.841135",
     "exception": false,
     "start_time": "2025-01-28T18:24:38.827461",
     "status": "completed"
    },
    "tags": []
   },
   "source": [
    "# Location"
   ]
  },
  {
   "cell_type": "code",
   "execution_count": 1,
   "id": "d6dfd68a",
   "metadata": {
    "colab": {
     "base_uri": "https://localhost:8080/"
    },
    "execution": {
     "iopub.execute_input": "2025-01-28T18:24:38.884726Z",
     "iopub.status.busy": "2025-01-28T18:24:38.884427Z",
     "iopub.status.idle": "2025-01-28T18:24:38.900811Z",
     "shell.execute_reply": "2025-01-28T18:24:38.899214Z"
    },
    "executionInfo": {
     "elapsed": 207,
     "status": "ok",
     "timestamp": 1738058477377,
     "user": {
      "displayName": "Javier Alhambra",
      "userId": "08990227891354213622"
     },
     "user_tz": -60
    },
    "id": "m2-unRUWJ60N",
    "jupyter": {
     "source_hidden": true
    },
    "outputId": "e0295655-5ee9-4bfd-bcbe-5fbffeee82c1",
    "papermill": {
     "duration": 0.043219,
     "end_time": "2025-01-28T18:24:38.904075",
     "exception": false,
     "start_time": "2025-01-28T18:24:38.860856",
     "status": "completed"
    },
    "tags": []
   },
   "outputs": [
    {
     "name": "stdout",
     "output_type": "stream",
     "text": [
      "Current directory: /opt/airflow/airbnb_project/notebooks\n"
     ]
    }
   ],
   "source": [
    "import os\n",
    "\n",
    "# In Colab, the notebook is mounted in Google Drive at '/content'\n",
    "\n",
    "# Try to detect the environment dynamically\n",
    "if 'COLAB_GPU' in os.environ:  # Check if running in Colab\n",
    "    # Colab path where the notebook is located\n",
    "    notebook_directory = '/content/drive/MyDrive/airbnb_project/notebooks/'\n",
    "elif os.path.exists('/airbnb_project/notebooks'):  # Check if running in Docker\n",
    "    # Docker path where the notebook is located\n",
    "    notebook_directory = '/airbnb_project/notebooks/'\n",
    "else:\n",
    "    # Default fallback if not in either environment\n",
    "    os.chdir('./airbnb_project/notebooks')\n",
    "    notebook_directory = os.getcwd()\n",
    "\n",
    "# Change the current working directory to the notebook's location\n",
    "os.chdir(notebook_directory)\n",
    "\n",
    "# Verify the current directory\n",
    "print(\"Current directory:\", os.getcwd())\n"
   ]
  },
  {
   "cell_type": "markdown",
   "id": "b8384c68",
   "metadata": {
    "id": "BX4uMNgPLfAG",
    "papermill": {
     "duration": 0.01962,
     "end_time": "2025-01-28T18:24:38.936746",
     "exception": false,
     "start_time": "2025-01-28T18:24:38.917126",
     "status": "completed"
    },
    "tags": []
   },
   "source": [
    "# Libraries"
   ]
  },
  {
   "cell_type": "code",
   "execution_count": 2,
   "id": "cccf04d8",
   "metadata": {
    "execution": {
     "iopub.execute_input": "2025-01-28T18:24:38.975513Z",
     "iopub.status.busy": "2025-01-28T18:24:38.975259Z",
     "iopub.status.idle": "2025-01-28T18:24:38.978730Z",
     "shell.execute_reply": "2025-01-28T18:24:38.978016Z"
    },
    "executionInfo": {
     "elapsed": 372,
     "status": "ok",
     "timestamp": 1738058480023,
     "user": {
      "displayName": "Javier Alhambra",
      "userId": "08990227891354213622"
     },
     "user_tz": -60
    },
    "id": "UchUkmJNkdNc",
    "jupyter": {
     "source_hidden": true
    },
    "papermill": {
     "duration": 0.023806,
     "end_time": "2025-01-28T18:24:38.980108",
     "exception": false,
     "start_time": "2025-01-28T18:24:38.956302",
     "status": "completed"
    },
    "tags": []
   },
   "outputs": [],
   "source": [
    "import sys\n",
    "sys.path.append('../src')"
   ]
  },
  {
   "cell_type": "code",
   "execution_count": 3,
   "id": "f8f05fa1",
   "metadata": {
    "colab": {
     "base_uri": "https://localhost:8080/"
    },
    "execution": {
     "iopub.execute_input": "2025-01-28T18:24:39.013031Z",
     "iopub.status.busy": "2025-01-28T18:24:39.012767Z",
     "iopub.status.idle": "2025-01-28T18:24:56.913884Z",
     "shell.execute_reply": "2025-01-28T18:24:56.913134Z"
    },
    "executionInfo": {
     "elapsed": 10504,
     "status": "ok",
     "timestamp": 1738063530715,
     "user": {
      "displayName": "Javier Alhambra",
      "userId": "08990227891354213622"
     },
     "user_tz": -60
    },
    "id": "i2rLdgBGIP_p",
    "jupyter": {
     "source_hidden": true
    },
    "outputId": "2022a873-9bc0-447b-9747-ac34d18963dd",
    "papermill": {
     "duration": 17.923053,
     "end_time": "2025-01-28T18:24:56.915861",
     "exception": false,
     "start_time": "2025-01-28T18:24:38.992808",
     "status": "completed"
    },
    "tags": []
   },
   "outputs": [
    {
     "name": "stdout",
     "output_type": "stream",
     "text": [
      "Requirement already satisfied: pyspark in /home/airflow/.local/lib/python3.7/site-packages (3.4.4)\r\n"
     ]
    },
    {
     "name": "stdout",
     "output_type": "stream",
     "text": [
      "Requirement already satisfied: py4j==0.10.9.7 in /home/airflow/.local/lib/python3.7/site-packages (from pyspark) (0.10.9.7)\r\n"
     ]
    },
    {
     "name": "stdout",
     "output_type": "stream",
     "text": [
      "\r\n",
      "\u001b[1m[\u001b[0m\u001b[34;49mnotice\u001b[0m\u001b[1;39;49m]\u001b[0m\u001b[39;49m A new release of pip is available: \u001b[0m\u001b[31;49m23.1.2\u001b[0m\u001b[39;49m -> \u001b[0m\u001b[32;49m24.0\u001b[0m\r\n",
      "\u001b[1m[\u001b[0m\u001b[34;49mnotice\u001b[0m\u001b[1;39;49m]\u001b[0m\u001b[39;49m To update, run: \u001b[0m\u001b[32;49mpython3 -m pip install --upgrade pip\u001b[0m\r\n"
     ]
    },
    {
     "name": "stdout",
     "output_type": "stream",
     "text": [
      "Note: you may need to restart the kernel to use updated packages.\n"
     ]
    },
    {
     "name": "stdout",
     "output_type": "stream",
     "text": [
      "Requirement already satisfied: openpyxl in /home/airflow/.local/lib/python3.7/site-packages (3.1.3)\r\n",
      "Requirement already satisfied: et-xmlfile in /home/airflow/.local/lib/python3.7/site-packages (from openpyxl) (1.1.0)\r\n"
     ]
    },
    {
     "name": "stdout",
     "output_type": "stream",
     "text": [
      "\r\n",
      "\u001b[1m[\u001b[0m\u001b[34;49mnotice\u001b[0m\u001b[1;39;49m]\u001b[0m\u001b[39;49m A new release of pip is available: \u001b[0m\u001b[31;49m23.1.2\u001b[0m\u001b[39;49m -> \u001b[0m\u001b[32;49m24.0\u001b[0m\r\n",
      "\u001b[1m[\u001b[0m\u001b[34;49mnotice\u001b[0m\u001b[1;39;49m]\u001b[0m\u001b[39;49m To update, run: \u001b[0m\u001b[32;49mpython3 -m pip install --upgrade pip\u001b[0m\r\n"
     ]
    },
    {
     "name": "stdout",
     "output_type": "stream",
     "text": [
      "Note: you may need to restart the kernel to use updated packages.\n"
     ]
    },
    {
     "name": "stdout",
     "output_type": "stream",
     "text": [
      "Requirement already satisfied: matplotlib in /home/airflow/.local/lib/python3.7/site-packages (3.5.3)\r\n",
      "Requirement already satisfied: cycler>=0.10 in /home/airflow/.local/lib/python3.7/site-packages (from matplotlib) (0.11.0)\r\n",
      "Requirement already satisfied: fonttools>=4.22.0 in /home/airflow/.local/lib/python3.7/site-packages (from matplotlib) (4.38.0)\r\n",
      "Requirement already satisfied: kiwisolver>=1.0.1 in /home/airflow/.local/lib/python3.7/site-packages (from matplotlib) (1.4.5)\r\n",
      "Requirement already satisfied: numpy>=1.17 in /home/airflow/.local/lib/python3.7/site-packages (from matplotlib) (1.21.6)\r\n",
      "Requirement already satisfied: packaging>=20.0 in /home/airflow/.local/lib/python3.7/site-packages (from matplotlib) (23.2)\r\n",
      "Requirement already satisfied: pillow>=6.2.0 in /home/airflow/.local/lib/python3.7/site-packages (from matplotlib) (9.5.0)\r\n",
      "Requirement already satisfied: pyparsing>=2.2.1 in /home/airflow/.local/lib/python3.7/site-packages (from matplotlib) (3.0.9)\r\n",
      "Requirement already satisfied: python-dateutil>=2.7 in /home/airflow/.local/lib/python3.7/site-packages (from matplotlib) (2.8.2)\r\n"
     ]
    },
    {
     "name": "stdout",
     "output_type": "stream",
     "text": [
      "Requirement already satisfied: typing-extensions in /home/airflow/.local/lib/python3.7/site-packages (from kiwisolver>=1.0.1->matplotlib) (4.5.0)\r\n",
      "Requirement already satisfied: six>=1.5 in /home/airflow/.local/lib/python3.7/site-packages (from python-dateutil>=2.7->matplotlib) (1.16.0)\r\n"
     ]
    },
    {
     "name": "stdout",
     "output_type": "stream",
     "text": [
      "\r\n",
      "\u001b[1m[\u001b[0m\u001b[34;49mnotice\u001b[0m\u001b[1;39;49m]\u001b[0m\u001b[39;49m A new release of pip is available: \u001b[0m\u001b[31;49m23.1.2\u001b[0m\u001b[39;49m -> \u001b[0m\u001b[32;49m24.0\u001b[0m\r\n",
      "\u001b[1m[\u001b[0m\u001b[34;49mnotice\u001b[0m\u001b[1;39;49m]\u001b[0m\u001b[39;49m To update, run: \u001b[0m\u001b[32;49mpython3 -m pip install --upgrade pip\u001b[0m\r\n"
     ]
    },
    {
     "name": "stdout",
     "output_type": "stream",
     "text": [
      "Note: you may need to restart the kernel to use updated packages.\n"
     ]
    }
   ],
   "source": [
    "# Install PySpark\n",
    "%pip install pyspark\n",
    "%pip install openpyxl\n",
    "%pip install matplotlib\n",
    "import sys\n",
    "import pandas as pd\n",
    "from pyspark.sql import SparkSession\n",
    "from pyspark.sql.types import StructType, StructField, StringType, DoubleType, DateType, LongType\n",
    "import pyspark.sql.functions as F\n",
    "from pyspark.sql.functions import col, to_date, when, date_format\n",
    "from pyspark.sql.functions import avg, count\n",
    "import matplotlib.pyplot as plt\n",
    "from pyspark.sql.functions import udf\n",
    "from transformations import format_date\n",
    "from etl_pipeline import process_landing_zone"
   ]
  },
  {
   "cell_type": "markdown",
   "id": "6ef7e911",
   "metadata": {
    "id": "S4Vu55EFlUKO",
    "papermill": {
     "duration": 0.015084,
     "end_time": "2025-01-28T18:24:56.966677",
     "exception": false,
     "start_time": "2025-01-28T18:24:56.951593",
     "status": "completed"
    },
    "tags": []
   },
   "source": [
    "# Converting Files"
   ]
  },
  {
   "cell_type": "code",
   "execution_count": 4,
   "id": "b8926fb6",
   "metadata": {
    "execution": {
     "iopub.execute_input": "2025-01-28T18:24:57.016488Z",
     "iopub.status.busy": "2025-01-28T18:24:57.016134Z",
     "iopub.status.idle": "2025-01-28T18:24:59.930078Z",
     "shell.execute_reply": "2025-01-28T18:24:59.928005Z"
    },
    "executionInfo": {
     "elapsed": 15642,
     "status": "ok",
     "timestamp": 1738058505128,
     "user": {
      "displayName": "Javier Alhambra",
      "userId": "08990227891354213622"
     },
     "user_tz": -60
    },
    "id": "Jdqd9a2vH4iN",
    "jupyter": {
     "source_hidden": true
    },
    "papermill": {
     "duration": 2.942306,
     "end_time": "2025-01-28T18:24:59.932628",
     "exception": false,
     "start_time": "2025-01-28T18:24:56.990322",
     "status": "completed"
    },
    "tags": []
   },
   "outputs": [],
   "source": [
    "# Upload XLSX\n",
    "df = pd.read_excel('../datasets/listings_details.xlsx')"
   ]
  },
  {
   "cell_type": "markdown",
   "id": "592b0641",
   "metadata": {
    "id": "bDJp2yxHp0vE",
    "papermill": {
     "duration": 0.020097,
     "end_time": "2025-01-28T18:24:59.968279",
     "exception": false,
     "start_time": "2025-01-28T18:24:59.948182",
     "status": "completed"
    },
    "tags": []
   },
   "source": [
    "The files are xlsx but Spark is designed works better with csv. So xlsx will be converted into csv"
   ]
  },
  {
   "cell_type": "code",
   "execution_count": 5,
   "id": "9fb4c1d3",
   "metadata": {
    "execution": {
     "iopub.execute_input": "2025-01-28T18:25:00.008570Z",
     "iopub.status.busy": "2025-01-28T18:25:00.008091Z",
     "iopub.status.idle": "2025-01-28T18:25:03.451034Z",
     "shell.execute_reply": "2025-01-28T18:25:03.450050Z"
    },
    "executionInfo": {
     "elapsed": 14883,
     "status": "ok",
     "timestamp": 1738058520009,
     "user": {
      "displayName": "Javier Alhambra",
      "userId": "08990227891354213622"
     },
     "user_tz": -60
    },
    "id": "FPqhQ4VrqIUn",
    "jupyter": {
     "source_hidden": true
    },
    "papermill": {
     "duration": 3.466906,
     "end_time": "2025-01-28T18:25:03.453235",
     "exception": false,
     "start_time": "2025-01-28T18:24:59.986329",
     "status": "completed"
    },
    "tags": []
   },
   "outputs": [],
   "source": [
    "# Upload XLSX\n",
    "df = pd.read_excel('../datasets/listings_details.xlsx')\n",
    "\n",
    "# Replace line breaks with spaces\n",
    "df = df.replace({r'[\\n\\r]+': ' '}, regex=True)\n",
    "\n",
    "# Replace \" with '\n",
    "df = df.replace({r'\"': \"'\"}, regex=True)\n",
    "\n",
    "# Save CSV\n",
    "df.to_csv('../datasets/listings_details.csv', index=False, quotechar='\"')"
   ]
  },
  {
   "cell_type": "code",
   "execution_count": 6,
   "id": "5884ae4f",
   "metadata": {
    "execution": {
     "iopub.execute_input": "2025-01-28T18:25:03.487094Z",
     "iopub.status.busy": "2025-01-28T18:25:03.486752Z",
     "iopub.status.idle": "2025-01-28T18:25:03.518658Z",
     "shell.execute_reply": "2025-01-28T18:25:03.517623Z"
    },
    "executionInfo": {
     "elapsed": 1436,
     "status": "ok",
     "timestamp": 1738058544148,
     "user": {
      "displayName": "Javier Alhambra",
      "userId": "08990227891354213622"
     },
     "user_tz": -60
    },
    "id": "YtJwQs9jYaWC",
    "jupyter": {
     "source_hidden": true
    },
    "papermill": {
     "duration": 0.056451,
     "end_time": "2025-01-28T18:25:03.520486",
     "exception": false,
     "start_time": "2025-01-28T18:25:03.464035",
     "status": "completed"
    },
    "tags": []
   },
   "outputs": [],
   "source": [
    "# Upload XLSX\n",
    "df2 = pd.read_excel('../datasets/neighbourhoods.xlsx')\n",
    "\n",
    "# Replace line breaks with spaces\n",
    "df2 = df2.replace({r'[\\n\\r]+': ' '}, regex=True)\n",
    "\n",
    "# Save CSV\n",
    "df2.to_csv('../datasets/neighbourhoods.csv', index=False)"
   ]
  },
  {
   "cell_type": "markdown",
   "id": "90db0e03",
   "metadata": {
    "id": "_4vyJGFoli3M",
    "papermill": {
     "duration": 0.019658,
     "end_time": "2025-01-28T18:25:03.551289",
     "exception": false,
     "start_time": "2025-01-28T18:25:03.531631",
     "status": "completed"
    },
    "tags": []
   },
   "source": [
    "# PART 1: Landing Zone"
   ]
  },
  {
   "cell_type": "code",
   "execution_count": 7,
   "id": "a4c7a0d4",
   "metadata": {
    "execution": {
     "iopub.execute_input": "2025-01-28T18:25:03.591520Z",
     "iopub.status.busy": "2025-01-28T18:25:03.590132Z",
     "iopub.status.idle": "2025-01-28T18:25:06.848837Z",
     "shell.execute_reply": "2025-01-28T18:25:06.847867Z"
    },
    "executionInfo": {
     "elapsed": 14524,
     "status": "ok",
     "timestamp": 1738058562146,
     "user": {
      "displayName": "Javier Alhambra",
      "userId": "08990227891354213622"
     },
     "user_tz": -60
    },
    "id": "PG1iXNG4liec",
    "jupyter": {
     "source_hidden": true
    },
    "papermill": {
     "duration": 3.280436,
     "end_time": "2025-01-28T18:25:06.850621",
     "exception": false,
     "start_time": "2025-01-28T18:25:03.570185",
     "status": "completed"
    },
    "tags": []
   },
   "outputs": [
    {
     "name": "stderr",
     "output_type": "stream",
     "text": [
      "Setting default log level to \"WARN\".\n",
      "To adjust logging level use sc.setLogLevel(newLevel). For SparkR, use setLogLevel(newLevel).\n",
      "25/01/28 18:25:05 WARN NativeCodeLoader: Unable to load native-hadoop library for your platform... using builtin-java classes where applicable\n"
     ]
    },
    {
     "name": "stderr",
     "output_type": "stream",
     "text": [
      "/home/airflow/.local/lib/python3.7/site-packages/pyspark/context.py:317: FutureWarning: Python 3.7 support is deprecated in Spark 3.4.\n",
      "  warnings.warn(\"Python 3.7 support is deprecated in Spark 3.4.\", FutureWarning)\n"
     ]
    }
   ],
   "source": [
    "# Create a Spark session\n",
    "spark = SparkSession.builder \\\n",
    "    .appName(\"MedallionArchitecture\") \\\n",
    "    .getOrCreate()"
   ]
  },
  {
   "cell_type": "code",
   "execution_count": 8,
   "id": "4d869833",
   "metadata": {
    "execution": {
     "iopub.execute_input": "2025-01-28T18:25:06.888100Z",
     "iopub.status.busy": "2025-01-28T18:25:06.886785Z",
     "iopub.status.idle": "2025-01-28T18:25:11.190135Z",
     "shell.execute_reply": "2025-01-28T18:25:11.188786Z"
    },
    "executionInfo": {
     "elapsed": 15646,
     "status": "ok",
     "timestamp": 1738058579145,
     "user": {
      "displayName": "Javier Alhambra",
      "userId": "08990227891354213622"
     },
     "user_tz": -60
    },
    "id": "f4PsLQGcoUHr",
    "jupyter": {
     "source_hidden": true
    },
    "papermill": {
     "duration": 4.330229,
     "end_time": "2025-01-28T18:25:11.192362",
     "exception": false,
     "start_time": "2025-01-28T18:25:06.862133",
     "status": "completed"
    },
    "tags": []
   },
   "outputs": [],
   "source": [
    "# CSV paths\n",
    "listings_path = \"../datasets/listings_details.csv\"\n",
    "neighbourhoods_path = \"../datasets/neighbourhoods.csv\"\n",
    "\n",
    "listings_details, neighbourhoods = process_landing_zone(spark, listings_path, neighbourhoods_path)"
   ]
  },
  {
   "cell_type": "code",
   "execution_count": 9,
   "id": "f7dbb198",
   "metadata": {
    "colab": {
     "base_uri": "https://localhost:8080/"
    },
    "execution": {
     "iopub.execute_input": "2025-01-28T18:25:11.231483Z",
     "iopub.status.busy": "2025-01-28T18:25:11.231152Z",
     "iopub.status.idle": "2025-01-28T18:25:11.237305Z",
     "shell.execute_reply": "2025-01-28T18:25:11.236539Z"
    },
    "executionInfo": {
     "elapsed": 233,
     "status": "ok",
     "timestamp": 1738058580842,
     "user": {
      "displayName": "Javier Alhambra",
      "userId": "08990227891354213622"
     },
     "user_tz": -60
    },
    "id": "KL6ARxWX7au6",
    "jupyter": {
     "source_hidden": true
    },
    "outputId": "6d08a343-b45b-4adc-ac35-322b4dec5cdb",
    "papermill": {
     "duration": 0.031927,
     "end_time": "2025-01-28T18:25:11.238977",
     "exception": false,
     "start_time": "2025-01-28T18:25:11.207050",
     "status": "completed"
    },
    "tags": []
   },
   "outputs": [
    {
     "name": "stdout",
     "output_type": "stream",
     "text": [
      "root\n",
      " |-- id: long (nullable = true)\n",
      " |-- listing_url: string (nullable = true)\n",
      " |-- host_id: string (nullable = true)\n",
      " |-- neighbourhood: string (nullable = true)\n",
      " |-- neighbourhood_cleansed: string (nullable = true)\n",
      " |-- number_of_reviews: double (nullable = true)\n",
      " |-- review_scores_rating: double (nullable = true)\n",
      " |-- last_review: string (nullable = true)\n",
      "\n"
     ]
    }
   ],
   "source": [
    "# Print the schema of the DataFrame\n",
    "listings_details.printSchema()"
   ]
  },
  {
   "cell_type": "code",
   "execution_count": 10,
   "id": "e8a93e8c",
   "metadata": {
    "colab": {
     "base_uri": "https://localhost:8080/"
    },
    "execution": {
     "iopub.execute_input": "2025-01-28T18:25:11.271996Z",
     "iopub.status.busy": "2025-01-28T18:25:11.271732Z",
     "iopub.status.idle": "2025-01-28T18:25:11.277029Z",
     "shell.execute_reply": "2025-01-28T18:25:11.276037Z"
    },
    "executionInfo": {
     "elapsed": 207,
     "status": "ok",
     "timestamp": 1738058582395,
     "user": {
      "displayName": "Javier Alhambra",
      "userId": "08990227891354213622"
     },
     "user_tz": -60
    },
    "id": "jSdHEiZ9FZt7",
    "jupyter": {
     "source_hidden": true
    },
    "outputId": "0f248aea-ea23-42b4-e332-495506d0a162",
    "papermill": {
     "duration": 0.027559,
     "end_time": "2025-01-28T18:25:11.278501",
     "exception": false,
     "start_time": "2025-01-28T18:25:11.250942",
     "status": "completed"
    },
    "tags": []
   },
   "outputs": [
    {
     "name": "stdout",
     "output_type": "stream",
     "text": [
      "root\n",
      " |-- neighbourhood_group: string (nullable = true)\n",
      " |-- neighbourhood: string (nullable = true)\n",
      "\n"
     ]
    }
   ],
   "source": [
    "neighbourhoods.printSchema()"
   ]
  },
  {
   "cell_type": "code",
   "execution_count": 11,
   "id": "87149f7e",
   "metadata": {
    "colab": {
     "base_uri": "https://localhost:8080/"
    },
    "execution": {
     "iopub.execute_input": "2025-01-28T18:25:11.312884Z",
     "iopub.status.busy": "2025-01-28T18:25:11.312347Z",
     "iopub.status.idle": "2025-01-28T18:25:11.605834Z",
     "shell.execute_reply": "2025-01-28T18:25:11.604393Z"
    },
    "executionInfo": {
     "elapsed": 1291,
     "status": "ok",
     "timestamp": 1738058585102,
     "user": {
      "displayName": "Javier Alhambra",
      "userId": "08990227891354213622"
     },
     "user_tz": -60
    },
    "id": "VMxWMDJOrTps",
    "jupyter": {
     "source_hidden": true
    },
    "outputId": "7c87e440-4b30-4134-becc-5deec58142bc",
    "papermill": {
     "duration": 0.317652,
     "end_time": "2025-01-28T18:25:11.608334",
     "exception": false,
     "start_time": "2025-01-28T18:25:11.290682",
     "status": "completed"
    },
    "tags": []
   },
   "outputs": [
    {
     "name": "stdout",
     "output_type": "stream",
     "text": [
      "+------+--------------------+---------+--------------------+----------------------+-----------------+--------------------+-----------+\n",
      "|    id|         listing_url|  host_id|       neighbourhood|neighbourhood_cleansed|number_of_reviews|review_scores_rating|last_review|\n",
      "+------+--------------------+---------+--------------------+----------------------+-----------------+--------------------+-----------+\n",
      "| 73282|https://www.airbn...| 377532.0|                null|              Sihlfeld|             47.0|                4.78| 2019-04-27|\n",
      "|143821|https://www.airbn...| 697307.0|                null|          Alt-Wiedikon|              0.0|                null|       null|\n",
      "|178448|https://www.airbn...| 854016.0| Zurich, Switzerland|                  Enge|              9.0|                4.89| 2016-05-10|\n",
      "|204586|https://www.airbn...|1004816.0|                null|                 Höngg|              0.0|                null|       null|\n",
      "|227039|https://www.airbn...|1184427.0|Zurich, Canton of...|           Escher Wyss|             31.0|                4.97| 2023-08-22|\n",
      "+------+--------------------+---------+--------------------+----------------------+-----------------+--------------------+-----------+\n",
      "only showing top 5 rows\n",
      "\n"
     ]
    }
   ],
   "source": [
    "# Show the first 5 rows\n",
    "listings_details.show(5)"
   ]
  },
  {
   "cell_type": "code",
   "execution_count": 12,
   "id": "e7be18eb",
   "metadata": {
    "execution": {
     "iopub.execute_input": "2025-01-28T18:25:11.645008Z",
     "iopub.status.busy": "2025-01-28T18:25:11.644550Z",
     "iopub.status.idle": "2025-01-28T18:25:11.890556Z",
     "shell.execute_reply": "2025-01-28T18:25:11.887763Z"
    },
    "jupyter": {
     "source_hidden": true
    },
    "papermill": {
     "duration": 0.269144,
     "end_time": "2025-01-28T18:25:11.894405",
     "exception": false,
     "start_time": "2025-01-28T18:25:11.625261",
     "status": "completed"
    },
    "tags": []
   },
   "outputs": [],
   "source": [
    "# If exists, delete directory structure\n",
    "! rm -rf \"../tables\""
   ]
  },
  {
   "cell_type": "code",
   "execution_count": 13,
   "id": "2af3db17",
   "metadata": {
    "execution": {
     "iopub.execute_input": "2025-01-28T18:25:11.925509Z",
     "iopub.status.busy": "2025-01-28T18:25:11.924648Z",
     "iopub.status.idle": "2025-01-28T18:25:12.708485Z",
     "shell.execute_reply": "2025-01-28T18:25:12.706158Z"
    },
    "executionInfo": {
     "elapsed": 318,
     "status": "ok",
     "timestamp": 1738058588512,
     "user": {
      "displayName": "Javier Alhambra",
      "userId": "08990227891354213622"
     },
     "user_tz": -60
    },
    "id": "zGitxt0psHxK",
    "jupyter": {
     "source_hidden": true
    },
    "papermill": {
     "duration": 0.804355,
     "end_time": "2025-01-28T18:25:12.711279",
     "exception": false,
     "start_time": "2025-01-28T18:25:11.906924",
     "status": "completed"
    },
    "tags": []
   },
   "outputs": [],
   "source": [
    "# Create directory structure\n",
    "! mkdir \"../tables\"\n",
    "! mkdir \"../tables/bronze\"\n",
    "! mkdir \"../tables/silver\"\n",
    "! mkdir \"../tables/gold\""
   ]
  },
  {
   "cell_type": "markdown",
   "id": "8ade6262",
   "metadata": {
    "id": "rc6yASbfsTh7",
    "papermill": {
     "duration": 0.024932,
     "end_time": "2025-01-28T18:25:12.751977",
     "exception": false,
     "start_time": "2025-01-28T18:25:12.727045",
     "status": "completed"
    },
    "tags": []
   },
   "source": [
    "# PART 2: Bronze Layer"
   ]
  },
  {
   "cell_type": "code",
   "execution_count": 14,
   "id": "47e568e9",
   "metadata": {
    "execution": {
     "iopub.execute_input": "2025-01-28T18:25:12.794682Z",
     "iopub.status.busy": "2025-01-28T18:25:12.794412Z",
     "iopub.status.idle": "2025-01-28T18:25:15.546058Z",
     "shell.execute_reply": "2025-01-28T18:25:15.544779Z"
    },
    "executionInfo": {
     "elapsed": 15022,
     "status": "ok",
     "timestamp": 1738058605610,
     "user": {
      "displayName": "Javier Alhambra",
      "userId": "08990227891354213622"
     },
     "user_tz": -60
    },
    "id": "z9Flpd8zsTRx",
    "jupyter": {
     "source_hidden": true
    },
    "papermill": {
     "duration": 2.776269,
     "end_time": "2025-01-28T18:25:15.548298",
     "exception": false,
     "start_time": "2025-01-28T18:25:12.772029",
     "status": "completed"
    },
    "tags": []
   },
   "outputs": [
    {
     "name": "stderr",
     "output_type": "stream",
     "text": [
      "\r",
      "[Stage 3:>                                                          (0 + 2) / 2]\r"
     ]
    },
    {
     "name": "stderr",
     "output_type": "stream",
     "text": [
      "\r",
      "                                                                                \r"
     ]
    },
    {
     "name": "stderr",
     "output_type": "stream",
     "text": [
      "\r",
      "[Stage 4:>                                                          (0 + 1) / 1]\r",
      "\r",
      "                                                                                \r"
     ]
    }
   ],
   "source": [
    "# Write raw data to Bronze layer in Parquet format\n",
    "\n",
    "# Bronze paths\n",
    "bronze_path = \"../tables\"\n",
    "layer = \"bronze\"\n",
    "listings_filename = \"bronze_listings_details\"\n",
    "neighbourhoods_filename = \"neighbourhoods\"\n",
    "\n",
    "\n",
    "bronze_listing_output_file = \"{path}/{layer}/{filename}\".format(path=bronze_path, layer=layer, filename=listings_filename)\n",
    "listings_details.write.mode( \"overwrite\" ) \\\n",
    ".partitionBy(\"neighbourhood_cleansed\") \\\n",
    ".parquet(bronze_listing_output_file)\n",
    "\n",
    "bronze_neighbourhoods_output_file = \"{path}/{layer}/{filename}\".format(path=bronze_path, layer=layer, filename=neighbourhoods_filename)\n",
    "neighbourhoods.write.mode( \"overwrite\" ) \\\n",
    "  .partitionBy(\"neighbourhood\") \\\n",
    "  .parquet(bronze_neighbourhoods_output_file)"
   ]
  },
  {
   "cell_type": "markdown",
   "id": "3daa9e3b",
   "metadata": {
    "id": "5jS82gP8w3ML",
    "papermill": {
     "duration": 0.030542,
     "end_time": "2025-01-28T18:25:15.593042",
     "exception": false,
     "start_time": "2025-01-28T18:25:15.562500",
     "status": "completed"
    },
    "tags": []
   },
   "source": [
    "# PART 3: Silver Layer"
   ]
  },
  {
   "cell_type": "code",
   "execution_count": 15,
   "id": "ce27d70a",
   "metadata": {
    "execution": {
     "iopub.execute_input": "2025-01-28T18:25:15.630862Z",
     "iopub.status.busy": "2025-01-28T18:25:15.630478Z",
     "iopub.status.idle": "2025-01-28T18:25:16.387697Z",
     "shell.execute_reply": "2025-01-28T18:25:16.385560Z"
    },
    "executionInfo": {
     "elapsed": 3359,
     "status": "ok",
     "timestamp": 1738058641556,
     "user": {
      "displayName": "Javier Alhambra",
      "userId": "08990227891354213622"
     },
     "user_tz": -60
    },
    "id": "jODzTALhYIvy",
    "jupyter": {
     "source_hidden": true
    },
    "papermill": {
     "duration": 0.775923,
     "end_time": "2025-01-28T18:25:16.390365",
     "exception": false,
     "start_time": "2025-01-28T18:25:15.614442",
     "status": "completed"
    },
    "tags": []
   },
   "outputs": [],
   "source": [
    "# Silver paths\n",
    "silver_listing_input_file = bronze_listing_output_file\n",
    "silver_neighbourhoods_input_file = bronze_neighbourhoods_output_file\n",
    "\n",
    "# Load Bronze data\n",
    "bronze_listingsDF = spark.read.parquet(silver_listing_input_file)\n",
    "bronze_neighbourhoodsDF = spark.read.parquet(silver_neighbourhoods_input_file)"
   ]
  },
  {
   "cell_type": "code",
   "execution_count": 16,
   "id": "efc6c56c",
   "metadata": {
    "execution": {
     "iopub.execute_input": "2025-01-28T18:25:16.430920Z",
     "iopub.status.busy": "2025-01-28T18:25:16.429746Z",
     "iopub.status.idle": "2025-01-28T18:25:16.465435Z",
     "shell.execute_reply": "2025-01-28T18:25:16.463893Z"
    },
    "executionInfo": {
     "elapsed": 972,
     "status": "ok",
     "timestamp": 1738058643864,
     "user": {
      "displayName": "Javier Alhambra",
      "userId": "08990227891354213622"
     },
     "user_tz": -60
    },
    "id": "2V5MfUUOvGdv",
    "jupyter": {
     "source_hidden": true
    },
    "papermill": {
     "duration": 0.060575,
     "end_time": "2025-01-28T18:25:16.467922",
     "exception": false,
     "start_time": "2025-01-28T18:25:16.407347",
     "status": "completed"
    },
    "tags": []
   },
   "outputs": [],
   "source": [
    "# add Python file to the PySpark context, which makes it available on all worker nodes of the Spark cluster when running distributed operations.\n",
    "spark.sparkContext.addPyFile('../src/transformations.zip')"
   ]
  },
  {
   "cell_type": "code",
   "execution_count": 17,
   "id": "e443325a",
   "metadata": {
    "execution": {
     "iopub.execute_input": "2025-01-28T18:25:16.503783Z",
     "iopub.status.busy": "2025-01-28T18:25:16.503414Z",
     "iopub.status.idle": "2025-01-28T18:25:16.510964Z",
     "shell.execute_reply": "2025-01-28T18:25:16.509953Z"
    },
    "executionInfo": {
     "elapsed": 3,
     "status": "ok",
     "timestamp": 1738058645141,
     "user": {
      "displayName": "Javier Alhambra",
      "userId": "08990227891354213622"
     },
     "user_tz": -60
    },
    "id": "wJirr4LCq7-q",
    "jupyter": {
     "source_hidden": true
    },
    "papermill": {
     "duration": 0.031145,
     "end_time": "2025-01-28T18:25:16.512882",
     "exception": false,
     "start_time": "2025-01-28T18:25:16.481737",
     "status": "completed"
    },
    "tags": []
   },
   "outputs": [],
   "source": [
    "# Register the function as a UDF so that it can be executed in each partition of the cluster\n",
    "format_date_udf = udf(format_date, StringType())"
   ]
  },
  {
   "cell_type": "code",
   "execution_count": 18,
   "id": "dd174098",
   "metadata": {
    "execution": {
     "iopub.execute_input": "2025-01-28T18:25:16.551080Z",
     "iopub.status.busy": "2025-01-28T18:25:16.550656Z",
     "iopub.status.idle": "2025-01-28T18:25:16.645282Z",
     "shell.execute_reply": "2025-01-28T18:25:16.643609Z"
    },
    "executionInfo": {
     "elapsed": 207,
     "status": "ok",
     "timestamp": 1738058647383,
     "user": {
      "displayName": "Javier Alhambra",
      "userId": "08990227891354213622"
     },
     "user_tz": -60
    },
    "id": "iYvj3DXqw27K",
    "jupyter": {
     "source_hidden": true
    },
    "papermill": {
     "duration": 0.118161,
     "end_time": "2025-01-28T18:25:16.648336",
     "exception": false,
     "start_time": "2025-01-28T18:25:16.530175",
     "status": "completed"
    },
    "tags": []
   },
   "outputs": [],
   "source": [
    "# Join datasets and create new fields\n",
    "join_silver_listingsDF = bronze_listingsDF.join(\n",
    "    bronze_neighbourhoodsDF,\n",
    "    bronze_listingsDF[\"neighbourhood_cleansed\"] == bronze_neighbourhoodsDF[\"neighbourhood\"],\n",
    "    \"left\"\n",
    ").withColumn(\n",
    "    \"neighbourhood_group\", col(\"neighbourhood_group\")\n",
    ").withColumn(\n",
    "    \"last_review_human\", format_date_udf(col(\"last_review\"))\n",
    ").drop(\n",
    "    bronze_neighbourhoodsDF[\"neighbourhood\"]\n",
    ")\n"
   ]
  },
  {
   "cell_type": "code",
   "execution_count": 19,
   "id": "aceb40f9",
   "metadata": {
    "colab": {
     "base_uri": "https://localhost:8080/"
    },
    "execution": {
     "iopub.execute_input": "2025-01-28T18:25:16.687788Z",
     "iopub.status.busy": "2025-01-28T18:25:16.687081Z",
     "iopub.status.idle": "2025-01-28T18:25:18.225889Z",
     "shell.execute_reply": "2025-01-28T18:25:18.224425Z"
    },
    "executionInfo": {
     "elapsed": 4685,
     "status": "ok",
     "timestamp": 1738058654075,
     "user": {
      "displayName": "Javier Alhambra",
      "userId": "08990227891354213622"
     },
     "user_tz": -60
    },
    "id": "8GDbdXs6WNvZ",
    "jupyter": {
     "source_hidden": true
    },
    "outputId": "4009e1ec-c5d7-460d-b3ad-5e6635855d58",
    "papermill": {
     "duration": 1.562353,
     "end_time": "2025-01-28T18:25:18.228240",
     "exception": false,
     "start_time": "2025-01-28T18:25:16.665887",
     "status": "completed"
    },
    "tags": []
   },
   "outputs": [
    {
     "name": "stderr",
     "output_type": "stream",
     "text": [
      "\r",
      "[Stage 10:>                                                         (0 + 1) / 1]\r"
     ]
    },
    {
     "name": "stdout",
     "output_type": "stream",
     "text": [
      "+-------+------------------------------------+----------+-----------------------+-----------------+--------------------+-----------+----------------------+-------------------+------------------------+\n",
      "|id     |listing_url                         |host_id   |neighbourhood          |number_of_reviews|review_scores_rating|last_review|neighbourhood_cleansed|neighbourhood_group|last_review_human       |\n",
      "+-------+------------------------------------+----------+-----------------------+-----------------+--------------------+-----------+----------------------+-------------------+------------------------+\n",
      "|1179802|https://www.airbnb.com/rooms/1179802|3072454.0 |Zürich, Switzerland    |212.0            |4.9                 |2022-07-29 |Langstrasse           |Kreis 4            |Friday 29 July 2022     |\n",
      "|3673115|https://www.airbnb.com/rooms/3673115|6225442.0 |Zurich, Switzerland    |7.0              |4.71                |2019-11-10 |Langstrasse           |Kreis 4            |Sunday 10 November 2019 |\n",
      "|4381761|https://www.airbnb.com/rooms/4381761|1926619.0 |Zürich, ZH, Switzerland|65.0             |4.82                |2023-06-18 |Langstrasse           |Kreis 4            |Sunday 18 June 2023     |\n",
      "|5081849|https://www.airbnb.com/rooms/5081849|3595908.0 |Zürich, Switzerland    |31.0             |4.87                |2024-06-23 |Langstrasse           |Kreis 4            |Sunday 23 June 2024     |\n",
      "|6930672|https://www.airbnb.com/rooms/6930672|20803042.0|Zürich, Switzerland    |7.0              |5.0                 |2022-12-13 |Langstrasse           |Kreis 4            |Tuesday 13 December 2022|\n",
      "|9244524|https://www.airbnb.com/rooms/9244524|12886487.0|Zürich, Switzerland    |9.0              |4.56                |2023-11-17 |Langstrasse           |Kreis 4            |Friday 17 November 2023 |\n",
      "|9245092|https://www.airbnb.com/rooms/9245092|12886487.0|Zürich, Switzerland    |8.0              |4.63                |2024-03-21 |Langstrasse           |Kreis 4            |Thursday 21 March 2024  |\n",
      "|9245379|https://www.airbnb.com/rooms/9245379|12886487.0|Zürich, Switzerland    |28.0             |4.46                |2024-01-14 |Langstrasse           |Kreis 4            |Sunday 14 January 2024  |\n",
      "|9248507|https://www.airbnb.com/rooms/9248507|12886487.0|Zürich, Switzerland    |89.0             |4.67                |2024-06-23 |Langstrasse           |Kreis 4            |Sunday 23 June 2024     |\n",
      "|9248717|https://www.airbnb.com/rooms/9248717|12886487.0|Zürich, Switzerland    |35.0             |4.71                |2024-06-10 |Langstrasse           |Kreis 4            |Monday 10 June 2024     |\n",
      "+-------+------------------------------------+----------+-----------------------+-----------------+--------------------+-----------+----------------------+-------------------+------------------------+\n",
      "only showing top 10 rows\n",
      "\n"
     ]
    },
    {
     "name": "stderr",
     "output_type": "stream",
     "text": [
      "\r",
      "                                                                                \r"
     ]
    }
   ],
   "source": [
    "# Display all columns from the DataFrame\n",
    "join_silver_listingsDF.show(10, truncate=False)"
   ]
  },
  {
   "cell_type": "code",
   "execution_count": 20,
   "id": "8632a921",
   "metadata": {
    "execution": {
     "iopub.execute_input": "2025-01-28T18:25:18.266726Z",
     "iopub.status.busy": "2025-01-28T18:25:18.266343Z",
     "iopub.status.idle": "2025-01-28T18:25:19.297223Z",
     "shell.execute_reply": "2025-01-28T18:25:19.295416Z"
    },
    "executionInfo": {
     "elapsed": 11310,
     "status": "ok",
     "timestamp": 1738058667279,
     "user": {
      "displayName": "Javier Alhambra",
      "userId": "08990227891354213622"
     },
     "user_tz": -60
    },
    "id": "ujk52mYjV6hA",
    "jupyter": {
     "source_hidden": true
    },
    "papermill": {
     "duration": 1.053915,
     "end_time": "2025-01-28T18:25:19.299634",
     "exception": false,
     "start_time": "2025-01-28T18:25:18.245719",
     "status": "completed"
    },
    "tags": []
   },
   "outputs": [
    {
     "name": "stderr",
     "output_type": "stream",
     "text": [
      "\r",
      "[Stage 12:=========>                                              (2 + 10) / 12]\r",
      "\r",
      "                                                                                \r"
     ]
    }
   ],
   "source": [
    "# Write data to Silver layer\n",
    "silver_listings_path = \"../tables/silver/silver_listings_details\"\n",
    "join_silver_listingsDF.write.mode(\"overwrite\") \\\n",
    "  .partitionBy(\"neighbourhood_group\") \\\n",
    "  .parquet(silver_listings_path)"
   ]
  },
  {
   "cell_type": "markdown",
   "id": "650b79c7",
   "metadata": {
    "id": "afJk3vYE7V3e",
    "papermill": {
     "duration": 0.035968,
     "end_time": "2025-01-28T18:25:19.350879",
     "exception": false,
     "start_time": "2025-01-28T18:25:19.314911",
     "status": "completed"
    },
    "tags": []
   },
   "source": [
    "# PART 4: Gold Layer"
   ]
  },
  {
   "cell_type": "code",
   "execution_count": 21,
   "id": "0007e6cd",
   "metadata": {
    "execution": {
     "iopub.execute_input": "2025-01-28T18:25:19.394728Z",
     "iopub.status.busy": "2025-01-28T18:25:19.394364Z",
     "iopub.status.idle": "2025-01-28T18:25:21.600525Z",
     "shell.execute_reply": "2025-01-28T18:25:21.598823Z"
    },
    "executionInfo": {
     "elapsed": 8743,
     "status": "ok",
     "timestamp": 1738058736459,
     "user": {
      "displayName": "Javier Alhambra",
      "userId": "08990227891354213622"
     },
     "user_tz": -60
    },
    "id": "rEA61VcQ_PNn",
    "jupyter": {
     "source_hidden": true
    },
    "papermill": {
     "duration": 2.232058,
     "end_time": "2025-01-28T18:25:21.603577",
     "exception": false,
     "start_time": "2025-01-28T18:25:19.371519",
     "status": "completed"
    },
    "tags": []
   },
   "outputs": [
    {
     "name": "stderr",
     "output_type": "stream",
     "text": [
      "\r",
      "[Stage 15:===========>     (8 + 4) / 12][Stage 16:>                (0 + 8) / 12]\r"
     ]
    },
    {
     "name": "stderr",
     "output_type": "stream",
     "text": [
      "\r",
      "                                                                                \r"
     ]
    }
   ],
   "source": [
    "# Load Silver data\n",
    "silver_listings = spark.read.parquet(silver_listings_path)\n",
    "\n",
    "# Calculate metrics\n",
    "id_gold_listings = silver_listings\\\n",
    "  .groupBy(\"id\").agg(\n",
    "    count(\"number_of_reviews\").alias(\"id_rating_count\"),\n",
    "    avg(\"review_scores_rating\").alias(\"id_rating_avg\"))\n",
    "\n",
    "# Join neighbourhood_group to id_gold_listings\n",
    "id_gold_listings = id_gold_listings.join(\n",
    "    silver_listings.select(\"id\", \"neighbourhood_group\"),\n",
    "    on=\"id\",\n",
    "    how=\"left\")\n",
    "\n",
    "# Calculate metrics\n",
    "group_gold_listings = silver_listings\\\n",
    "  .groupBy(\"neighbourhood_group\").agg(\n",
    "    count(\"number_of_reviews\").alias(\"ng_rating_count\"),\n",
    "    avg(\"review_scores_rating\").alias(\"ng_rating_avg\"))\n",
    "\n",
    "# Gold DF\n",
    "gold_listings = id_gold_listings.join(\n",
    "    group_gold_listings.select(\"neighbourhood_group\",\"ng_rating_count\", \"ng_rating_avg\"),\n",
    "    on=\"neighbourhood_group\",\n",
    "    how=\"left\")\n",
    "\n",
    "# Write data to Gold layer\n",
    "gold_listings_path = \"../tables/gold/dasboard_ng_ratings\"\n",
    "gold_listings.write.mode(\"overwrite\") \\\n",
    "  .partitionBy(\"neighbourhood_group\") \\\n",
    "  .parquet(gold_listings_path)"
   ]
  },
  {
   "cell_type": "code",
   "execution_count": 22,
   "id": "15f96002",
   "metadata": {
    "execution": {
     "iopub.execute_input": "2025-01-28T18:25:21.647007Z",
     "iopub.status.busy": "2025-01-28T18:25:21.646532Z",
     "iopub.status.idle": "2025-01-28T18:25:22.134163Z",
     "shell.execute_reply": "2025-01-28T18:25:22.132466Z"
    },
    "jupyter": {
     "source_hidden": true
    },
    "papermill": {
     "duration": 0.515723,
     "end_time": "2025-01-28T18:25:22.137144",
     "exception": false,
     "start_time": "2025-01-28T18:25:21.621421",
     "status": "completed"
    },
    "tags": []
   },
   "outputs": [
    {
     "name": "stdout",
     "output_type": "stream",
     "text": [
      "0\n"
     ]
    }
   ],
   "source": [
    "# Load Gold data\n",
    "gold_listings = spark.read.parquet(gold_listings_path)\n",
    "\n",
    "# Convert Gold data to Pandas for plotting\n",
    "gold_pandas = gold_listings.toPandas()\n",
    "print(\"0\")"
   ]
  },
  {
   "cell_type": "code",
   "execution_count": 23,
   "id": "c49b4059",
   "metadata": {
    "execution": {
     "iopub.execute_input": "2025-01-28T18:25:22.184347Z",
     "iopub.status.busy": "2025-01-28T18:25:22.183696Z",
     "iopub.status.idle": "2025-01-28T18:25:22.195488Z",
     "shell.execute_reply": "2025-01-28T18:25:22.193890Z"
    },
    "jupyter": {
     "source_hidden": true
    },
    "papermill": {
     "duration": 0.040522,
     "end_time": "2025-01-28T18:25:22.198567",
     "exception": false,
     "start_time": "2025-01-28T18:25:22.158045",
     "status": "completed"
    },
    "tags": []
   },
   "outputs": [
    {
     "name": "stdout",
     "output_type": "stream",
     "text": [
      "1\n"
     ]
    }
   ],
   "source": [
    "\n",
    "# Define the order of the neighborhood groups\n",
    "order = ['Kreis 1', 'Kreis 2', 'Kreis 3', 'Kreis 4', 'Kreis 5', 'Kreis 6', 'Kreis 7', 'Kreis 8', 'Kreis 9', 'Kreis 10', 'Kreis 11', 'Kreis 12']\n",
    "\n",
    "# Convert the 'neighbourhood_group' column to a categorical type with the specified order\n",
    "gold_pandas['neighbourhood_group'] = pd.Categorical(gold_pandas['neighbourhood_group'], categories=order, ordered=True)\n",
    "\n",
    "print(\"1\")"
   ]
  },
  {
   "cell_type": "code",
   "execution_count": 24,
   "id": "e92b18f5",
   "metadata": {
    "execution": {
     "iopub.execute_input": "2025-01-28T18:25:22.241113Z",
     "iopub.status.busy": "2025-01-28T18:25:22.240818Z",
     "iopub.status.idle": "2025-01-28T18:25:22.263019Z",
     "shell.execute_reply": "2025-01-28T18:25:22.262204Z"
    },
    "jupyter": {
     "source_hidden": true
    },
    "papermill": {
     "duration": 0.045071,
     "end_time": "2025-01-28T18:25:22.264377",
     "exception": false,
     "start_time": "2025-01-28T18:25:22.219306",
     "status": "completed"
    },
    "tags": []
   },
   "outputs": [
    {
     "data": {
      "text/html": [
       "<div>\n",
       "<style scoped>\n",
       "    .dataframe tbody tr th:only-of-type {\n",
       "        vertical-align: middle;\n",
       "    }\n",
       "\n",
       "    .dataframe tbody tr th {\n",
       "        vertical-align: top;\n",
       "    }\n",
       "\n",
       "    .dataframe thead th {\n",
       "        text-align: right;\n",
       "    }\n",
       "</style>\n",
       "<table border=\"1\" class=\"dataframe\">\n",
       "  <thead>\n",
       "    <tr style=\"text-align: right;\">\n",
       "      <th></th>\n",
       "      <th>id</th>\n",
       "      <th>id_rating_count</th>\n",
       "      <th>id_rating_avg</th>\n",
       "      <th>ng_rating_count</th>\n",
       "      <th>ng_rating_avg</th>\n",
       "      <th>neighbourhood_group</th>\n",
       "    </tr>\n",
       "  </thead>\n",
       "  <tbody>\n",
       "    <tr>\n",
       "      <th>483</th>\n",
       "      <td>5483148.0</td>\n",
       "      <td>1</td>\n",
       "      <td>4.590000</td>\n",
       "      <td>225.0</td>\n",
       "      <td>4.657704</td>\n",
       "      <td>Kreis 1</td>\n",
       "    </tr>\n",
       "    <tr>\n",
       "      <th>452</th>\n",
       "      <td>16263857.0</td>\n",
       "      <td>1</td>\n",
       "      <td>4.600000</td>\n",
       "      <td>225.0</td>\n",
       "      <td>4.657704</td>\n",
       "      <td>Kreis 1</td>\n",
       "    </tr>\n",
       "    <tr>\n",
       "      <th>451</th>\n",
       "      <td>10382963.0</td>\n",
       "      <td>1</td>\n",
       "      <td>4.780000</td>\n",
       "      <td>225.0</td>\n",
       "      <td>4.657704</td>\n",
       "      <td>Kreis 1</td>\n",
       "    </tr>\n",
       "    <tr>\n",
       "      <th>450</th>\n",
       "      <td>2920505.0</td>\n",
       "      <td>1</td>\n",
       "      <td>4.540000</td>\n",
       "      <td>225.0</td>\n",
       "      <td>4.657704</td>\n",
       "      <td>Kreis 1</td>\n",
       "    </tr>\n",
       "    <tr>\n",
       "      <th>449</th>\n",
       "      <td>2962635.0</td>\n",
       "      <td>1</td>\n",
       "      <td>4.300000</td>\n",
       "      <td>225.0</td>\n",
       "      <td>4.657704</td>\n",
       "      <td>Kreis 1</td>\n",
       "    </tr>\n",
       "    <tr>\n",
       "      <th>...</th>\n",
       "      <td>...</td>\n",
       "      <td>...</td>\n",
       "      <td>...</td>\n",
       "      <td>...</td>\n",
       "      <td>...</td>\n",
       "      <td>...</td>\n",
       "    </tr>\n",
       "    <tr>\n",
       "      <th>1266</th>\n",
       "      <td>6080762.0</td>\n",
       "      <td>1</td>\n",
       "      <td>4.500000</td>\n",
       "      <td>66.0</td>\n",
       "      <td>4.655000</td>\n",
       "      <td>Kreis 12</td>\n",
       "    </tr>\n",
       "    <tr>\n",
       "      <th>1265</th>\n",
       "      <td>9338171.0</td>\n",
       "      <td>1</td>\n",
       "      <td>4.930000</td>\n",
       "      <td>66.0</td>\n",
       "      <td>4.655000</td>\n",
       "      <td>Kreis 12</td>\n",
       "    </tr>\n",
       "    <tr>\n",
       "      <th>1273</th>\n",
       "      <td>9336821.0</td>\n",
       "      <td>1</td>\n",
       "      <td>4.950000</td>\n",
       "      <td>66.0</td>\n",
       "      <td>4.655000</td>\n",
       "      <td>Kreis 12</td>\n",
       "    </tr>\n",
       "    <tr>\n",
       "      <th>1282</th>\n",
       "      <td>21433086.0</td>\n",
       "      <td>1</td>\n",
       "      <td>4.250000</td>\n",
       "      <td>66.0</td>\n",
       "      <td>4.655000</td>\n",
       "      <td>Kreis 12</td>\n",
       "    </tr>\n",
       "    <tr>\n",
       "      <th>1283</th>\n",
       "      <td>NaN</td>\n",
       "      <td>1727</td>\n",
       "      <td>4.717403</td>\n",
       "      <td>NaN</td>\n",
       "      <td>NaN</td>\n",
       "      <td>NaN</td>\n",
       "    </tr>\n",
       "  </tbody>\n",
       "</table>\n",
       "<p>1284 rows × 6 columns</p>\n",
       "</div>"
      ],
      "text/plain": [
       "              id  id_rating_count  id_rating_avg  ng_rating_count  \\\n",
       "483    5483148.0                1       4.590000            225.0   \n",
       "452   16263857.0                1       4.600000            225.0   \n",
       "451   10382963.0                1       4.780000            225.0   \n",
       "450    2920505.0                1       4.540000            225.0   \n",
       "449    2962635.0                1       4.300000            225.0   \n",
       "...          ...              ...            ...              ...   \n",
       "1266   6080762.0                1       4.500000             66.0   \n",
       "1265   9338171.0                1       4.930000             66.0   \n",
       "1273   9336821.0                1       4.950000             66.0   \n",
       "1282  21433086.0                1       4.250000             66.0   \n",
       "1283         NaN             1727       4.717403              NaN   \n",
       "\n",
       "      ng_rating_avg neighbourhood_group  \n",
       "483        4.657704             Kreis 1  \n",
       "452        4.657704             Kreis 1  \n",
       "451        4.657704             Kreis 1  \n",
       "450        4.657704             Kreis 1  \n",
       "449        4.657704             Kreis 1  \n",
       "...             ...                 ...  \n",
       "1266       4.655000            Kreis 12  \n",
       "1265       4.655000            Kreis 12  \n",
       "1273       4.655000            Kreis 12  \n",
       "1282       4.655000            Kreis 12  \n",
       "1283            NaN                 NaN  \n",
       "\n",
       "[1284 rows x 6 columns]"
      ]
     },
     "execution_count": 24,
     "metadata": {},
     "output_type": "execute_result"
    }
   ],
   "source": [
    "# Sort the data by neighbourhood_group\n",
    "gold_pandas = gold_pandas.sort_values(\"neighbourhood_group\")\n",
    "\n",
    "gold_pandas\n"
   ]
  },
  {
   "cell_type": "code",
   "execution_count": 25,
   "id": "1e804c41",
   "metadata": {
    "execution": {
     "iopub.execute_input": "2025-01-28T18:25:22.301416Z",
     "iopub.status.busy": "2025-01-28T18:25:22.301132Z",
     "iopub.status.idle": "2025-01-28T18:25:22.305993Z",
     "shell.execute_reply": "2025-01-28T18:25:22.305202Z"
    },
    "jupyter": {
     "source_hidden": true
    },
    "papermill": {
     "duration": 0.029203,
     "end_time": "2025-01-28T18:25:22.308612",
     "exception": false,
     "start_time": "2025-01-28T18:25:22.279409",
     "status": "completed"
    },
    "tags": []
   },
   "outputs": [
    {
     "name": "stdout",
     "output_type": "stream",
     "text": [
      "2\n"
     ]
    }
   ],
   "source": [
    "print(\"2\")"
   ]
  },
  {
   "cell_type": "code",
   "execution_count": 26,
   "id": "787d2f24",
   "metadata": {
    "execution": {
     "iopub.execute_input": "2025-01-28T18:25:22.345337Z",
     "iopub.status.busy": "2025-01-28T18:25:22.345067Z",
     "iopub.status.idle": "2025-01-28T18:25:22.352613Z",
     "shell.execute_reply": "2025-01-28T18:25:22.351855Z"
    },
    "jupyter": {
     "source_hidden": true
    },
    "papermill": {
     "duration": 0.030261,
     "end_time": "2025-01-28T18:25:22.354303",
     "exception": false,
     "start_time": "2025-01-28T18:25:22.324042",
     "status": "completed"
    },
    "tags": []
   },
   "outputs": [
    {
     "data": {
      "text/plain": [
       "483      Kreis 1\n",
       "452      Kreis 1\n",
       "451      Kreis 1\n",
       "450      Kreis 1\n",
       "449      Kreis 1\n",
       "          ...   \n",
       "1266    Kreis 12\n",
       "1265    Kreis 12\n",
       "1273    Kreis 12\n",
       "1282    Kreis 12\n",
       "1283         NaN\n",
       "Name: neighbourhood_group, Length: 1284, dtype: category\n",
       "Categories (12, object): ['Kreis 1' < 'Kreis 2' < 'Kreis 3' < 'Kreis 4' ... 'Kreis 9' < 'Kreis 10' < 'Kreis 11' < 'Kreis 12']"
      ]
     },
     "execution_count": 26,
     "metadata": {},
     "output_type": "execute_result"
    }
   ],
   "source": [
    "gold_pandas[\"neighbourhood_group\"] \n"
   ]
  },
  {
   "cell_type": "code",
   "execution_count": 27,
   "id": "b061a3c6",
   "metadata": {
    "execution": {
     "iopub.execute_input": "2025-01-28T18:25:22.395172Z",
     "iopub.status.busy": "2025-01-28T18:25:22.394905Z",
     "iopub.status.idle": "2025-01-28T18:25:22.409699Z",
     "shell.execute_reply": "2025-01-28T18:25:22.408937Z"
    },
    "jupyter": {
     "source_hidden": true
    },
    "papermill": {
     "duration": 0.040837,
     "end_time": "2025-01-28T18:25:22.411528",
     "exception": false,
     "start_time": "2025-01-28T18:25:22.370691",
     "status": "completed"
    },
    "tags": []
   },
   "outputs": [],
   "source": [
    "# Export Gold data to CSV for visualization\n",
    "gold_csv_path = \"../datasets/dashboard_ng_ratings.csv\"\n",
    "gold_pandas.to_csv(gold_csv_path, index=False)\n"
   ]
  },
  {
   "cell_type": "code",
   "execution_count": 28,
   "id": "ddf10310",
   "metadata": {
    "execution": {
     "iopub.execute_input": "2025-01-28T18:25:22.458218Z",
     "iopub.status.busy": "2025-01-28T18:25:22.457965Z",
     "iopub.status.idle": "2025-01-28T18:25:22.462966Z",
     "shell.execute_reply": "2025-01-28T18:25:22.461815Z"
    },
    "jupyter": {
     "source_hidden": true
    },
    "papermill": {
     "duration": 0.031229,
     "end_time": "2025-01-28T18:25:22.464781",
     "exception": false,
     "start_time": "2025-01-28T18:25:22.433552",
     "status": "completed"
    },
    "tags": []
   },
   "outputs": [
    {
     "name": "stdout",
     "output_type": "stream",
     "text": [
      "hola\n"
     ]
    }
   ],
   "source": [
    "print(\"hola\")"
   ]
  },
  {
   "cell_type": "markdown",
   "id": "fe1597e6",
   "metadata": {
    "id": "LeQMzXb1G9pB",
    "papermill": {
     "duration": 0.0231,
     "end_time": "2025-01-28T18:25:22.504630",
     "exception": false,
     "start_time": "2025-01-28T18:25:22.481530",
     "status": "completed"
    },
    "tags": []
   },
   "source": [
    "# PART 5: Presentation"
   ]
  },
  {
   "cell_type": "markdown",
   "id": "de816589",
   "metadata": {
    "tags": [
     "papermill-error-cell-tag"
    ]
   },
   "source": [
    "<span id=\"papermill-error-cell\" style=\"color:red; font-family:Helvetica Neue, Helvetica, Arial, sans-serif; font-size:2em;\">Execution using papermill encountered an exception here and stopped:</span>"
   ]
  },
  {
   "cell_type": "code",
   "execution_count": 29,
   "id": "2f6135ee",
   "metadata": {
    "colab": {
     "base_uri": "https://localhost:8080/",
     "height": 607
    },
    "execution": {
     "iopub.execute_input": "2025-01-28T18:25:22.551100Z",
     "iopub.status.busy": "2025-01-28T18:25:22.550834Z",
     "iopub.status.idle": "2025-01-28T18:25:22.831363Z",
     "shell.execute_reply": "2025-01-28T18:25:22.829810Z"
    },
    "executionInfo": {
     "elapsed": 7855,
     "status": "ok",
     "timestamp": 1738058755228,
     "user": {
      "displayName": "Javier Alhambra",
      "userId": "08990227891354213622"
     },
     "user_tz": -60
    },
    "id": "Fkcqa5sOG-IE",
    "jupyter": {
     "source_hidden": true
    },
    "outputId": "d2deeb10-f651-4afb-cad8-354d9aa6a86f",
    "papermill": {
     "duration": 0.305322,
     "end_time": "2025-01-28T18:25:22.833128",
     "exception": true,
     "start_time": "2025-01-28T18:25:22.527806",
     "status": "failed"
    },
    "tags": []
   },
   "outputs": [
    {
     "ename": "TypeError",
     "evalue": "'value' must be an instance of str or bytes, not a float",
     "output_type": "error",
     "traceback": [
      "\u001b[0;31m---------------------------------------------------------------------------\u001b[0m",
      "\u001b[0;31mTypeError\u001b[0m                                 Traceback (most recent call last)",
      "\u001b[0;32m/tmp/ipykernel_1986/3713227615.py\u001b[0m in \u001b[0;36m<module>\u001b[0;34m\u001b[0m\n\u001b[1;32m      1\u001b[0m \u001b[0;31m# Plot neighborhood group ratings\u001b[0m\u001b[0;34m\u001b[0m\u001b[0;34m\u001b[0m\u001b[0;34m\u001b[0m\u001b[0m\n\u001b[1;32m      2\u001b[0m \u001b[0mplt\u001b[0m\u001b[0;34m.\u001b[0m\u001b[0mfigure\u001b[0m\u001b[0;34m(\u001b[0m\u001b[0mfigsize\u001b[0m\u001b[0;34m=\u001b[0m\u001b[0;34m(\u001b[0m\u001b[0;36m10\u001b[0m\u001b[0;34m,\u001b[0m \u001b[0;36m6\u001b[0m\u001b[0;34m)\u001b[0m\u001b[0;34m)\u001b[0m\u001b[0;34m\u001b[0m\u001b[0;34m\u001b[0m\u001b[0m\n\u001b[0;32m----> 3\u001b[0;31m \u001b[0mplt\u001b[0m\u001b[0;34m.\u001b[0m\u001b[0mbar\u001b[0m\u001b[0;34m(\u001b[0m\u001b[0mgold_pandas\u001b[0m\u001b[0;34m[\u001b[0m\u001b[0;34m\"neighbourhood_group\"\u001b[0m\u001b[0;34m]\u001b[0m\u001b[0;34m,\u001b[0m \u001b[0mgold_pandas\u001b[0m\u001b[0;34m[\u001b[0m\u001b[0;34m\"ng_rating_avg\"\u001b[0m\u001b[0;34m]\u001b[0m\u001b[0;34m,\u001b[0m \u001b[0mcolor\u001b[0m\u001b[0;34m=\u001b[0m\u001b[0;34m'skyblue'\u001b[0m\u001b[0;34m)\u001b[0m\u001b[0;34m\u001b[0m\u001b[0;34m\u001b[0m\u001b[0m\n\u001b[0m\u001b[1;32m      4\u001b[0m \u001b[0mplt\u001b[0m\u001b[0;34m.\u001b[0m\u001b[0mtitle\u001b[0m\u001b[0;34m(\u001b[0m\u001b[0;34m\"Average Ratings by Neighbourhood Group\"\u001b[0m\u001b[0;34m,\u001b[0m \u001b[0mfontsize\u001b[0m\u001b[0;34m=\u001b[0m\u001b[0;36m16\u001b[0m\u001b[0;34m)\u001b[0m\u001b[0;34m\u001b[0m\u001b[0;34m\u001b[0m\u001b[0m\n\u001b[1;32m      5\u001b[0m \u001b[0mplt\u001b[0m\u001b[0;34m.\u001b[0m\u001b[0mxlabel\u001b[0m\u001b[0;34m(\u001b[0m\u001b[0;34m\"Neighbourhood Group\"\u001b[0m\u001b[0;34m,\u001b[0m \u001b[0mfontsize\u001b[0m\u001b[0;34m=\u001b[0m\u001b[0;36m12\u001b[0m\u001b[0;34m)\u001b[0m\u001b[0;34m\u001b[0m\u001b[0;34m\u001b[0m\u001b[0m\n",
      "\u001b[0;32m~/.local/lib/python3.7/site-packages/matplotlib/pyplot.py\u001b[0m in \u001b[0;36mbar\u001b[0;34m(x, height, width, bottom, align, data, **kwargs)\u001b[0m\n\u001b[1;32m   2397\u001b[0m     return gca().bar(\n\u001b[1;32m   2398\u001b[0m         \u001b[0mx\u001b[0m\u001b[0;34m,\u001b[0m \u001b[0mheight\u001b[0m\u001b[0;34m,\u001b[0m \u001b[0mwidth\u001b[0m\u001b[0;34m=\u001b[0m\u001b[0mwidth\u001b[0m\u001b[0;34m,\u001b[0m \u001b[0mbottom\u001b[0m\u001b[0;34m=\u001b[0m\u001b[0mbottom\u001b[0m\u001b[0;34m,\u001b[0m \u001b[0malign\u001b[0m\u001b[0;34m=\u001b[0m\u001b[0malign\u001b[0m\u001b[0;34m,\u001b[0m\u001b[0;34m\u001b[0m\u001b[0;34m\u001b[0m\u001b[0m\n\u001b[0;32m-> 2399\u001b[0;31m         **({\"data\": data} if data is not None else {}), **kwargs)\n\u001b[0m\u001b[1;32m   2400\u001b[0m \u001b[0;34m\u001b[0m\u001b[0m\n\u001b[1;32m   2401\u001b[0m \u001b[0;34m\u001b[0m\u001b[0m\n",
      "\u001b[0;32m~/.local/lib/python3.7/site-packages/matplotlib/__init__.py\u001b[0m in \u001b[0;36minner\u001b[0;34m(ax, data, *args, **kwargs)\u001b[0m\n\u001b[1;32m   1412\u001b[0m     \u001b[0;32mdef\u001b[0m \u001b[0minner\u001b[0m\u001b[0;34m(\u001b[0m\u001b[0max\u001b[0m\u001b[0;34m,\u001b[0m \u001b[0;34m*\u001b[0m\u001b[0margs\u001b[0m\u001b[0;34m,\u001b[0m \u001b[0mdata\u001b[0m\u001b[0;34m=\u001b[0m\u001b[0;32mNone\u001b[0m\u001b[0;34m,\u001b[0m \u001b[0;34m**\u001b[0m\u001b[0mkwargs\u001b[0m\u001b[0;34m)\u001b[0m\u001b[0;34m:\u001b[0m\u001b[0;34m\u001b[0m\u001b[0;34m\u001b[0m\u001b[0m\n\u001b[1;32m   1413\u001b[0m         \u001b[0;32mif\u001b[0m \u001b[0mdata\u001b[0m \u001b[0;32mis\u001b[0m \u001b[0;32mNone\u001b[0m\u001b[0;34m:\u001b[0m\u001b[0;34m\u001b[0m\u001b[0;34m\u001b[0m\u001b[0m\n\u001b[0;32m-> 1414\u001b[0;31m             \u001b[0;32mreturn\u001b[0m \u001b[0mfunc\u001b[0m\u001b[0;34m(\u001b[0m\u001b[0max\u001b[0m\u001b[0;34m,\u001b[0m \u001b[0;34m*\u001b[0m\u001b[0mmap\u001b[0m\u001b[0;34m(\u001b[0m\u001b[0msanitize_sequence\u001b[0m\u001b[0;34m,\u001b[0m \u001b[0margs\u001b[0m\u001b[0;34m)\u001b[0m\u001b[0;34m,\u001b[0m \u001b[0;34m**\u001b[0m\u001b[0mkwargs\u001b[0m\u001b[0;34m)\u001b[0m\u001b[0;34m\u001b[0m\u001b[0;34m\u001b[0m\u001b[0m\n\u001b[0m\u001b[1;32m   1415\u001b[0m \u001b[0;34m\u001b[0m\u001b[0m\n\u001b[1;32m   1416\u001b[0m         \u001b[0mbound\u001b[0m \u001b[0;34m=\u001b[0m \u001b[0mnew_sig\u001b[0m\u001b[0;34m.\u001b[0m\u001b[0mbind\u001b[0m\u001b[0;34m(\u001b[0m\u001b[0max\u001b[0m\u001b[0;34m,\u001b[0m \u001b[0;34m*\u001b[0m\u001b[0margs\u001b[0m\u001b[0;34m,\u001b[0m \u001b[0;34m**\u001b[0m\u001b[0mkwargs\u001b[0m\u001b[0;34m)\u001b[0m\u001b[0;34m\u001b[0m\u001b[0;34m\u001b[0m\u001b[0m\n",
      "\u001b[0;32m~/.local/lib/python3.7/site-packages/matplotlib/axes/_axes.py\u001b[0m in \u001b[0;36mbar\u001b[0;34m(self, x, height, width, bottom, align, **kwargs)\u001b[0m\n\u001b[1;32m   2319\u001b[0m         \u001b[0;32mif\u001b[0m \u001b[0morientation\u001b[0m \u001b[0;34m==\u001b[0m \u001b[0;34m'vertical'\u001b[0m\u001b[0;34m:\u001b[0m\u001b[0;34m\u001b[0m\u001b[0;34m\u001b[0m\u001b[0m\n\u001b[1;32m   2320\u001b[0m             self._process_unit_info(\n\u001b[0;32m-> 2321\u001b[0;31m                 [(\"x\", x), (\"y\", height)], kwargs, convert=False)\n\u001b[0m\u001b[1;32m   2322\u001b[0m             \u001b[0;32mif\u001b[0m \u001b[0mlog\u001b[0m\u001b[0;34m:\u001b[0m\u001b[0;34m\u001b[0m\u001b[0;34m\u001b[0m\u001b[0m\n\u001b[1;32m   2323\u001b[0m                 \u001b[0mself\u001b[0m\u001b[0;34m.\u001b[0m\u001b[0mset_yscale\u001b[0m\u001b[0;34m(\u001b[0m\u001b[0;34m'log'\u001b[0m\u001b[0;34m,\u001b[0m \u001b[0mnonpositive\u001b[0m\u001b[0;34m=\u001b[0m\u001b[0;34m'clip'\u001b[0m\u001b[0;34m)\u001b[0m\u001b[0;34m\u001b[0m\u001b[0;34m\u001b[0m\u001b[0m\n",
      "\u001b[0;32m~/.local/lib/python3.7/site-packages/matplotlib/axes/_base.py\u001b[0m in \u001b[0;36m_process_unit_info\u001b[0;34m(self, datasets, kwargs, convert)\u001b[0m\n\u001b[1;32m   2524\u001b[0m             \u001b[0;31m# Update from data if axis is already set but no unit is set yet.\u001b[0m\u001b[0;34m\u001b[0m\u001b[0;34m\u001b[0m\u001b[0;34m\u001b[0m\u001b[0m\n\u001b[1;32m   2525\u001b[0m             \u001b[0;32mif\u001b[0m \u001b[0maxis\u001b[0m \u001b[0;32mis\u001b[0m \u001b[0;32mnot\u001b[0m \u001b[0;32mNone\u001b[0m \u001b[0;32mand\u001b[0m \u001b[0mdata\u001b[0m \u001b[0;32mis\u001b[0m \u001b[0;32mnot\u001b[0m \u001b[0;32mNone\u001b[0m \u001b[0;32mand\u001b[0m \u001b[0;32mnot\u001b[0m \u001b[0maxis\u001b[0m\u001b[0;34m.\u001b[0m\u001b[0mhave_units\u001b[0m\u001b[0;34m(\u001b[0m\u001b[0;34m)\u001b[0m\u001b[0;34m:\u001b[0m\u001b[0;34m\u001b[0m\u001b[0;34m\u001b[0m\u001b[0m\n\u001b[0;32m-> 2526\u001b[0;31m                 \u001b[0maxis\u001b[0m\u001b[0;34m.\u001b[0m\u001b[0mupdate_units\u001b[0m\u001b[0;34m(\u001b[0m\u001b[0mdata\u001b[0m\u001b[0;34m)\u001b[0m\u001b[0;34m\u001b[0m\u001b[0;34m\u001b[0m\u001b[0m\n\u001b[0m\u001b[1;32m   2527\u001b[0m         \u001b[0;32mfor\u001b[0m \u001b[0maxis_name\u001b[0m\u001b[0;34m,\u001b[0m \u001b[0maxis\u001b[0m \u001b[0;32min\u001b[0m \u001b[0maxis_map\u001b[0m\u001b[0;34m.\u001b[0m\u001b[0mitems\u001b[0m\u001b[0;34m(\u001b[0m\u001b[0;34m)\u001b[0m\u001b[0;34m:\u001b[0m\u001b[0;34m\u001b[0m\u001b[0;34m\u001b[0m\u001b[0m\n\u001b[1;32m   2528\u001b[0m             \u001b[0;31m# Return if no axis is set.\u001b[0m\u001b[0;34m\u001b[0m\u001b[0;34m\u001b[0m\u001b[0;34m\u001b[0m\u001b[0m\n",
      "\u001b[0;32m~/.local/lib/python3.7/site-packages/matplotlib/axis.py\u001b[0m in \u001b[0;36mupdate_units\u001b[0;34m(self, data)\u001b[0m\n\u001b[1;32m   1447\u001b[0m         \u001b[0mneednew\u001b[0m \u001b[0;34m=\u001b[0m \u001b[0mself\u001b[0m\u001b[0;34m.\u001b[0m\u001b[0mconverter\u001b[0m \u001b[0;34m!=\u001b[0m \u001b[0mconverter\u001b[0m\u001b[0;34m\u001b[0m\u001b[0;34m\u001b[0m\u001b[0m\n\u001b[1;32m   1448\u001b[0m         \u001b[0mself\u001b[0m\u001b[0;34m.\u001b[0m\u001b[0mconverter\u001b[0m \u001b[0;34m=\u001b[0m \u001b[0mconverter\u001b[0m\u001b[0;34m\u001b[0m\u001b[0;34m\u001b[0m\u001b[0m\n\u001b[0;32m-> 1449\u001b[0;31m         \u001b[0mdefault\u001b[0m \u001b[0;34m=\u001b[0m \u001b[0mself\u001b[0m\u001b[0;34m.\u001b[0m\u001b[0mconverter\u001b[0m\u001b[0;34m.\u001b[0m\u001b[0mdefault_units\u001b[0m\u001b[0;34m(\u001b[0m\u001b[0mdata\u001b[0m\u001b[0;34m,\u001b[0m \u001b[0mself\u001b[0m\u001b[0;34m)\u001b[0m\u001b[0;34m\u001b[0m\u001b[0;34m\u001b[0m\u001b[0m\n\u001b[0m\u001b[1;32m   1450\u001b[0m         \u001b[0;32mif\u001b[0m \u001b[0mdefault\u001b[0m \u001b[0;32mis\u001b[0m \u001b[0;32mnot\u001b[0m \u001b[0;32mNone\u001b[0m \u001b[0;32mand\u001b[0m \u001b[0mself\u001b[0m\u001b[0;34m.\u001b[0m\u001b[0munits\u001b[0m \u001b[0;32mis\u001b[0m \u001b[0;32mNone\u001b[0m\u001b[0;34m:\u001b[0m\u001b[0;34m\u001b[0m\u001b[0;34m\u001b[0m\u001b[0m\n\u001b[1;32m   1451\u001b[0m             \u001b[0mself\u001b[0m\u001b[0;34m.\u001b[0m\u001b[0mset_units\u001b[0m\u001b[0;34m(\u001b[0m\u001b[0mdefault\u001b[0m\u001b[0;34m)\u001b[0m\u001b[0;34m\u001b[0m\u001b[0;34m\u001b[0m\u001b[0m\n",
      "\u001b[0;32m~/.local/lib/python3.7/site-packages/matplotlib/category.py\u001b[0m in \u001b[0;36mdefault_units\u001b[0;34m(data, axis)\u001b[0m\n\u001b[1;32m    114\u001b[0m         \u001b[0;31m# the conversion call stack is default_units -> axis_info -> convert\u001b[0m\u001b[0;34m\u001b[0m\u001b[0;34m\u001b[0m\u001b[0;34m\u001b[0m\u001b[0m\n\u001b[1;32m    115\u001b[0m         \u001b[0;32mif\u001b[0m \u001b[0maxis\u001b[0m\u001b[0;34m.\u001b[0m\u001b[0munits\u001b[0m \u001b[0;32mis\u001b[0m \u001b[0;32mNone\u001b[0m\u001b[0;34m:\u001b[0m\u001b[0;34m\u001b[0m\u001b[0;34m\u001b[0m\u001b[0m\n\u001b[0;32m--> 116\u001b[0;31m             \u001b[0maxis\u001b[0m\u001b[0;34m.\u001b[0m\u001b[0mset_units\u001b[0m\u001b[0;34m(\u001b[0m\u001b[0mUnitData\u001b[0m\u001b[0;34m(\u001b[0m\u001b[0mdata\u001b[0m\u001b[0;34m)\u001b[0m\u001b[0;34m)\u001b[0m\u001b[0;34m\u001b[0m\u001b[0;34m\u001b[0m\u001b[0m\n\u001b[0m\u001b[1;32m    117\u001b[0m         \u001b[0;32melse\u001b[0m\u001b[0;34m:\u001b[0m\u001b[0;34m\u001b[0m\u001b[0;34m\u001b[0m\u001b[0m\n\u001b[1;32m    118\u001b[0m             \u001b[0maxis\u001b[0m\u001b[0;34m.\u001b[0m\u001b[0munits\u001b[0m\u001b[0;34m.\u001b[0m\u001b[0mupdate\u001b[0m\u001b[0;34m(\u001b[0m\u001b[0mdata\u001b[0m\u001b[0;34m)\u001b[0m\u001b[0;34m\u001b[0m\u001b[0;34m\u001b[0m\u001b[0m\n",
      "\u001b[0;32m~/.local/lib/python3.7/site-packages/matplotlib/category.py\u001b[0m in \u001b[0;36m__init__\u001b[0;34m(self, data)\u001b[0m\n\u001b[1;32m    190\u001b[0m         \u001b[0mself\u001b[0m\u001b[0;34m.\u001b[0m\u001b[0m_counter\u001b[0m \u001b[0;34m=\u001b[0m \u001b[0mitertools\u001b[0m\u001b[0;34m.\u001b[0m\u001b[0mcount\u001b[0m\u001b[0;34m(\u001b[0m\u001b[0;34m)\u001b[0m\u001b[0;34m\u001b[0m\u001b[0;34m\u001b[0m\u001b[0m\n\u001b[1;32m    191\u001b[0m         \u001b[0;32mif\u001b[0m \u001b[0mdata\u001b[0m \u001b[0;32mis\u001b[0m \u001b[0;32mnot\u001b[0m \u001b[0;32mNone\u001b[0m\u001b[0;34m:\u001b[0m\u001b[0;34m\u001b[0m\u001b[0;34m\u001b[0m\u001b[0m\n\u001b[0;32m--> 192\u001b[0;31m             \u001b[0mself\u001b[0m\u001b[0;34m.\u001b[0m\u001b[0mupdate\u001b[0m\u001b[0;34m(\u001b[0m\u001b[0mdata\u001b[0m\u001b[0;34m)\u001b[0m\u001b[0;34m\u001b[0m\u001b[0;34m\u001b[0m\u001b[0m\n\u001b[0m\u001b[1;32m    193\u001b[0m \u001b[0;34m\u001b[0m\u001b[0m\n\u001b[1;32m    194\u001b[0m     \u001b[0;34m@\u001b[0m\u001b[0mstaticmethod\u001b[0m\u001b[0;34m\u001b[0m\u001b[0;34m\u001b[0m\u001b[0m\n",
      "\u001b[0;32m~/.local/lib/python3.7/site-packages/matplotlib/category.py\u001b[0m in \u001b[0;36mupdate\u001b[0;34m(self, data)\u001b[0m\n\u001b[1;32m    225\u001b[0m         \u001b[0;32mfor\u001b[0m \u001b[0mval\u001b[0m \u001b[0;32min\u001b[0m \u001b[0mOrderedDict\u001b[0m\u001b[0;34m.\u001b[0m\u001b[0mfromkeys\u001b[0m\u001b[0;34m(\u001b[0m\u001b[0mdata\u001b[0m\u001b[0;34m)\u001b[0m\u001b[0;34m:\u001b[0m\u001b[0;34m\u001b[0m\u001b[0;34m\u001b[0m\u001b[0m\n\u001b[1;32m    226\u001b[0m             \u001b[0;31m# OrderedDict just iterates over unique values in data.\u001b[0m\u001b[0;34m\u001b[0m\u001b[0;34m\u001b[0m\u001b[0;34m\u001b[0m\u001b[0m\n\u001b[0;32m--> 227\u001b[0;31m             \u001b[0m_api\u001b[0m\u001b[0;34m.\u001b[0m\u001b[0mcheck_isinstance\u001b[0m\u001b[0;34m(\u001b[0m\u001b[0;34m(\u001b[0m\u001b[0mstr\u001b[0m\u001b[0;34m,\u001b[0m \u001b[0mbytes\u001b[0m\u001b[0;34m)\u001b[0m\u001b[0;34m,\u001b[0m \u001b[0mvalue\u001b[0m\u001b[0;34m=\u001b[0m\u001b[0mval\u001b[0m\u001b[0;34m)\u001b[0m\u001b[0;34m\u001b[0m\u001b[0;34m\u001b[0m\u001b[0m\n\u001b[0m\u001b[1;32m    228\u001b[0m             \u001b[0;32mif\u001b[0m \u001b[0mconvertible\u001b[0m\u001b[0;34m:\u001b[0m\u001b[0;34m\u001b[0m\u001b[0;34m\u001b[0m\u001b[0m\n\u001b[1;32m    229\u001b[0m                 \u001b[0;31m# this will only be called so long as convertible is True.\u001b[0m\u001b[0;34m\u001b[0m\u001b[0;34m\u001b[0m\u001b[0;34m\u001b[0m\u001b[0m\n",
      "\u001b[0;32m~/.local/lib/python3.7/site-packages/matplotlib/_api/__init__.py\u001b[0m in \u001b[0;36mcheck_isinstance\u001b[0;34m(_types, **kwargs)\u001b[0m\n\u001b[1;32m     96\u001b[0m                     \u001b[0;34m\", \"\u001b[0m\u001b[0;34m.\u001b[0m\u001b[0mjoin\u001b[0m\u001b[0;34m(\u001b[0m\u001b[0mnames\u001b[0m\u001b[0;34m[\u001b[0m\u001b[0;34m:\u001b[0m\u001b[0;34m-\u001b[0m\u001b[0;36m1\u001b[0m\u001b[0;34m]\u001b[0m\u001b[0;34m)\u001b[0m \u001b[0;34m+\u001b[0m \u001b[0;34m\" or \"\u001b[0m \u001b[0;34m+\u001b[0m \u001b[0mnames\u001b[0m\u001b[0;34m[\u001b[0m\u001b[0;34m-\u001b[0m\u001b[0;36m1\u001b[0m\u001b[0;34m]\u001b[0m\u001b[0;34m\u001b[0m\u001b[0;34m\u001b[0m\u001b[0m\n\u001b[1;32m     97\u001b[0m                     \u001b[0;32mif\u001b[0m \u001b[0mlen\u001b[0m\u001b[0;34m(\u001b[0m\u001b[0mnames\u001b[0m\u001b[0;34m)\u001b[0m \u001b[0;34m>\u001b[0m \u001b[0;36m1\u001b[0m \u001b[0;32melse\u001b[0m \u001b[0mnames\u001b[0m\u001b[0;34m[\u001b[0m\u001b[0;36m0\u001b[0m\u001b[0;34m]\u001b[0m\u001b[0;34m,\u001b[0m\u001b[0;34m\u001b[0m\u001b[0;34m\u001b[0m\u001b[0m\n\u001b[0;32m---> 98\u001b[0;31m                     type_name(type(v))))\n\u001b[0m\u001b[1;32m     99\u001b[0m \u001b[0;34m\u001b[0m\u001b[0m\n\u001b[1;32m    100\u001b[0m \u001b[0;34m\u001b[0m\u001b[0m\n",
      "\u001b[0;31mTypeError\u001b[0m: 'value' must be an instance of str or bytes, not a float"
     ]
    },
    {
     "data": {
      "image/png": "[encoded data removed]",
      "text/plain": [
       "<Figure size 1000x600 with 1 Axes>"
      ]
     },
     "metadata": {},
     "output_type": "display_data"
    }
   ],
   "source": [
    "\n",
    "\n",
    "# Plot neighborhood group ratings\n",
    "plt.figure(figsize=(10, 6))\n",
    "plt.bar(gold_pandas[\"neighbourhood_group\"], gold_pandas[\"ng_rating_avg\"], color='skyblue')\n",
    "plt.title(\"Average Ratings by Neighbourhood Group\", fontsize=16)\n",
    "plt.xlabel(\"Neighbourhood Group\", fontsize=12)\n",
    "plt.ylabel(\"Average Rating\", fontsize=12)\n",
    "plt.xticks(rotation=45)\n",
    "plt.tight_layout()\n",
    "plt.show()"
   ]
  },
  {
   "cell_type": "code",
   "execution_count": null,
   "id": "77c1a282",
   "metadata": {
    "executionInfo": {
     "elapsed": 746,
     "status": "ok",
     "timestamp": 1738058758973,
     "user": {
      "displayName": "Javier Alhambra",
      "userId": "08990227891354213622"
     },
     "user_tz": -60
    },
    "id": "y7REwrd-ktLE",
    "jupyter": {
     "source_hidden": true
    },
    "papermill": {
     "duration": null,
     "end_time": null,
     "exception": null,
     "start_time": null,
     "status": "pending"
    },
    "tags": []
   },
   "outputs": [],
   "source": [
    "# Close the Spark session when done\n",
    "spark.stop()"
   ]
  }
 ],
 "metadata": {
  "colab": {
   "authorship_tag": "ABX9TyN1EN8dnSqTTdVAXW39wxP4",
   "mount_file_id": "1lnQuIobpSLT_sI6soZy_dxlKVVpJXlAT",
   "provenance": []
  },
  "kernelspec": {
   "display_name": "Python 3 (ipykernel)",
   "language": "python",
   "name": "python3"
  },
  "language_info": {
   "codemirror_mode": {
    "name": "ipython",
    "version": 3
   },
   "file_extension": ".py",
   "mimetype": "text/x-python",
   "name": "python",
   "nbconvert_exporter": "python",
   "pygments_lexer": "ipython3",
   "version": "3.11.6"
  },
  "papermill": {
   "default_parameters": {},
   "duration": 48.114204,
   "end_time": "2025-01-28T18:25:25.471791",
   "environment_variables": {},
   "exception": true,
   "input_path": "/opt/airflow/airbnb_project/notebooks/main.ipynb",
   "output_path": "/opt/airflow/airbnb_project/notebooks/main_output_4.ipynb",
   "parameters": {},
   "start_time": "2025-01-28T18:24:37.357587",
   "version": "2.4.0"
  }
 },
 "nbformat": 4,
 "nbformat_minor": 5
}
