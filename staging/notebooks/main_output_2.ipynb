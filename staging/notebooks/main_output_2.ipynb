{
 "cells": [
  {
   "cell_type": "markdown",
   "id": "ef9ae351",
   "metadata": {
    "id": "ExGZystyH3gw",
    "papermill": {
     "duration": 0.022339,
     "end_time": "2025-01-28T12:34:41.249128",
     "exception": false,
     "start_time": "2025-01-28T12:34:41.226789",
     "status": "completed"
    },
    "tags": []
   },
   "source": [
    "# Location"
   ]
  },
  {
   "cell_type": "code",
   "execution_count": 1,
   "id": "238d4275",
   "metadata": {
    "execution": {
     "iopub.execute_input": "2025-01-28T12:34:41.297582Z",
     "iopub.status.busy": "2025-01-28T12:34:41.297248Z",
     "iopub.status.idle": "2025-01-28T12:34:41.524666Z",
     "shell.execute_reply": "2025-01-28T12:34:41.522996Z"
    },
    "jupyter": {
     "source_hidden": true
    },
    "papermill": {
     "duration": 0.2451,
     "end_time": "2025-01-28T12:34:41.527114",
     "exception": false,
     "start_time": "2025-01-28T12:34:41.282014",
     "status": "completed"
    },
    "tags": []
   },
   "outputs": [
    {
     "name": "stdout",
     "output_type": "stream",
     "text": [
      "total 84\r\n",
      "drwxrwxr-x 1 airflow root  4096 Jan 28 12:33 \u001b[0m\u001b[01;34m.\u001b[0m/\r\n",
      "drwxr-xr-x 1 root    root  4096 Apr 30  2023 \u001b[01;34m..\u001b[0m/\r\n",
      "drwxr-xr-x 5 root    root  4096 Jan 28 12:33 \u001b[01;34mairbnb_project\u001b[0m/\r\n",
      "-rw------- 1 airflow root 58123 Jan 28 12:33 airflow.cfg\r\n",
      "drwxrwxrwx 1 root    root  4096 Jan 26 21:55 \u001b[34;42mdags\u001b[0m/\r\n",
      "drwxrwxrwx 1 root    root  4096 Jan 26 21:54 \u001b[34;42mlogs\u001b[0m/\r\n",
      "-rw-rw-r-- 1 airflow root  4771 Jan 28 12:33 webserver_config.py\r\n"
     ]
    }
   ],
   "source": [
    "ls -la"
   ]
  },
  {
   "cell_type": "code",
   "execution_count": 2,
   "id": "5c5da37f",
   "metadata": {
    "colab": {
     "base_uri": "https://localhost:8080/"
    },
    "execution": {
     "iopub.execute_input": "2025-01-28T12:34:41.561251Z",
     "iopub.status.busy": "2025-01-28T12:34:41.560974Z",
     "iopub.status.idle": "2025-01-28T12:34:41.569524Z",
     "shell.execute_reply": "2025-01-28T12:34:41.567987Z"
    },
    "executionInfo": {
     "elapsed": 207,
     "status": "ok",
     "timestamp": 1738058477377,
     "user": {
      "displayName": "Javier Alhambra",
      "userId": "08990227891354213622"
     },
     "user_tz": -60
    },
    "id": "m2-unRUWJ60N",
    "jupyter": {
     "source_hidden": true
    },
    "outputId": "e0295655-5ee9-4bfd-bcbe-5fbffeee82c1",
    "papermill": {
     "duration": 0.036125,
     "end_time": "2025-01-28T12:34:41.571538",
     "exception": false,
     "start_time": "2025-01-28T12:34:41.535413",
     "status": "completed"
    },
    "tags": []
   },
   "outputs": [
    {
     "name": "stdout",
     "output_type": "stream",
     "text": [
      "Current directory: /opt/airflow/airbnb_project/src\n"
     ]
    }
   ],
   "source": [
    "import os\n",
    "\n",
    "# In Colab, the notebook is mounted in Google Drive at '/content'\n",
    "\n",
    "# Try to detect the environment dynamically\n",
    "if 'COLAB_GPU' in os.environ:  # Check if running in Colab\n",
    "    # Colab path where the notebook is located\n",
    "    notebook_directory = '/content/drive/MyDrive/airbnb_project/notebooks/'\n",
    "elif os.path.exists('/airbnb_project/notebooks'):  # Check if running in Docker\n",
    "    # Docker path where the notebook is located\n",
    "    notebook_directory = '/airbnb_project/notebooks/'\n",
    "else:\n",
    "    # Default fallback if not in either environment\n",
    "    os.chdir('./airbnb_project/src')\n",
    "    notebook_directory = os.getcwd()\n",
    "\n",
    "# Change the current working directory to the notebook's location\n",
    "os.chdir(notebook_directory)\n",
    "\n",
    "# Verify the current directory\n",
    "print(\"Current directory:\", os.getcwd())\n"
   ]
  },
  {
   "cell_type": "markdown",
   "id": "45c286c1",
   "metadata": {
    "id": "BX4uMNgPLfAG",
    "papermill": {
     "duration": 0.02219,
     "end_time": "2025-01-28T12:34:41.605435",
     "exception": false,
     "start_time": "2025-01-28T12:34:41.583245",
     "status": "completed"
    },
    "tags": []
   },
   "source": [
    "# Libraries"
   ]
  },
  {
   "cell_type": "code",
   "execution_count": 3,
   "id": "b1cac7b6",
   "metadata": {
    "execution": {
     "iopub.execute_input": "2025-01-28T12:34:41.657638Z",
     "iopub.status.busy": "2025-01-28T12:34:41.657365Z",
     "iopub.status.idle": "2025-01-28T12:34:41.871385Z",
     "shell.execute_reply": "2025-01-28T12:34:41.870353Z"
    },
    "jupyter": {
     "source_hidden": true
    },
    "papermill": {
     "duration": 0.242434,
     "end_time": "2025-01-28T12:34:41.873217",
     "exception": false,
     "start_time": "2025-01-28T12:34:41.630783",
     "status": "completed"
    },
    "tags": []
   },
   "outputs": [
    {
     "name": "stdout",
     "output_type": "stream",
     "text": [
      "total 16\r\n",
      "drwxrwxrwx 1 root root 4096 Jan 28 11:39 \u001b[0m\u001b[34;42m.\u001b[0m/\r\n",
      "drwxr-xr-x 5 root root 4096 Jan 28 12:33 \u001b[01;34m..\u001b[0m/\r\n",
      "drwxrwxrwx 1 root root 4096 Jan 28 11:29 \u001b[34;42m__pycache__\u001b[0m/\r\n",
      "-rwxrwxrwx 1 root root 1577 Jan 28 11:29 \u001b[01;32metl_pipeline.py\u001b[0m*\r\n",
      "-rwxrwxrwx 1 root root  586 Jan 28 11:29 \u001b[01;32mtransformations.py\u001b[0m*\r\n",
      "-rwxrwxrwx 1 root root  513 Jan 28 11:29 \u001b[01;32mtransformations.zip\u001b[0m*\r\n"
     ]
    }
   ],
   "source": [
    "ls -la"
   ]
  }
 ],
 "metadata": {
  "colab": {
   "authorship_tag": "ABX9TyN1EN8dnSqTTdVAXW39wxP4",
   "mount_file_id": "1lnQuIobpSLT_sI6soZy_dxlKVVpJXlAT",
   "provenance": []
  },
  "kernelspec": {
   "display_name": "Python 3",
   "name": "python3"
  },
  "language_info": {
   "codemirror_mode": {
    "name": "ipython",
    "version": 3
   },
   "file_extension": ".py",
   "mimetype": "text/x-python",
   "name": "python",
   "nbconvert_exporter": "python",
   "pygments_lexer": "ipython3",
   "version": "3.7.16"
  },
  "papermill": {
   "default_parameters": {},
   "duration": 2.36902,
   "end_time": "2025-01-28T12:34:42.099790",
   "environment_variables": {},
   "exception": null,
   "input_path": "/opt/airflow/airbnb_project/notebooks/main_2.ipynb",
   "output_path": "/opt/airflow/airbnb_project/notebooks/main_output_2.ipynb",
   "parameters": {},
   "start_time": "2025-01-28T12:34:39.730770",
   "version": "2.4.0"
  }
 },
 "nbformat": 4,
 "nbformat_minor": 5
}