{
 "cells": [
  {
   "cell_type": "code",
   "execution_count": 1,
   "metadata": {
    "colab": {
     "base_uri": "https://localhost:8080/"
    },
    "executionInfo": {
     "elapsed": 297,
     "status": "ok",
     "timestamp": 1737838344521,
     "user": {
      "displayName": "Javier Alhambra",
      "userId": "08990227891354213622"
     },
     "user_tz": -60
    },
    "id": "BAsucr_QPKTB",
    "outputId": "ce6674f0-91f8-4d4d-e1e4-c148774b08aa"
   },
   "outputs": [
    {
     "name": "stdout",
     "output_type": "stream",
     "text": [
      "hola\n"
     ]
    }
   ],
   "source": [
    "print('hola') #popeye"
   ]
  }
 ],
 "metadata": {
  "colab": {
   "authorship_tag": "ABX9TyOSHwUTlReZBVuSXI4faFug",
   "mount_file_id": "1qStvsCXHRV2eVnAD-pu7dWfOU8Yj07jv",
   "provenance": []
  },
  "kernelspec": {
   "display_name": "Python 3",
   "name": "python3"
  },
  "language_info": {
   "name": "python"
  }
 },
 "nbformat": 4,
 "nbformat_minor": 0
}
