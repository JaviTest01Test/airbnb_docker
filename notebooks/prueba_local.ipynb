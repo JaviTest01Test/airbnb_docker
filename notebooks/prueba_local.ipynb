{
 "cells": [
  {
   "cell_type": "markdown",
   "metadata": {
    "id": "ExGZystyH3gw"
   },
   "source": [
    "# Location"
   ]
  },
  {
   "cell_type": "code",
   "execution_count": 1,
   "metadata": {
    "colab": {
     "base_uri": "https://localhost:8080/"
    },
    "executionInfo": {
     "elapsed": 220,
     "status": "ok",
     "timestamp": 1737803857970,
     "user": {
      "displayName": "Javier Alhambra",
      "userId": "08990227891354213622"
     },
     "user_tz": -60
    },
    "id": "m2-unRUWJ60N",
    "outputId": "c15f7d82-1730-4d15-8aff-766e2d0f8c6c"
   },
   "outputs": [
    {
     "name": "stdout",
     "output_type": "stream",
     "text": [
      "Current directory: /airbnb_project/notebooks\n"
     ]
    }
   ],
   "source": [
    "import os\n",
    "\n",
    "# In Colab, the notebook is mounted in Google Drive at '/content'\n",
    "\n",
    "# Try to detect the environment dynamically\n",
    "if 'COLAB_GPU' in os.environ:  # Check if running in Colab\n",
    "    # Colab path where the notebook is located\n",
    "    notebook_directory = '/content/drive/MyDrive/airbnb_project/notebooks/'\n",
    "elif os.path.exists('/airbnb_project/notebooks'):  # Check if running in Docker\n",
    "    # Docker path where the notebook is located\n",
    "    notebook_directory = '/airbnb_project/notebooks/'\n",
    "else:\n",
    "    # Default fallback if not in either environment\n",
    "    notebook_directory = os.getcwd()\n",
    "\n",
    "# Change the current working directory to the notebook's location\n",
    "os.chdir(notebook_directory)\n",
    "\n",
    "# Verify the current directory\n",
    "print(\"Current directory:\", os.getcwd())\n"
   ]
  },
  {
   "cell_type": "code",
   "execution_count": 2,
   "metadata": {},
   "outputs": [
    {
     "name": "stdout",
     "output_type": "stream",
     "text": [
      "hola\n"
     ]
    }
   ],
   "source": [
    "print(\"hola\")"
   ]
  },
  {
   "cell_type": "markdown",
   "metadata": {
    "id": "BX4uMNgPLfAG"
   },
   "source": [
    "# Libraries"
   ]
  },
  {
   "cell_type": "code",
   "execution_count": null,
   "metadata": {
    "id": "UchUkmJNkdNc"
   },
   "outputs": [],
   "source": [
    "import sys\n",
    "sys.path.append('../src')"
   ]
  },
  {
   "cell_type": "code",
   "execution_count": null,
   "metadata": {
    "colab": {
     "base_uri": "https://localhost:8080/"
    },
    "executionInfo": {
     "elapsed": 2635,
     "status": "ok",
     "timestamp": 1737804036288,
     "user": {
      "displayName": "Javier Alhambra",
      "userId": "08990227891354213622"
     },
     "user_tz": -60
    },
    "id": "i2rLdgBGIP_p",
    "outputId": "24fb7eba-5537-4a02-ea1b-de8d54a8ad27"
   },
   "outputs": [
    {
     "name": "stdout",
     "output_type": "stream",
     "text": [
      "Requirement already satisfied: pyspark in /usr/local/lib/python3.11/dist-packages (3.5.4)\n",
      "Requirement already satisfied: py4j==0.10.9.7 in /usr/local/lib/python3.11/dist-packages (from pyspark) (0.10.9.7)\n"
     ]
    }
   ],
   "source": [
    "# Install PySpark\n",
    "%pip install pyspark\n",
    "\n",
    "import sys\n",
    "import pandas as pd\n",
    "from pyspark.sql import SparkSession\n",
    "from pyspark.sql.types import StructType, StructField, StringType, DoubleType, DateType, LongType\n",
    "import pyspark.sql.functions as F\n",
    "from pyspark.sql.functions import col, to_date, when, date_format\n",
    "from pyspark.sql.functions import avg, count\n",
    "import matplotlib.pyplot as plt\n",
    "from pyspark.sql.functions import udf\n",
    "from transformations import format_date"
   ]
  },
  {
   "cell_type": "markdown",
   "metadata": {
    "id": "S4Vu55EFlUKO"
   },
   "source": [
    "# Locating files"
   ]
  },
  {
   "cell_type": "code",
   "execution_count": null,
   "metadata": {
    "id": "Jdqd9a2vH4iN"
   },
   "outputs": [],
   "source": [
    "# Upload XLSX\n",
    "df = pd.read_excel('../datasets/listings_details.xlsx')\n"
   ]
  },
  {
   "cell_type": "markdown",
   "metadata": {
    "id": "bDJp2yxHp0vE"
   },
   "source": [
    "The files are xlsx but Spark is designed works better with csv. So xlsx will be converted into csv"
   ]
  },
  {
   "cell_type": "code",
   "execution_count": null,
   "metadata": {
    "id": "FPqhQ4VrqIUn"
   },
   "outputs": [],
   "source": [
    "# Upload XLSX\n",
    "df = pd.read_excel('../datasets/listings_details.xlsx')\n",
    "\n",
    "# Replace line breaks with spaces\n",
    "df = df.replace({r'[\\n\\r]+': ' '}, regex=True)\n",
    "\n",
    "# Replace \" with '\n",
    "df = df.replace({r'\"': \"'\"}, regex=True)\n",
    "\n",
    "# Save CSV\n",
    "df.to_csv('../datasets/listings_details.csv', index=False, quotechar='\"')"
   ]
  },
  {
   "cell_type": "code",
   "execution_count": null,
   "metadata": {
    "id": "YtJwQs9jYaWC"
   },
   "outputs": [],
   "source": [
    "# Upload XLSX\n",
    "df2 = pd.read_excel('../datasets/neighbourhoods.xlsx')\n",
    "\n",
    "# Replace line breaks with spaces\n",
    "df2 = df2.replace({r'[\\n\\r]+': ' '}, regex=True)\n",
    "\n",
    "# Save CSV\n",
    "df2.to_csv('../datasets/neighbourhoods.csv', index=False)"
   ]
  },
  {
   "cell_type": "markdown",
   "metadata": {
    "id": "_4vyJGFoli3M"
   },
   "source": [
    "# PART 1: Landing Zone"
   ]
  },
  {
   "cell_type": "code",
   "execution_count": null,
   "metadata": {
    "id": "PG1iXNG4liec"
   },
   "outputs": [],
   "source": [
    "# Create a Spark session\n",
    "spark = SparkSession.builder \\\n",
    "    .appName(\"MedallionArchitecture\") \\\n",
    "    .getOrCreate()"
   ]
  },
  {
   "cell_type": "code",
   "execution_count": null,
   "metadata": {
    "id": "f4PsLQGcoUHr"
   },
   "outputs": [],
   "source": [
    "# Define the columns you need\n",
    "columns_needed = [\"id\", \"listing_url\", \"host_id\", \"neighbourhood\",\n",
    "                  \"neighbourhood_cleansed\", \"number_of_reviews\",\n",
    "                  \"review_scores_rating\", \"last_review\"]\n",
    "\n",
    "# Read listings_details.csv\n",
    "listings_details = spark.read.option(\"header\", True)\\\n",
    "  .csv(\"../datasets/listings_details.csv\")\n",
    "\n",
    "# Select only the necessary columns\n",
    "listings_details = listings_details.select(*columns_needed)\n",
    "\n",
    "# Apply the schema\n",
    "listings_details = listings_details\\\n",
    "  .withColumn('id', F.col('id').cast(LongType()))\\\n",
    "  .withColumn('number_of_reviews', F.col('number_of_reviews').cast(DoubleType()))\\\n",
    "  .withColumn('review_scores_rating', F.col('review_scores_rating').cast(DoubleType()))\n",
    "  #.withColumn('last_review', F.col('last_review').cast(DateType()))\n",
    "\n",
    "# Read neighbourhoods.csv\n",
    "neighbourhoods = spark.read.option(\"header\", True)\\\n",
    "  .csv(\"../datasets/neighbourhoods.csv\")"
   ]
  },
  {
   "cell_type": "code",
   "execution_count": null,
   "metadata": {
    "colab": {
     "base_uri": "https://localhost:8080/"
    },
    "executionInfo": {
     "elapsed": 199,
     "status": "ok",
     "timestamp": 1737804151007,
     "user": {
      "displayName": "Javier Alhambra",
      "userId": "08990227891354213622"
     },
     "user_tz": -60
    },
    "id": "KL6ARxWX7au6",
    "outputId": "ef59a828-b1bc-43a0-df3d-84396c3dc4f3"
   },
   "outputs": [
    {
     "name": "stdout",
     "output_type": "stream",
     "text": [
      "root\n",
      " |-- id: long (nullable = true)\n",
      " |-- listing_url: string (nullable = true)\n",
      " |-- host_id: string (nullable = true)\n",
      " |-- neighbourhood: string (nullable = true)\n",
      " |-- neighbourhood_cleansed: string (nullable = true)\n",
      " |-- number_of_reviews: double (nullable = true)\n",
      " |-- review_scores_rating: double (nullable = true)\n",
      " |-- last_review: string (nullable = true)\n",
      "\n"
     ]
    }
   ],
   "source": [
    "# Print the schema of the DataFrame\n",
    "listings_details.printSchema()"
   ]
  },
  {
   "cell_type": "code",
   "execution_count": null,
   "metadata": {
    "colab": {
     "base_uri": "https://localhost:8080/"
    },
    "executionInfo": {
     "elapsed": 1135,
     "status": "ok",
     "timestamp": 1737804155190,
     "user": {
      "displayName": "Javier Alhambra",
      "userId": "08990227891354213622"
     },
     "user_tz": -60
    },
    "id": "VMxWMDJOrTps",
    "outputId": "0a8fa186-91f0-47bc-f34f-a9a74bb5a803"
   },
   "outputs": [
    {
     "name": "stdout",
     "output_type": "stream",
     "text": [
      "+------+--------------------+-------+--------------------+----------------------+-----------------+--------------------+-----------+\n",
      "|    id|         listing_url|host_id|       neighbourhood|neighbourhood_cleansed|number_of_reviews|review_scores_rating|last_review|\n",
      "+------+--------------------+-------+--------------------+----------------------+-----------------+--------------------+-----------+\n",
      "| 73282|https://www.airbn...| 377532|                NULL|              Sihlfeld|             47.0|                4.78| 2019-04-27|\n",
      "|143821|https://www.airbn...| 697307|                NULL|          Alt-Wiedikon|              0.0|                NULL|       NULL|\n",
      "|178448|https://www.airbn...| 854016| Zurich, Switzerland|                  Enge|              9.0|                4.89| 2016-05-10|\n",
      "|204586|https://www.airbn...|1004816|                NULL|                 Höngg|              0.0|                NULL|       NULL|\n",
      "|227039|https://www.airbn...|1184427|Zurich, Canton of...|           Escher Wyss|             31.0|                4.97| 2023-08-22|\n",
      "+------+--------------------+-------+--------------------+----------------------+-----------------+--------------------+-----------+\n",
      "only showing top 5 rows\n",
      "\n"
     ]
    }
   ],
   "source": [
    "# Show the first 5 rows\n",
    "listings_details.show(5)"
   ]
  },
  {
   "cell_type": "code",
   "execution_count": null,
   "metadata": {
    "id": "sLd8EBuRryq3"
   },
   "outputs": [],
   "source": [
    "# If exists, delete directory structure\n",
    "! rm -rf \"../tables\""
   ]
  },
  {
   "cell_type": "code",
   "execution_count": null,
   "metadata": {
    "id": "zGitxt0psHxK"
   },
   "outputs": [],
   "source": [
    "# Create directory structure\n",
    "! mkdir \"../tables\"\n",
    "! mkdir \"../tables/bronze\"\n",
    "! mkdir \"../tables/silver\"\n",
    "! mkdir \"../tables/gold\""
   ]
  },
  {
   "cell_type": "markdown",
   "metadata": {
    "id": "rc6yASbfsTh7"
   },
   "source": [
    "# PART 2: Bronze Layer"
   ]
  },
  {
   "cell_type": "code",
   "execution_count": null,
   "metadata": {
    "id": "z9Flpd8zsTRx"
   },
   "outputs": [],
   "source": [
    "# Write raw data to Bronze layer in Parquet format\n",
    "\n",
    "# Bronze paths\n",
    "bronze_path = \"../tables\"\n",
    "layer = \"bronze\"\n",
    "listings_filename = \"bronze_listings_details\"\n",
    "neighbourhoods_filename = \"neighbourhoods\"\n",
    "\n",
    "\n",
    "bronze_listing_output_file = \"{path}/{layer}/{filename}\".format(path=bronze_path, layer=layer, filename=listings_filename)\n",
    "listings_details.write.mode( \"overwrite\" ).parquet(bronze_listing_output_file)\n",
    "\n",
    "bronze_neighbourhoods_output_file = \"{path}/{layer}/{filename}\".format(path=bronze_path, layer=layer, filename=neighbourhoods_filename)\n",
    "neighbourhoods.write.mode( \"overwrite\" ).parquet(bronze_neighbourhoods_output_file)"
   ]
  },
  {
   "cell_type": "markdown",
   "metadata": {
    "id": "5jS82gP8w3ML"
   },
   "source": [
    "# PART 3: Silver Layer"
   ]
  },
  {
   "cell_type": "code",
   "execution_count": null,
   "metadata": {
    "id": "jODzTALhYIvy"
   },
   "outputs": [],
   "source": [
    "# Silver paths\n",
    "silver_listing_input_file = bronze_listing_output_file\n",
    "silver_neighbourhoods_input_file = bronze_neighbourhoods_output_file\n",
    "\n",
    "# Load Bronze data\n",
    "bronze_listingsDF = spark.read.parquet(silver_listing_input_file)\n",
    "bronze_neighbourhoodsDF = spark.read.parquet(silver_neighbourhoods_input_file)"
   ]
  },
  {
   "cell_type": "code",
   "execution_count": null,
   "metadata": {
    "id": "2V5MfUUOvGdv"
   },
   "outputs": [],
   "source": [
    "# add Python file to the PySpark context, which makes it available on all worker nodes of the Spark cluster when running distributed operations.\n",
    "spark.sparkContext.addPyFile('../src/transformations.zip')"
   ]
  },
  {
   "cell_type": "code",
   "execution_count": null,
   "metadata": {
    "id": "wJirr4LCq7-q"
   },
   "outputs": [],
   "source": [
    "# Register the function as a UDF so that it can be executed in each partition of the cluster\n",
    "format_date_udf = udf(format_date, StringType())"
   ]
  },
  {
   "cell_type": "code",
   "execution_count": null,
   "metadata": {
    "id": "iYvj3DXqw27K"
   },
   "outputs": [],
   "source": [
    "# Join datasets and create new fields\n",
    "join_silver_listingsDF = bronze_listingsDF.join(\n",
    "    bronze_neighbourhoodsDF,\n",
    "    bronze_listingsDF[\"neighbourhood_cleansed\"] == bronze_neighbourhoodsDF[\"neighbourhood\"],\n",
    "    \"left\"\n",
    ").withColumn(\n",
    "    \"neighbourhood_group\", col(\"neighbourhood_group\")\n",
    ").withColumn(\n",
    "    \"last_review_human\", format_date_udf(col(\"last_review\"))\n",
    ").drop(\n",
    "    bronze_neighbourhoodsDF[\"neighbourhood\"]\n",
    ")\n"
   ]
  },
  {
   "cell_type": "code",
   "execution_count": null,
   "metadata": {
    "colab": {
     "base_uri": "https://localhost:8080/"
    },
    "executionInfo": {
     "elapsed": 4207,
     "status": "ok",
     "timestamp": 1737804290603,
     "user": {
      "displayName": "Javier Alhambra",
      "userId": "08990227891354213622"
     },
     "user_tz": -60
    },
    "id": "8GDbdXs6WNvZ",
    "outputId": "5e029fec-ddcf-44ad-d506-84b1cb8d67bd"
   },
   "outputs": [
    {
     "name": "stdout",
     "output_type": "stream",
     "text": [
      "+------+-----------------------------------+-------+-------------------------------------+----------------------+-----------------+--------------------+-----------+-------------------+----------------------+\n",
      "|id    |listing_url                        |host_id|neighbourhood                        |neighbourhood_cleansed|number_of_reviews|review_scores_rating|last_review|neighbourhood_group|last_review_human     |\n",
      "+------+-----------------------------------+-------+-------------------------------------+----------------------+-----------------+--------------------+-----------+-------------------+----------------------+\n",
      "|73282 |https://www.airbnb.com/rooms/73282 |377532 |NULL                                 |Sihlfeld              |47.0             |4.78                |2019-04-27 |Kreis 3            |Saturday 27 April 2019|\n",
      "|143821|https://www.airbnb.com/rooms/143821|697307 |NULL                                 |Alt-Wiedikon          |0.0              |NULL                |NULL       |Kreis 3            |no review             |\n",
      "|178448|https://www.airbnb.com/rooms/178448|854016 |Zurich, Switzerland                  |Enge                  |9.0              |4.89                |2016-05-10 |Kreis 2            |Tuesday 10 May 2016   |\n",
      "|204586|https://www.airbnb.com/rooms/204586|1004816|NULL                                 |Höngg                 |0.0              |NULL                |NULL       |Kreis 10           |no review             |\n",
      "|227039|https://www.airbnb.com/rooms/227039|1184427|Zurich, Canton of Zurich, Switzerland|Escher Wyss           |31.0             |4.97                |2023-08-22 |Kreis 5            |Tuesday 22 August 2023|\n",
      "|251204|https://www.airbnb.com/rooms/251204|1224284|Zurich, Switzerland                  |Wipkingen             |1.0              |5.0                 |2022-10-03 |Kreis 10           |Monday 03 October 2022|\n",
      "|253802|https://www.airbnb.com/rooms/253802|1333119|Zurich, Switzerland                  |Lindenhof             |4.0              |5.0                 |2023-06-17 |Kreis 1            |Saturday 17 June 2023 |\n",
      "|283737|https://www.airbnb.com/rooms/283737|1477771|Zurich, Switzerland                  |Rathaus               |353.0            |4.47                |2024-06-11 |Kreis 1            |Tuesday 11 June 2024  |\n",
      "|292351|https://www.airbnb.com/rooms/292351|1513739|Zürich, Switzerland                  |Hard                  |10.0             |4.6                 |2023-07-31 |Kreis 4            |Monday 31 July 2023   |\n",
      "|310964|https://www.airbnb.com/rooms/310964|1266114|Zurich, Switzerland                  |Hochschulen           |13.0             |4.92                |2019-01-06 |Kreis 1            |Sunday 06 January 2019|\n",
      "+------+-----------------------------------+-------+-------------------------------------+----------------------+-----------------+--------------------+-----------+-------------------+----------------------+\n",
      "only showing top 10 rows\n",
      "\n"
     ]
    }
   ],
   "source": [
    "# Display all columns from the DataFrame\n",
    "join_silver_listingsDF.show(10, truncate=False)"
   ]
  },
  {
   "cell_type": "code",
   "execution_count": null,
   "metadata": {
    "id": "ujk52mYjV6hA"
   },
   "outputs": [],
   "source": [
    "# Write data to Silver layer\n",
    "silver_listings_path = \"../tables/silver/silver_listings_details\"\n",
    "join_silver_listingsDF.write.mode(\"overwrite\").parquet(silver_listings_path)"
   ]
  },
  {
   "cell_type": "markdown",
   "metadata": {
    "id": "afJk3vYE7V3e"
   },
   "source": [
    "# PART 4: Gold Layer"
   ]
  },
  {
   "cell_type": "code",
   "execution_count": null,
   "metadata": {
    "id": "rEA61VcQ_PNn"
   },
   "outputs": [],
   "source": [
    "# Load Silver data\n",
    "silver_listings = spark.read.parquet(silver_listings_path)\n",
    "\n",
    "# Calculate metrics\n",
    "id_gold_listings = silver_listings\\\n",
    "  .groupBy(\"id\").agg(\n",
    "    count(\"number_of_reviews\").alias(\"id_rating_count\"),\n",
    "    avg(\"review_scores_rating\").alias(\"id_rating_avg\"))\n",
    "\n",
    "# Join neighbourhood_group to id_gold_listings\n",
    "id_gold_listings = id_gold_listings.join(\n",
    "    silver_listings.select(\"id\", \"neighbourhood_group\"),\n",
    "    on=\"id\",\n",
    "    how=\"left\")\n",
    "\n",
    "# Calculate metrics\n",
    "group_gold_listings = silver_listings\\\n",
    "  .groupBy(\"neighbourhood_group\").agg(\n",
    "    count(\"number_of_reviews\").alias(\"ng_rating_count\"),\n",
    "    avg(\"review_scores_rating\").alias(\"ng_rating_avg\"))\n",
    "\n",
    "# Gold DF\n",
    "gold_listings = id_gold_listings.join(\n",
    "    group_gold_listings.select(\"neighbourhood_group\",\"ng_rating_count\", \"ng_rating_avg\"),\n",
    "    on=\"neighbourhood_group\",\n",
    "    how=\"left\")\n",
    "\n",
    "# Write data to Gold layer\n",
    "gold_listings_path = \"../tables/gold/dasboard_ng_ratings\"\n",
    "gold_listings.write.mode(\"overwrite\").parquet(gold_listings_path)"
   ]
  },
  {
   "cell_type": "markdown",
   "metadata": {
    "id": "LeQMzXb1G9pB"
   },
   "source": [
    "# PART 5: Presentation"
   ]
  },
  {
   "cell_type": "code",
   "execution_count": null,
   "metadata": {
    "colab": {
     "base_uri": "https://localhost:8080/",
     "height": 607
    },
    "executionInfo": {
     "elapsed": 6524,
     "status": "ok",
     "timestamp": 1737804331591,
     "user": {
      "displayName": "Javier Alhambra",
      "userId": "08990227891354213622"
     },
     "user_tz": -60
    },
    "id": "Fkcqa5sOG-IE",
    "outputId": "dd72d5f8-9feb-481e-8273-3f964035767f"
   },
   "outputs": [
    {
     "data": {
      "image/png": "[encoded data removed]",
      "text/plain": [
       "<Figure size 1000x600 with 1 Axes>"
      ]
     },
     "metadata": {},
     "output_type": "display_data"
    }
   ],
   "source": [
    "# Load Gold data\n",
    "gold_listings = spark.read.parquet(gold_listings_path)\n",
    "\n",
    "# Convert Gold data to Pandas for plotting\n",
    "gold_pandas = gold_listings.toPandas()\n",
    "\n",
    "# Define the order of the neighborhood groups\n",
    "order = ['Kreis 1', 'Kreis 2', 'Kreis 3', 'Kreis 4', 'Kreis 5', 'Kreis 6', 'Kreis 7', 'Kreis 8', 'Kreis 9', 'Kreis 10', 'Kreis 11', 'Kreis 12']\n",
    "\n",
    "# Convert the 'neighbourhood_group' column to a categorical type with the specified order\n",
    "gold_pandas['neighbourhood_group'] = pd.Categorical(gold_pandas['neighbourhood_group'], categories=order, ordered=True)\n",
    "\n",
    "\n",
    "# Sort the data by neighbourhood_group\n",
    "gold_pandas = gold_pandas.sort_values(\"neighbourhood_group\")\n",
    "\n",
    "# Export Gold data to CSV for visualization\n",
    "gold_csv_path = \"../datasets/dashboard_ng_ratings.csv\"\n",
    "gold_pandas.to_csv(gold_csv_path, index=False)\n",
    "\n",
    "# Plot neighborhood group ratings\n",
    "plt.figure(figsize=(10, 6))\n",
    "plt.bar(gold_pandas[\"neighbourhood_group\"], gold_pandas[\"ng_rating_avg\"], color='skyblue')\n",
    "plt.title(\"Average Ratings by Neighbourhood Group\", fontsize=16)\n",
    "plt.xlabel(\"Neighbourhood Group\", fontsize=12)\n",
    "plt.ylabel(\"Average Rating\", fontsize=12)\n",
    "plt.xticks(rotation=45)\n",
    "plt.tight_layout()\n",
    "plt.show()"
   ]
  }
 ],
 "metadata": {
  "colab": {
   "authorship_tag": "ABX9TyOCUV7jSjI+sBOccMmUQNGj",
   "mount_file_id": "1-C0mcvmsu9c435_aGr0VXTnSzNuLSuvh",
   "provenance": []
  },
  "kernelspec": {
   "display_name": "Python 3 (ipykernel)",
   "language": "python",
   "name": "python3"
  },
  "language_info": {
   "codemirror_mode": {
    "name": "ipython",
    "version": 3
   },
   "file_extension": ".py",
   "mimetype": "text/x-python",
   "name": "python",
   "nbconvert_exporter": "python",
   "pygments_lexer": "ipython3",
   "version": "3.12.8"
  }
 },
 "nbformat": 4,
 "nbformat_minor": 1
}
