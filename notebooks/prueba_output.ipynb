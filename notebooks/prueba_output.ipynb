{
 "cells": [
  {
   "cell_type": "code",
   "execution_count": 1,
   "id": "cf306aa9",
   "metadata": {
    "colab": {
     "base_uri": "https://localhost:8080/"
    },
    "execution": {
     "iopub.execute_input": "2025-01-26T21:16:20.277265Z",
     "iopub.status.busy": "2025-01-26T21:16:20.276903Z",
     "iopub.status.idle": "2025-01-26T21:16:20.285963Z",
     "shell.execute_reply": "2025-01-26T21:16:20.284910Z"
    },
    "executionInfo": {
     "elapsed": 297,
     "status": "ok",
     "timestamp": 1737838344521,
     "user": {
      "displayName": "Javier Alhambra",
      "userId": "08990227891354213622"
     },
     "user_tz": -60
    },
    "id": "BAsucr_QPKTB",
    "jupyter": {
     "source_hidden": true
    },
    "outputId": "ce6674f0-91f8-4d4d-e1e4-c148774b08aa",
    "papermill": {
     "duration": 0.020121,
     "end_time": "2025-01-26T21:16:20.287983",
     "exception": false,
     "start_time": "2025-01-26T21:16:20.267862",
     "status": "completed"
    },
    "tags": []
   },
   "outputs": [
    {
     "name": "stdout",
     "output_type": "stream",
     "text": [
      "hola\n"
     ]
    }
   ],
   "source": [
    "print('hola') #popeye"
   ]
  }
 ],
 "metadata": {
  "colab": {
   "authorship_tag": "ABX9TyOSHwUTlReZBVuSXI4faFug",
   "mount_file_id": "1qStvsCXHRV2eVnAD-pu7dWfOU8Yj07jv",
   "provenance": []
  },
  "kernelspec": {
   "display_name": "Python 3",
   "name": "python3"
  },
  "language_info": {
   "codemirror_mode": {
    "name": "ipython",
    "version": 3
   },
   "file_extension": ".py",
   "mimetype": "text/x-python",
   "name": "python",
   "nbconvert_exporter": "python",
   "pygments_lexer": "ipython3",
   "version": "3.7.16"
  },
  "papermill": {
   "default_parameters": {},
   "duration": 1.743603,
   "end_time": "2025-01-26T21:16:20.524014",
   "environment_variables": {},
   "exception": null,
   "input_path": "/opt/airflow/notebooks/prueba.ipynb",
   "output_path": "/opt/airflow/notebooks/prueba_output.ipynb",
   "parameters": {},
   "start_time": "2025-01-26T21:16:18.780411",
   "version": "2.4.0"
  }
 },
 "nbformat": 4,
 "nbformat_minor": 5
}